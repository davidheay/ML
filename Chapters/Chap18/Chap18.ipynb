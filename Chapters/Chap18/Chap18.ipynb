{
    "cells": [
        {
            "cell_type": "code",
            "execution_count": 162,
            "source": [
                "import matplotlib.pyplot as plt\n",
                "import pandas as pd\n",
                "import numpy as np\n",
                "import math\n",
                "\n",
                "class BayesClassifier:\n",
                "    def train(self,df):\n",
                "        print(\"==== training\")\n",
                "        self.df = df\n",
                "        self.D = {}\n",
                "        for index, row in df.iterrows():\n",
                "            if row[4] not in self.D.keys():\n",
                "                self.D[row[4]] = []\n",
                "            self.D[row[4]].append(np.array([row[0], row[1]]))\n",
                "        self.n = {}\n",
                "        self.Pc = {}\n",
                "        self.miu = {}\n",
                "        self.Z = {}\n",
                "        self.cov = {}\n",
                "        for key in self.D:\n",
                "            self.n[key] = len(self.D[key])\n",
                "            self.Pc[key] = self.n[key]/len(df)\n",
                "            self.miu[key] = (1/self.n[key]) * np.sum(self.D[key],axis=0)\n",
                "            self.Z[key] = self.D[key]-self.miu[key].transpose()\n",
                "            self.cov[key] = 1/self.n[key] * np.dot(self.Z[key].transpose(), self.Z[key])\n",
                "        print(\"==== train finished\")\n",
                "\n",
                "    def predict(self,x):\n",
                "        self.x = x\n",
                "        d = len(self.D[list(self.D.keys())[0]][0])\n",
                "        res = {}\n",
                "        for key in self.D:\n",
                "            print(self.cov[key])\n",
                "            Fi = ((1/((math.sqrt(2*math.pi)**d) * np.sqrt(np.linalg.det(self.cov[key])))) * np.exp(-((x-self.miu[key]).transpose().dot(np.linalg.inv(self.cov[key])).dot((x-self.miu[key])))/2))\n",
                "            Total = Fi * self.Pc[key]\n",
                "            res[key] = Total\n",
                "        # print(res)\n",
                "        # print(max(res, key=res.get))\n",
                "        return max(res, key=res.get)\n",
                "    def plot(self,arrayAxis):\n",
                "        plt.figure(2, figsize=(8, 6))\n",
                "        X = self.df.iloc[:, arrayAxis].values\n",
                "        colors={'setosa':'red','versicolor':'blue','virginica':'black'}\n",
                "        plt.xlabel(self.df.columns[arrayAxis[0]])\n",
                "        plt.ylabel(self.df.columns[arrayAxis[1]])\n",
                "        plt.scatter(X[:, 0], X[:, 1],edgecolor='k',c=self.df[\"species\"].map(colors))\n",
                "        plt.scatter(self.x[0],self.x[1],c='yellow')\n",
                "        plt.show()\n",
                "\n",
                "\n",
                "model = BayesClassifier()   \n",
                "\n",
                "model.train(pd.read_csv('iris.csv'))\n",
                "print(model.predict([5,3]))\n",
                "# model.plot([0,1])"
            ],
            "outputs": [
                {
                    "output_type": "stream",
                    "name": "stdout",
                    "text": [
                        "==== training\n",
                        "==== train finished\n",
                        "[[0.121764 0.098292]\n",
                        " [0.098292 0.142276]]\n",
                        "[[0.261104 0.08348 ]\n",
                        " [0.08348  0.0965  ]]\n",
                        "[[0.396256 0.091888]\n",
                        " [0.091888 0.101924]]\n",
                        "setosa\n"
                    ]
                }
            ],
            "metadata": {}
        },
        {
            "cell_type": "code",
            "execution_count": null,
            "source": [
                "import matplotlib.pyplot as plt\n",
                "import pandas as pd\n",
                "import numpy as np\n",
                "import math\n",
                "\n",
                "\n",
                "class NaiveBayesClassifier:\n",
                "    def train(self, df):\n",
                "        print(\"==== training\")\n",
                "        self.df = df\n",
                "        self.D = {'setosa': [], 'others': []}\n",
                "        for index, row in df.iterrows():\n",
                "            # if row[4] not in self.D.keys():\n",
                "            #     self.D[row[4]] = []\n",
                "            if row[4] != 'setosa':\n",
                "                row[4] = 'others'\n",
                "            self.D[row[4]].append(np.array([row[0], row[1]]))\n",
                "        self.n = {}\n",
                "        self.Pc = {}\n",
                "        self.miu = {}\n",
                "        self.Z = {}\n",
                "        self.var = {}\n",
                "        for i, key in enumerate(self.D):\n",
                "            self.n[key] = len(self.D[key])\n",
                "            self.Pc[key] = self.n[key]/len(df)\n",
                "            self.miu[key] = (1/self.n[key]) * sum(self.D[key])\n",
                "            self.Z[key] = self.D[key]-self.miu[key].transpose()\n",
                "            self.var[key] = np.diag(np.diag(1/self.n[key] *  self.Z[key].transpose().dot(self.Z[key])))\n",
                "\n",
                "    def predict(self, x):\n",
                "        self.x = x\n",
                "        res = {}\n",
                "        for i, key in enumerate(self.D):\n",
                "            temp = 1\n",
                "            for j in range(0, len(self.D[list(self.D.keys())[0]][0])):\n",
                "                temp = temp * (1/(math.sqrt(2*math.pi)*math.sqrt(self.var[key][j, j]))*np.exp(-((x[j]-self.miu[key][j])**2)/(2*self.var[key][j, j])))\n",
                "            Total = self.Pc[key] * temp\n",
                "            res[key] = Total\n",
                "        return max(res, key=res.get)\n",
                "\n",
                "    def plot(self, arrayAxis):\n",
                "        plt.figure(2, figsize=(8, 6))\n",
                "        X = self.df.iloc[:, arrayAxis].values\n",
                "        colors = {'setosa': 'red', 'versicolor': 'blue', 'virginica': 'black'}\n",
                "        plt.xlabel(self.df.columns[arrayAxis[0]])\n",
                "        plt.ylabel(self.df.columns[arrayAxis[1]])\n",
                "        plt.scatter(X[:, 0], X[:, 1], edgecolor='k',\n",
                "                    c=self.df[\"species\"].map(colors))\n",
                "        plt.scatter(self.x[0], self.x[1], c='yellow')\n",
                "        plt.show()\n",
                "\n",
                "\n",
                "model = NaiveBayesClassifier()\n",
                "\n",
                "model.train(pd.read_csv('iris.csv'))\n",
                "print(model.predict([6.75, 4.25]))\n",
                "# model.plot([0, 1])\n"
            ],
            "outputs": [
                {
                    "output_type": "stream",
                    "name": "stdout",
                    "text": [
                        "==== training\n",
                        "setosa\n",
                        "0.3333333333333333\n",
                        "3.9984048539269456e-07\n",
                        "others\n",
                        "0.6666666666666666\n",
                        "9.596568862873244e-05\n",
                        "{'setosa': 1.3328016179756483e-07, 'others': 6.397712575248828e-05}\n",
                        "others\n"
                    ]
                }
            ],
            "metadata": {}
        },
        {
            "cell_type": "code",
            "execution_count": null,
            "source": [
                "\n",
                "import pandas as pd\n",
                "import matplotlib.pyplot as plt\n",
                "df = pd.read_csv('iris.csv')\n",
                "plt.figure(2, figsize=(8, 6))\n",
                "X = df.iloc[:, :4].values\n",
                "colors={'setosa':'red','versicolor':'blue','virginica':'black'}\n",
                "plt.xlabel(df.columns[0])\n",
                "plt.ylabel(df.columns[1])\n",
                "plt.scatter(X[:, 0], X[:, 1],edgecolor='k',c=df[\"species\"].map(colors))\n",
                "# for temp in pre:\n",
                "#     plt.scatter(temp[0],temp[1],c='yellow')\n",
                "plt.show()\n"
            ],
            "outputs": [
                {
                    "output_type": "display_data",
                    "data": {
                        "text/plain": [
                            "<Figure size 576x432 with 1 Axes>"
                        ],
                        "image/png": "[encoded data removed]"
                    },
                    "metadata": {
                        "needs_background": "light"
                    }
                }
            ],
            "metadata": {}
        }
    ],
    "metadata": {
        "orig_nbformat": 4,
        "language_info": {
            "name": "python",
            "version": "3.8.10",
            "mimetype": "text/x-python",
            "codemirror_mode": {
                "name": "ipython",
                "version": 3
            },
            "pygments_lexer": "ipython3",
            "nbconvert_exporter": "python",
            "file_extension": ".py"
        },
        "kernelspec": {
            "name": "python3",
            "display_name": "Python 3.8.10 64-bit"
        },
        "interpreter": {
            "hash": "916dbcbb3f70747c44a77c7bcd40155683ae19c65e1c03b4aa3499c5328201f1"
        }
    },
    "nbformat": 4,
    "nbformat_minor": 2
}