{
    "cells": [
        {
            "cell_type": "code",
            "execution_count": 108,
            "source": [
                "# %matplotlib inline\n",
                "%matplotlib widget\n",
                "from mpl_toolkits.mplot3d import axes3d\n",
                "from sklearn import decomposition\n",
                "import random\n",
                "import math\n",
                "import numpy as np\n",
                "import pandas as pd\n",
                "import matplotlib.pyplot as plt\n",
                "\n",
                "\n",
                "class LogisticRegressionSGA:\n",
                "    def __init__(self, _n=0.01, _e=0.01):\n",
                "        self._n = _n\n",
                "        self._e = _e\n",
                "\n",
                "    def train(self, _X, _Y):\n",
                "        d = len(_X[0])\n",
                "        n = len(_X)\n",
                "        _X = np.insert(_X, 0, [1 for i in range(n)], axis=1)\n",
                "        t = 0\n",
                "        w = []\n",
                "        w.append(np.array([0 for i in range(d+1)]).T)\n",
                "        temp = np.arange(n)\n",
                "        np.random.shuffle(temp)\n",
                "        _X = _X[temp]\n",
                "        _Y = _Y[temp]\n",
                "\n",
                "        while True:\n",
                "            wCopy = w[-1]\n",
                "            for x, y in zip(_X, _Y):\n",
                "                gradient = (y-self.sigmoid(np.dot(wCopy, x)))*x\n",
                "                wCopy = wCopy+self._n*gradient\n",
                "            w.append(wCopy)\n",
                "            t += 1\n",
                "            if np.linalg.norm(w[t]-w[t-1]) <= self._e:\n",
                "                break\n",
                "        self._w = w[-1]\n",
                "        return w[-1]\n",
                "\n",
                "    def predict(self, X):\n",
                "        res = []\n",
                "        for x in X:\n",
                "            x = np.insert(x, 0, 1, axis=0)\n",
                "            res.append(self.sigmoid(np.dot(self._w, x)))\n",
                "        return res\n",
                "\n",
                "    def sigmoid(self, _z):\n",
                "        return math.exp(_z)/(1+math.exp(_z))\n",
                "\n",
                "\n",
                "df = pd.read_csv('iris.csv')\n",
                "X = df.iloc[:, :4].to_numpy()\n",
                "Y = df.iloc[:, -1].to_numpy()\n",
                "\n",
                "pca = decomposition.PCA(n_components=2)\n",
                "pca.fit(X)\n",
                "X = pca.transform(X)\n",
                "\n",
                "Ytest = np.where(Y == \"virginica\", 1, Y)\n",
                "Ytest = np.where(Ytest != 1, 0, Ytest)\n",
                "\n",
                "model = LogisticRegressionSGA()\n",
                "a = model.train(X, Ytest)\n",
                "Y = np.where(Y == \"virginica\", \"b\", Y)\n",
                "Y = np.where(Y != \"b\", \"r\", Y)\n",
                "\n",
                "fig = plt.figure(figsize=(4, 4))\n",
                "\n",
                "tempX = list(X[:, 0])\n",
                "tempY = list(X[:, 1])\n",
                "tempZ = list(Ytest)\n",
                "\n",
                "ax = fig.add_subplot(111, projection='3d')\n",
                "ax.scatter(xs=tempX, ys=tempY, zs=tempZ, c=list(Y))\n",
                "print(a)\n",
                "\n",
                "a, b, c, d = a[1], a[2], 1, a[0]\n",
                "\n",
                "x = np.linspace(min(tempX), max(tempX), 30)\n",
                "y = np.linspace(min(tempY), max(tempY), 30)\n",
                "c = [[[], []]]\n",
                "xt = []\n",
                "for i in range(len(x)):\n",
                "    xt.append(np.array([x[i], y[i]]))\n",
                "X, Y = np.meshgrid(x, y)\n",
                "# Z = (d - a*X - b*Y) / c\n",
                "Z = np.array(model.predict(xt))/(X*0+1)\n",
                "surf = ax.plot_surface(X, Y, Z, alpha=0.54)\n",
                "# ax.set_xlim(min(tempX),max(tempX))\n",
                "ax.set_xlabel(\"X\")\n",
                "# ax.set_ylim(min(tempY),max(tempY))\n",
                "ax.set_ylabel(\"Y\")\n",
                "# ax.set_zlim(min(tempZ)-0.5,max(tempZ)+0.5)\n",
                "fig.set_size_inches(10, 5)\n",
                "ax.view_init(12, -99)\n",
                "\n",
                "plt.draw()\n"
            ],
            "outputs": [
                {
                    "output_type": "display_data",
                    "data": {
                        "text/plain": [
                            "Canvas(toolbar=Toolbar(toolitems=[('Home', 'Reset original view', 'home', 'home'), ('Back', 'Back to previous …"
                        ],
                        "application/vnd.jupyter.widget-view+json": {
                            "version_major": 2,
                            "version_minor": 0,
                            "model_id": "c93b559bd88d409ba2a9182ce45f28a5"
                        }
                    },
                    "metadata": {}
                },
                {
                    "output_type": "stream",
                    "name": "stdout",
                    "text": [
                        "[-6.80410221  5.07009903 -3.29380277]\n"
                    ]
                }
            ],
            "metadata": {}
        }
    ],
    "metadata": {
        "orig_nbformat": 4,
        "language_info": {
            "name": "python",
            "version": "3.8.10",
            "mimetype": "text/x-python",
            "codemirror_mode": {
                "name": "ipython",
                "version": 3
            },
            "pygments_lexer": "ipython3",
            "nbconvert_exporter": "python",
            "file_extension": ".py"
        },
        "kernelspec": {
            "name": "python3",
            "display_name": "Python 3.8.10 64-bit"
        },
        "interpreter": {
            "hash": "916dbcbb3f70747c44a77c7bcd40155683ae19c65e1c03b4aa3499c5328201f1"
        }
    },
    "nbformat": 4,
    "nbformat_minor": 2
}