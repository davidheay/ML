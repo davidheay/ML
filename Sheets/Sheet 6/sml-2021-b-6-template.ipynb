{
 "cells": [
  {
   "cell_type": "code",
   "execution_count": null,
   "source": [
    "import numpy as np\n",
    "import pandas as pd\n",
    "import matplotlib.pyplot as plt\n",
    "import itertools as it"
   ],
   "outputs": [],
   "metadata": {}
  },
  {
   "cell_type": "code",
   "execution_count": null,
   "source": [
    "def plotHyperplane(X, y, w, ax=None):\n",
    "    \n",
    "    if ax is None:\n",
    "        fig, ax = plt.subplots()\n",
    "    \n",
    "    # scatter points\n",
    "    classes = list(np.unique(y))\n",
    "    X1 = X[y == classes[0]]\n",
    "    X2 = X[y == classes[1]]\n",
    "    ax.scatter(X1[:,0], X1[:,1])\n",
    "    ax.scatter(X2[:,0], X2[:,1])\n",
    "    \n",
    "    # compute slope and intercept representing the hyperplane\n",
    "    random_vec = np.random.rand(2)\n",
    "    slope = -w[1] / w[2]\n",
    "    intercept = -w[0]/w[2]\n",
    "    a2_min, a2_max = min(X[:,1]), max(X[:,1])\n",
    "    q1 = (a2_max - intercept) / slope\n",
    "    q2 = (a2_min - intercept) / slope\n",
    "    x_from = max(min(X[:,0]), min(q1, q2))\n",
    "    x_to = min(max(X[:,0]), max(q1, q2))\n",
    "    hp = lambda x: x * slope + intercept\n",
    "    \n",
    "    # plot the hyperplane\n",
    "    domain = np.linspace(x_from, x_to, 100)\n",
    "    ax.plot(domain, hp(domain), color=\"black\")\n",
    "    return ax"
   ],
   "outputs": [],
   "metadata": {}
  },
  {
   "cell_type": "code",
   "execution_count": null,
   "source": [
    "dfIris = pd.read_csv(\"iris.csv\")\n",
    "\n",
    "fig, ax = plt.subplots(6, 1, figsize=(20, 30))\n",
    "\n",
    "y = dfIris.replace(\"virginica\", \"versicolor\").values[:,4]\n",
    "for j, combo in enumerate(it.combinations(range(4), 2)):\n",
    "    X = dfIris.values[:,combo].astype(float)\n",
    "    svc = SVM()\n",
    "    svc.train(X, y)\n",
    "    plotHyperplane(X, y, svc.w, ax[j])\n",
    "    ax[j].set_title(\"\\nSlack: \" + str(np.round(np.sum(np.maximum(0, svc.slacks)), 2)))\n",
    "    predictions = svc.predict(X)\n",
    "    ax[j].set_xlabel(dfIris.columns[combo[0]])\n",
    "    ax[j].set_ylabel(dfIris.columns[combo[1]])\n",
    "fig.tight_layout()"
   ],
   "outputs": [],
   "metadata": {}
  }
 ],
 "metadata": {
  "kernelspec": {
   "display_name": "Python 3",
   "language": "python",
   "name": "python3"
  },
  "language_info": {
   "codemirror_mode": {
    "name": "ipython",
    "version": 3
   },
   "file_extension": ".py",
   "mimetype": "text/x-python",
   "name": "python",
   "nbconvert_exporter": "python",
   "pygments_lexer": "ipython3",
   "version": "3.7.11"
  }
 },
 "nbformat": 4,
 "nbformat_minor": 4
}