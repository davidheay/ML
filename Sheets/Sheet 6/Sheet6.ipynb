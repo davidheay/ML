{
 "cells": [
  {
   "cell_type": "markdown",
   "source": [
    "# Integrantes\n",
    "* ### David Herrera\n",
    "* ### Estid Lozano"
   ],
   "metadata": {}
  },
  {
   "cell_type": "code",
   "execution_count": 2,
   "source": [
    "# Imports\n",
    "from collections import Counter\n",
    "import matplotlib.pyplot as plt\n",
    "import numpy as np\n",
    "import pandas as pd\n",
    "import numpy as np"
   ],
   "outputs": [],
   "metadata": {}
  },
  {
   "cell_type": "markdown",
   "source": [
    "# Exercise 1\n"
   ],
   "metadata": {}
  },
  {
   "cell_type": "markdown",
   "source": [
    "## 1) Suppose that we have a linearly separable dataset with instances for both positive and negative classes, and we have an optimal hyperplane h computed by the SVM (for linearly separable problems). Show that there is at least one support vector for either of the two classes for h."
   ],
   "metadata": {}
  },
  {
   "cell_type": "markdown",
   "source": [
    "\n",
    "\n",
    "If **h** is optimal, its weight is calculated using:\n",
    "\n",
    "$ \\LARGE h^* = \\argmax_h({{\\delta^*}_h}) = \\argmax_{w,b}(\\frac{1}{\\lvert w \\rvert})$\n",
    "\n",
    "and using lagrange we get:\n",
    "\n",
    "$\\LARGE \\min \\boldsymbol{L} =\\frac{1}{2} {\\lvert w \\rvert}^2- \\sum_{i=1}^{n} \\alpha_{i}(y_i(w^t x_i+b)-1) $\n",
    "\n",
    "and we find:\n",
    "\n",
    "$ \\LARGE \\frac{\\delta}{\\delta b}L=\\sum_{i=1}^{n} \\alpha_i y_i = 0$ and $\\LARGE W = \\sum_{i=1}^{n} \\alpha_i y_i x_i  $\n",
    "\n",
    "* the points with $\\alpha_i= 0$ are not support vectors and thus do not play a role in determining w\n",
    "* making at least two points with different classes are in D\n"
   ],
   "metadata": {}
  },
  {
   "cell_type": "markdown",
   "source": [
    "## 2) Show that \n",
    "$$  \\frac{\\delta (w^2 / 2)}{\\delta w_{k}}= w_{k} $$"
   ],
   "metadata": {}
  },
  {
   "cell_type": "markdown",
   "source": [
    "$$\n",
    "\\LARGE\n",
    "w= \n",
    "\\begin{pmatrix}\n",
    "   w_{1} \\\\\n",
    "   w_{2} \\\\\n",
    "   w_{3} \\\\\n",
    "   . \\\\\n",
    "   . \\\\\n",
    "   w_{n} \\\\\n",
    "\\end{pmatrix}\n",
    "\\rarr\n",
    "{w^2 \\over 2 }= \n",
    "\\begin{pmatrix}\n",
    "   w_{1}^2 \\over 2 \\\\\n",
    "   w_{2}^2 \\over 2 \\\\\n",
    "   w_{3}^2 \\over 2 \\\\\n",
    "   . \\\\\n",
    "   . \\\\\n",
    "   w_{n}^2 \\over 2 \\\\\n",
    "\\end{pmatrix}\n",
    "\\rarr\n",
    "\n",
    "{ \\delta (w^2 / 2) \\over \\delta w_{k}}= \n",
    "\\begin{pmatrix}\n",
    "   \\delta (w_{1}^2 / 2 ) \\over \\delta w_{k} \\\\\n",
    "   \\delta (w_{2}^2 / 2 ) \\over \\delta w_{k} \\\\\n",
    "   \\delta (w_{3}^2 / 2 ) \\over \\delta w_{k} \\\\\n",
    "   . \\\\\n",
    "   \\delta (w_{k}^2 / 2 ) \\over \\delta w_{k} \\\\\n",
    "   . \\\\\n",
    "   \\delta (w_{n}^2 / 2 ) \\over \\delta w_{k}\\\\\n",
    "\\end{pmatrix}\n",
    "\n",
    "\\rarr\n",
    "\n",
    "{ \\delta (w^2 / 2) \\over \\delta w_{k}}= \n",
    "\\begin{pmatrix}\n",
    "   0 \\\\\n",
    "   0 \\\\\n",
    "   0 \\\\\n",
    "   . \\\\\n",
    "   w_{k}\\\\\n",
    "   . \\\\\n",
    "   0\\\\\n",
    "\\end{pmatrix}\n",
    "=\n",
    "w_{k}\n",
    " \n",
    "$$"
   ],
   "metadata": {}
  },
  {
   "cell_type": "markdown",
   "source": [
    "## 3) When solving the optimization problem in Eq. (21.9) directly with a gradient descent algorithm, we need to fix two problems. Describe how you would do this:\n",
    "### a) it seems that there is no obvious initial solution. Provide an algorithm that will generate a feasible solution for w, b.\n",
    "1) set 1 in the first position the w vector  and the remainder in 0\n",
    "\n",
    "2) set b as the average of the first attribute of all points\n"
   ],
   "metadata": {}
  },
  {
   "cell_type": "code",
   "execution_count": 80,
   "source": [
    "X = np.array([[1, 2], [1.5, 1], [1.5, 2], [2, 1]])\n",
    "Y = np.array([-1, -1, 1, 1])\n",
    "\n",
    "def get_b_w(_X, _Y):\n",
    "    # find mid point of each class\n",
    "    mid1 = np.average([x for x, y in zip(_X, _Y) if y == 1], axis=0)\n",
    "    mid2 = np.average([x for x, y in zip(_X, _Y) if y == -1], axis=0)\n",
    "    # find mid point\n",
    "    mid = np.add(mid1, mid2)/2\n",
    "    # vector between mid points\n",
    "    u = mid2-mid1\n",
    "    # perpendicular vector\n",
    "    v = np.array([-u[1], u[0]])\n",
    "    # weigths\n",
    "    w1=v[1] # w1=1\n",
    "    w2=-v[0] # w2=-1\n",
    "    b = (-w1*mid[0])-(w2*mid[1])\n",
    "    w = np.array([w1, w2])\n",
    "    return b, w\n",
    "\n",
    "b, w = get_b_w(X, Y)\n",
    "print(b, w)\n"
   ],
   "outputs": [
    {
     "output_type": "stream",
     "name": "stdout",
     "text": [
      "0.75 [-0.5  0. ]\n"
     ]
    }
   ],
   "metadata": {}
  },
  {
   "cell_type": "markdown",
   "source": [
    "### b) On one hand, the gradient of the objective function for b is 0, so we would never adjust it with gradient descent. On the other hand, very small entries in w might violate the linear contraints for any b. Describe an algorithm that determines whether, for a given w, there is a b so that the constraints are satisfied, and that returns such a b"
   ],
   "metadata": {}
  },
  {
   "cell_type": "code",
   "execution_count": 48,
   "source": [
    "\n",
    "def checkW(_w,_X,_Y):\n",
    "    # array of posible b\n",
    "    res = []\n",
    "    # for loop in data\n",
    "    for x1,y1 in zip(_X,_Y):\n",
    "        # init variable with true value\n",
    "        correct = True\n",
    "        # get the maximum value of b by the current point\n",
    "        b = (y1 - np.dot(_w,x1))\n",
    "        \n",
    "        # for-loop to validate that all other points in the data set satisfy the condition with this b\n",
    "        for x,y in zip(_X,_Y):\n",
    "            # if b does not satisfy condition b is not correct\n",
    "            if not (y*(np.dot(_w,x)+b)>=1):\n",
    "                correct=False\n",
    "                break\n",
    "        # if for all points b satisfies, the point is added\n",
    "        if correct:\n",
    "            res.append(b)\n",
    "    return res\n",
    "print(checkW(w,X,Y))"
   ],
   "outputs": [
    {
     "output_type": "stream",
     "name": "stdout",
     "text": [
      "[]\n"
     ]
    }
   ],
   "metadata": {}
  },
  {
   "cell_type": "markdown",
   "source": [
    "# Exercise 2\n",
    "Implement a learner SVM (no need for probabilities) that can perform binary classification by determining a maximum margin hyperplane.\n",
    "\n",
    "Train the SVM using a gradient descent algorithm solving the optimization problem in Eq.\n",
    "(21.9). Use your algorithms from exercise 1 (3) to use an initial solution, which you then\n",
    "update using the update rule\n",
    "wt+1 ← wt − ηwt\n",
    "\n",
    "Here, η is a step size, which is a parameter of the algorithm. Make sure to update b so that\n",
    "you maintain a valid solution.\n",
    "\n",
    "You can use a step size η = 0.1 and ε = 0.01 by default; you can also make your SVM\n",
    "configurable in these parameters.\n",
    "\n",
    "Make sure that the weight vector (including the bias weight in the first place) is stored in the\n",
    "variable w, so that it can be accessed after training.\n",
    "\n",
    "Implement the predict method in order to obtain predictions from your model."
   ],
   "metadata": {}
  },
  {
   "cell_type": "code",
   "execution_count": 83,
   "source": [
    "class SVM():\n",
    "    def __init__(self, _n=0.01, _e=0.01):\n",
    "        self._n = _n\n",
    "        self._e = _e\n",
    "\n",
    "    def train(self, _X, _Y):\n",
    "        b, w = get_b_w(_X, _Y)\n",
    "        # w=np.array([1,1])\n",
    "        W = [w]\n",
    "        t = 0\n",
    "        # while(True):\n",
    "        #     wCopy = W[-1]\n",
    "        #     for x, y in zip(_X, _Y):\n",
    "        #         gradient = (y * x) #*alpha\n",
    "        #         wCopy = wCopy-self._n*gradient\n",
    "        #     # b=checkW(wCopy,_X,_Y)\n",
    "        #     # if(b):\n",
    "        #     t+= 1\n",
    "        #     W.append(wCopy)\n",
    "        #     if np.linalg.norm(W[t]-W[t-1]) <=self._e:\n",
    "        #         break\n",
    "        w = W[-1]\n",
    "        x1 = np.linspace(4.5, 7, 50)\n",
    "        y1 = (-w[0]/w[1])*x1-b/w[1]\n",
    "        plt.plot(x1, y1, '-r')\n",
    "\n",
    "\n",
    "df = pd.read_csv('iris.csv')\n",
    "df['species'] = df['species'].apply(lambda s: 1 if s == 'setosa' else -1)\n",
    "X = df.iloc[:, :2].to_numpy()\n",
    "Y = df.iloc[:, -1].to_numpy()\n",
    "\n",
    "model = SVM()\n",
    "model.train(X, Y)\n",
    "\n",
    "for x, y in zip(X, Y):\n",
    "    plt.scatter(x[0], x[1], color='r' if y == 1 else 'b', marker='+')\n"
   ],
   "outputs": [
    {
     "output_type": "display_data",
     "data": {
      "text/plain": [
       "<Figure size 432x288 with 1 Axes>"
      ],
      "image/svg+xml": "<?xml version=\"1.0\" encoding=\"utf-8\" standalone=\"no\"?>\n<!DOCTYPE svg PUBLIC \"-//W3C//DTD SVG 1.1//EN\"\n  \"http://www.w3.org/Graphics/SVG/1.1/DTD/svg11.dtd\">\n<svg height=\"248.518125pt\" version=\"1.1\" viewBox=\"0 0 363.750426 248.518125\" width=\"363.750426pt\" xmlns=\"http://www.w3.org/2000/svg\" xmlns:xlink=\"http://www.w3.org/1999/xlink\">\n <metadata>\n  <rdf:RDF xmlns:cc=\"http://creativecommons.org/ns#\" xmlns:dc=\"http://purl.org/dc/elements/1.1/\" xmlns:rdf=\"http://www.w3.org/1999/02/22-rdf-syntax-ns#\">\n   <cc:Work>\n    <dc:type rdf:resource=\"http://purl.org/dc/dcmitype/StillImage\"/>\n    <dc:date>2021-09-07T22:20:29.751619</dc:date>\n    <dc:format>image/svg+xml</dc:format>\n    <dc:creator>\n     <cc:Agent>\n      <dc:title>Matplotlib v3.4.3, https://matplotlib.org/</dc:title>\n     </cc:Agent>\n    </dc:creator>\n   </cc:Work>\n  </rdf:RDF>\n </metadata>\n <defs>\n  <style type=\"text/css\">*{stroke-linecap:butt;stroke-linejoin:round;}</style>\n </defs>\n <g id=\"figure_1\">\n  <g id=\"patch_1\">\n   <path d=\"M 0 248.518125 \nL 363.750426 248.518125 \nL 363.750426 0 \nL 0 0 \nz\n\" style=\"fill:none;\"/>\n  </g>\n  <g id=\"axes_1\">\n   <g id=\"patch_2\">\n    <path d=\"M 20.5625 224.64 \nL 355.3625 224.64 \nL 355.3625 7.2 \nL 20.5625 7.2 \nz\n\" style=\"fill:#ffffff;\"/>\n   </g>\n   <g id=\"PathCollection_1\">\n    <defs>\n     <path d=\"M -3 0 \nL 3 0 \nM 0 3 \nL 0 -3 \n\" id=\"m2bcd8922db\" style=\"stroke:#ff0000;stroke-width:1.5;\"/>\n    </defs>\n    <g clip-path=\"url(#pfa30cf2651)\">\n     <use style=\"fill:#ff0000;stroke:#ff0000;stroke-width:1.5;\" x=\"103.417045\" xlink:href=\"#m2bcd8922db\" y=\"112.889816\"/>\n    </g>\n   </g>\n   <g id=\"PathCollection_2\">\n    <g clip-path=\"url(#pfa30cf2651)\">\n     <use style=\"fill:#ff0000;stroke:#ff0000;stroke-width:1.5;\" x=\"86.507955\" xlink:href=\"#m2bcd8922db\" y=\"130.076011\"/>\n    </g>\n   </g>\n   <g id=\"PathCollection_3\">\n    <g clip-path=\"url(#pfa30cf2651)\">\n     <use style=\"fill:#ff0000;stroke:#ff0000;stroke-width:1.5;\" x=\"69.598864\" xlink:href=\"#m2bcd8922db\" y=\"123.201533\"/>\n    </g>\n   </g>\n   <g id=\"PathCollection_4\">\n    <g clip-path=\"url(#pfa30cf2651)\">\n     <use style=\"fill:#ff0000;stroke:#ff0000;stroke-width:1.5;\" x=\"61.144318\" xlink:href=\"#m2bcd8922db\" y=\"126.638772\"/>\n    </g>\n   </g>\n   <g id=\"PathCollection_5\">\n    <g clip-path=\"url(#pfa30cf2651)\">\n     <use style=\"fill:#ff0000;stroke:#ff0000;stroke-width:1.5;\" x=\"94.9625\" xlink:href=\"#m2bcd8922db\" y=\"109.452576\"/>\n    </g>\n   </g>\n   <g id=\"PathCollection_6\">\n    <g clip-path=\"url(#pfa30cf2651)\">\n     <use style=\"fill:#ff0000;stroke:#ff0000;stroke-width:1.5;\" x=\"128.780682\" xlink:href=\"#m2bcd8922db\" y=\"99.140859\"/>\n    </g>\n   </g>\n   <g id=\"PathCollection_7\">\n    <g clip-path=\"url(#pfa30cf2651)\">\n     <use style=\"fill:#ff0000;stroke:#ff0000;stroke-width:1.5;\" x=\"61.144318\" xlink:href=\"#m2bcd8922db\" y=\"116.327055\"/>\n    </g>\n   </g>\n   <g id=\"PathCollection_8\">\n    <g clip-path=\"url(#pfa30cf2651)\">\n     <use style=\"fill:#ff0000;stroke:#ff0000;stroke-width:1.5;\" x=\"94.9625\" xlink:href=\"#m2bcd8922db\" y=\"116.327055\"/>\n    </g>\n   </g>\n   <g id=\"PathCollection_9\">\n    <g clip-path=\"url(#pfa30cf2651)\">\n     <use style=\"fill:#ff0000;stroke:#ff0000;stroke-width:1.5;\" x=\"44.235227\" xlink:href=\"#m2bcd8922db\" y=\"133.51325\"/>\n    </g>\n   </g>\n   <g id=\"PathCollection_10\">\n    <g clip-path=\"url(#pfa30cf2651)\">\n     <use style=\"fill:#ff0000;stroke:#ff0000;stroke-width:1.5;\" x=\"86.507955\" xlink:href=\"#m2bcd8922db\" y=\"126.638772\"/>\n    </g>\n   </g>\n   <g id=\"PathCollection_11\">\n    <g clip-path=\"url(#pfa30cf2651)\">\n     <use style=\"fill:#ff0000;stroke:#ff0000;stroke-width:1.5;\" x=\"128.780682\" xlink:href=\"#m2bcd8922db\" y=\"106.015337\"/>\n    </g>\n   </g>\n   <g id=\"PathCollection_12\">\n    <g clip-path=\"url(#pfa30cf2651)\">\n     <use style=\"fill:#ff0000;stroke:#ff0000;stroke-width:1.5;\" x=\"78.053409\" xlink:href=\"#m2bcd8922db\" y=\"116.327055\"/>\n    </g>\n   </g>\n   <g id=\"PathCollection_13\">\n    <g clip-path=\"url(#pfa30cf2651)\">\n     <use style=\"fill:#ff0000;stroke:#ff0000;stroke-width:1.5;\" x=\"78.053409\" xlink:href=\"#m2bcd8922db\" y=\"130.076011\"/>\n    </g>\n   </g>\n   <g id=\"PathCollection_14\">\n    <g clip-path=\"url(#pfa30cf2651)\">\n     <use style=\"fill:#ff0000;stroke:#ff0000;stroke-width:1.5;\" x=\"35.780682\" xlink:href=\"#m2bcd8922db\" y=\"130.076011\"/>\n    </g>\n   </g>\n   <g id=\"PathCollection_15\">\n    <g clip-path=\"url(#pfa30cf2651)\">\n     <use style=\"fill:#ff0000;stroke:#ff0000;stroke-width:1.5;\" x=\"162.598864\" xlink:href=\"#m2bcd8922db\" y=\"95.70362\"/>\n    </g>\n   </g>\n   <g id=\"PathCollection_16\">\n    <g clip-path=\"url(#pfa30cf2651)\">\n     <use style=\"fill:#ff0000;stroke:#ff0000;stroke-width:1.5;\" x=\"154.144318\" xlink:href=\"#m2bcd8922db\" y=\"81.954663\"/>\n    </g>\n   </g>\n   <g id=\"PathCollection_17\">\n    <g clip-path=\"url(#pfa30cf2651)\">\n     <use style=\"fill:#ff0000;stroke:#ff0000;stroke-width:1.5;\" x=\"128.780682\" xlink:href=\"#m2bcd8922db\" y=\"99.140859\"/>\n    </g>\n   </g>\n   <g id=\"PathCollection_18\">\n    <g clip-path=\"url(#pfa30cf2651)\">\n     <use style=\"fill:#ff0000;stroke:#ff0000;stroke-width:1.5;\" x=\"103.417045\" xlink:href=\"#m2bcd8922db\" y=\"112.889816\"/>\n    </g>\n   </g>\n   <g id=\"PathCollection_19\">\n    <g clip-path=\"url(#pfa30cf2651)\">\n     <use style=\"fill:#ff0000;stroke:#ff0000;stroke-width:1.5;\" x=\"154.144318\" xlink:href=\"#m2bcd8922db\" y=\"102.578098\"/>\n    </g>\n   </g>\n   <g id=\"PathCollection_20\">\n    <g clip-path=\"url(#pfa30cf2651)\">\n     <use style=\"fill:#ff0000;stroke:#ff0000;stroke-width:1.5;\" x=\"103.417045\" xlink:href=\"#m2bcd8922db\" y=\"102.578098\"/>\n    </g>\n   </g>\n   <g id=\"PathCollection_21\">\n    <g clip-path=\"url(#pfa30cf2651)\">\n     <use style=\"fill:#ff0000;stroke:#ff0000;stroke-width:1.5;\" x=\"128.780682\" xlink:href=\"#m2bcd8922db\" y=\"116.327055\"/>\n    </g>\n   </g>\n   <g id=\"PathCollection_22\">\n    <g clip-path=\"url(#pfa30cf2651)\">\n     <use style=\"fill:#ff0000;stroke:#ff0000;stroke-width:1.5;\" x=\"103.417045\" xlink:href=\"#m2bcd8922db\" y=\"106.015337\"/>\n    </g>\n   </g>\n   <g id=\"PathCollection_23\">\n    <g clip-path=\"url(#pfa30cf2651)\">\n     <use style=\"fill:#ff0000;stroke:#ff0000;stroke-width:1.5;\" x=\"61.144318\" xlink:href=\"#m2bcd8922db\" y=\"109.452576\"/>\n    </g>\n   </g>\n   <g id=\"PathCollection_24\">\n    <g clip-path=\"url(#pfa30cf2651)\">\n     <use style=\"fill:#ff0000;stroke:#ff0000;stroke-width:1.5;\" x=\"103.417045\" xlink:href=\"#m2bcd8922db\" y=\"119.764294\"/>\n    </g>\n   </g>\n   <g id=\"PathCollection_25\">\n    <g clip-path=\"url(#pfa30cf2651)\">\n     <use style=\"fill:#ff0000;stroke:#ff0000;stroke-width:1.5;\" x=\"78.053409\" xlink:href=\"#m2bcd8922db\" y=\"116.327055\"/>\n    </g>\n   </g>\n   <g id=\"PathCollection_26\">\n    <g clip-path=\"url(#pfa30cf2651)\">\n     <use style=\"fill:#ff0000;stroke:#ff0000;stroke-width:1.5;\" x=\"94.9625\" xlink:href=\"#m2bcd8922db\" y=\"130.076011\"/>\n    </g>\n   </g>\n   <g id=\"PathCollection_27\">\n    <g clip-path=\"url(#pfa30cf2651)\">\n     <use style=\"fill:#ff0000;stroke:#ff0000;stroke-width:1.5;\" x=\"94.9625\" xlink:href=\"#m2bcd8922db\" y=\"116.327055\"/>\n    </g>\n   </g>\n   <g id=\"PathCollection_28\">\n    <g clip-path=\"url(#pfa30cf2651)\">\n     <use style=\"fill:#ff0000;stroke:#ff0000;stroke-width:1.5;\" x=\"111.871591\" xlink:href=\"#m2bcd8922db\" y=\"112.889816\"/>\n    </g>\n   </g>\n   <g id=\"PathCollection_29\">\n    <g clip-path=\"url(#pfa30cf2651)\">\n     <use style=\"fill:#ff0000;stroke:#ff0000;stroke-width:1.5;\" x=\"111.871591\" xlink:href=\"#m2bcd8922db\" y=\"116.327055\"/>\n    </g>\n   </g>\n   <g id=\"PathCollection_30\">\n    <g clip-path=\"url(#pfa30cf2651)\">\n     <use style=\"fill:#ff0000;stroke:#ff0000;stroke-width:1.5;\" x=\"69.598864\" xlink:href=\"#m2bcd8922db\" y=\"123.201533\"/>\n    </g>\n   </g>\n   <g id=\"PathCollection_31\">\n    <g clip-path=\"url(#pfa30cf2651)\">\n     <use style=\"fill:#ff0000;stroke:#ff0000;stroke-width:1.5;\" x=\"78.053409\" xlink:href=\"#m2bcd8922db\" y=\"126.638772\"/>\n    </g>\n   </g>\n   <g id=\"PathCollection_32\">\n    <g clip-path=\"url(#pfa30cf2651)\">\n     <use style=\"fill:#ff0000;stroke:#ff0000;stroke-width:1.5;\" x=\"128.780682\" xlink:href=\"#m2bcd8922db\" y=\"116.327055\"/>\n    </g>\n   </g>\n   <g id=\"PathCollection_33\">\n    <g clip-path=\"url(#pfa30cf2651)\">\n     <use style=\"fill:#ff0000;stroke:#ff0000;stroke-width:1.5;\" x=\"111.871591\" xlink:href=\"#m2bcd8922db\" y=\"92.266381\"/>\n    </g>\n   </g>\n   <g id=\"PathCollection_34\">\n    <g clip-path=\"url(#pfa30cf2651)\">\n     <use style=\"fill:#ff0000;stroke:#ff0000;stroke-width:1.5;\" x=\"137.235227\" xlink:href=\"#m2bcd8922db\" y=\"88.829142\"/>\n    </g>\n   </g>\n   <g id=\"PathCollection_35\">\n    <g clip-path=\"url(#pfa30cf2651)\">\n     <use style=\"fill:#ff0000;stroke:#ff0000;stroke-width:1.5;\" x=\"86.507955\" xlink:href=\"#m2bcd8922db\" y=\"126.638772\"/>\n    </g>\n   </g>\n   <g id=\"PathCollection_36\">\n    <g clip-path=\"url(#pfa30cf2651)\">\n     <use style=\"fill:#ff0000;stroke:#ff0000;stroke-width:1.5;\" x=\"94.9625\" xlink:href=\"#m2bcd8922db\" y=\"123.201533\"/>\n    </g>\n   </g>\n   <g id=\"PathCollection_37\">\n    <g clip-path=\"url(#pfa30cf2651)\">\n     <use style=\"fill:#ff0000;stroke:#ff0000;stroke-width:1.5;\" x=\"137.235227\" xlink:href=\"#m2bcd8922db\" y=\"112.889816\"/>\n    </g>\n   </g>\n   <g id=\"PathCollection_38\">\n    <g clip-path=\"url(#pfa30cf2651)\">\n     <use style=\"fill:#ff0000;stroke:#ff0000;stroke-width:1.5;\" x=\"86.507955\" xlink:href=\"#m2bcd8922db\" y=\"126.638772\"/>\n    </g>\n   </g>\n   <g id=\"PathCollection_39\">\n    <g clip-path=\"url(#pfa30cf2651)\">\n     <use style=\"fill:#ff0000;stroke:#ff0000;stroke-width:1.5;\" x=\"44.235227\" xlink:href=\"#m2bcd8922db\" y=\"130.076011\"/>\n    </g>\n   </g>\n   <g id=\"PathCollection_40\">\n    <g clip-path=\"url(#pfa30cf2651)\">\n     <use style=\"fill:#ff0000;stroke:#ff0000;stroke-width:1.5;\" x=\"103.417045\" xlink:href=\"#m2bcd8922db\" y=\"116.327055\"/>\n    </g>\n   </g>\n   <g id=\"PathCollection_41\">\n    <g clip-path=\"url(#pfa30cf2651)\">\n     <use style=\"fill:#ff0000;stroke:#ff0000;stroke-width:1.5;\" x=\"94.9625\" xlink:href=\"#m2bcd8922db\" y=\"112.889816\"/>\n    </g>\n   </g>\n   <g id=\"PathCollection_42\">\n    <g clip-path=\"url(#pfa30cf2651)\">\n     <use style=\"fill:#ff0000;stroke:#ff0000;stroke-width:1.5;\" x=\"52.689773\" xlink:href=\"#m2bcd8922db\" y=\"154.136685\"/>\n    </g>\n   </g>\n   <g id=\"PathCollection_43\">\n    <g clip-path=\"url(#pfa30cf2651)\">\n     <use style=\"fill:#ff0000;stroke:#ff0000;stroke-width:1.5;\" x=\"44.235227\" xlink:href=\"#m2bcd8922db\" y=\"123.201533\"/>\n    </g>\n   </g>\n   <g id=\"PathCollection_44\">\n    <g clip-path=\"url(#pfa30cf2651)\">\n     <use style=\"fill:#ff0000;stroke:#ff0000;stroke-width:1.5;\" x=\"94.9625\" xlink:href=\"#m2bcd8922db\" y=\"112.889816\"/>\n    </g>\n   </g>\n   <g id=\"PathCollection_45\">\n    <g clip-path=\"url(#pfa30cf2651)\">\n     <use style=\"fill:#ff0000;stroke:#ff0000;stroke-width:1.5;\" x=\"103.417045\" xlink:href=\"#m2bcd8922db\" y=\"102.578098\"/>\n    </g>\n   </g>\n   <g id=\"PathCollection_46\">\n    <g clip-path=\"url(#pfa30cf2651)\">\n     <use style=\"fill:#ff0000;stroke:#ff0000;stroke-width:1.5;\" x=\"78.053409\" xlink:href=\"#m2bcd8922db\" y=\"130.076011\"/>\n    </g>\n   </g>\n   <g id=\"PathCollection_47\">\n    <g clip-path=\"url(#pfa30cf2651)\">\n     <use style=\"fill:#ff0000;stroke:#ff0000;stroke-width:1.5;\" x=\"103.417045\" xlink:href=\"#m2bcd8922db\" y=\"102.578098\"/>\n    </g>\n   </g>\n   <g id=\"PathCollection_48\">\n    <g clip-path=\"url(#pfa30cf2651)\">\n     <use style=\"fill:#ff0000;stroke:#ff0000;stroke-width:1.5;\" x=\"61.144318\" xlink:href=\"#m2bcd8922db\" y=\"123.201533\"/>\n    </g>\n   </g>\n   <g id=\"PathCollection_49\">\n    <g clip-path=\"url(#pfa30cf2651)\">\n     <use style=\"fill:#ff0000;stroke:#ff0000;stroke-width:1.5;\" x=\"120.326136\" xlink:href=\"#m2bcd8922db\" y=\"106.015337\"/>\n    </g>\n   </g>\n   <g id=\"PathCollection_50\">\n    <g clip-path=\"url(#pfa30cf2651)\">\n     <use style=\"fill:#ff0000;stroke:#ff0000;stroke-width:1.5;\" x=\"94.9625\" xlink:href=\"#m2bcd8922db\" y=\"119.764294\"/>\n    </g>\n   </g>\n   <g id=\"PathCollection_51\">\n    <defs>\n     <path d=\"M -3 0 \nL 3 0 \nM 0 3 \nL 0 -3 \n\" id=\"m63f2c33be6\" style=\"stroke:#0000ff;stroke-width:1.5;\"/>\n    </defs>\n    <g clip-path=\"url(#pfa30cf2651)\">\n     <use style=\"fill:#0000ff;stroke:#0000ff;stroke-width:1.5;\" x=\"264.053409\" xlink:href=\"#m63f2c33be6\" y=\"123.201533\"/>\n    </g>\n   </g>\n   <g id=\"PathCollection_52\">\n    <g clip-path=\"url(#pfa30cf2651)\">\n     <use style=\"fill:#0000ff;stroke:#0000ff;stroke-width:1.5;\" x=\"213.326136\" xlink:href=\"#m63f2c33be6\" y=\"123.201533\"/>\n    </g>\n   </g>\n   <g id=\"PathCollection_53\">\n    <g clip-path=\"url(#pfa30cf2651)\">\n     <use style=\"fill:#0000ff;stroke:#0000ff;stroke-width:1.5;\" x=\"255.598864\" xlink:href=\"#m63f2c33be6\" y=\"126.638772\"/>\n    </g>\n   </g>\n   <g id=\"PathCollection_54\">\n    <g clip-path=\"url(#pfa30cf2651)\">\n     <use style=\"fill:#0000ff;stroke:#0000ff;stroke-width:1.5;\" x=\"137.235227\" xlink:href=\"#m63f2c33be6\" y=\"154.136685\"/>\n    </g>\n   </g>\n   <g id=\"PathCollection_55\">\n    <g clip-path=\"url(#pfa30cf2651)\">\n     <use style=\"fill:#0000ff;stroke:#0000ff;stroke-width:1.5;\" x=\"221.780682\" xlink:href=\"#m63f2c33be6\" y=\"136.95049\"/>\n    </g>\n   </g>\n   <g id=\"PathCollection_56\">\n    <g clip-path=\"url(#pfa30cf2651)\">\n     <use style=\"fill:#0000ff;stroke:#0000ff;stroke-width:1.5;\" x=\"154.144318\" xlink:href=\"#m63f2c33be6\" y=\"136.95049\"/>\n    </g>\n   </g>\n   <g id=\"PathCollection_57\">\n    <g clip-path=\"url(#pfa30cf2651)\">\n     <use style=\"fill:#0000ff;stroke:#0000ff;stroke-width:1.5;\" x=\"204.871591\" xlink:href=\"#m63f2c33be6\" y=\"119.764294\"/>\n    </g>\n   </g>\n   <g id=\"PathCollection_58\">\n    <g clip-path=\"url(#pfa30cf2651)\">\n     <use style=\"fill:#0000ff;stroke:#0000ff;stroke-width:1.5;\" x=\"86.507955\" xlink:href=\"#m63f2c33be6\" y=\"150.699446\"/>\n    </g>\n   </g>\n   <g id=\"PathCollection_59\">\n    <g clip-path=\"url(#pfa30cf2651)\">\n     <use style=\"fill:#0000ff;stroke:#0000ff;stroke-width:1.5;\" x=\"230.235227\" xlink:href=\"#m63f2c33be6\" y=\"133.51325\"/>\n    </g>\n   </g>\n   <g id=\"PathCollection_60\">\n    <g clip-path=\"url(#pfa30cf2651)\">\n     <use style=\"fill:#0000ff;stroke:#0000ff;stroke-width:1.5;\" x=\"111.871591\" xlink:href=\"#m63f2c33be6\" y=\"140.387729\"/>\n    </g>\n   </g>\n   <g id=\"PathCollection_61\">\n    <g clip-path=\"url(#pfa30cf2651)\">\n     <use style=\"fill:#0000ff;stroke:#0000ff;stroke-width:1.5;\" x=\"94.9625\" xlink:href=\"#m63f2c33be6\" y=\"164.448403\"/>\n    </g>\n   </g>\n   <g id=\"PathCollection_62\">\n    <g clip-path=\"url(#pfa30cf2651)\">\n     <use style=\"fill:#0000ff;stroke:#0000ff;stroke-width:1.5;\" x=\"171.053409\" xlink:href=\"#m63f2c33be6\" y=\"130.076011\"/>\n    </g>\n   </g>\n   <g id=\"PathCollection_63\">\n    <g clip-path=\"url(#pfa30cf2651)\">\n     <use style=\"fill:#0000ff;stroke:#0000ff;stroke-width:1.5;\" x=\"179.507955\" xlink:href=\"#m63f2c33be6\" y=\"157.573924\"/>\n    </g>\n   </g>\n   <g id=\"PathCollection_64\">\n    <g clip-path=\"url(#pfa30cf2651)\">\n     <use style=\"fill:#0000ff;stroke:#0000ff;stroke-width:1.5;\" x=\"187.9625\" xlink:href=\"#m63f2c33be6\" y=\"133.51325\"/>\n    </g>\n   </g>\n   <g id=\"PathCollection_65\">\n    <g clip-path=\"url(#pfa30cf2651)\">\n     <use style=\"fill:#0000ff;stroke:#0000ff;stroke-width:1.5;\" x=\"145.689773\" xlink:href=\"#m63f2c33be6\" y=\"133.51325\"/>\n    </g>\n   </g>\n   <g id=\"PathCollection_66\">\n    <g clip-path=\"url(#pfa30cf2651)\">\n     <use style=\"fill:#0000ff;stroke:#0000ff;stroke-width:1.5;\" x=\"238.689773\" xlink:href=\"#m63f2c33be6\" y=\"126.638772\"/>\n    </g>\n   </g>\n   <g id=\"PathCollection_67\">\n    <g clip-path=\"url(#pfa30cf2651)\">\n     <use style=\"fill:#0000ff;stroke:#0000ff;stroke-width:1.5;\" x=\"145.689773\" xlink:href=\"#m63f2c33be6\" y=\"130.076011\"/>\n    </g>\n   </g>\n   <g id=\"PathCollection_68\">\n    <g clip-path=\"url(#pfa30cf2651)\">\n     <use style=\"fill:#0000ff;stroke:#0000ff;stroke-width:1.5;\" x=\"162.598864\" xlink:href=\"#m63f2c33be6\" y=\"140.387729\"/>\n    </g>\n   </g>\n   <g id=\"PathCollection_69\">\n    <g clip-path=\"url(#pfa30cf2651)\">\n     <use style=\"fill:#0000ff;stroke:#0000ff;stroke-width:1.5;\" x=\"196.417045\" xlink:href=\"#m63f2c33be6\" y=\"157.573924\"/>\n    </g>\n   </g>\n   <g id=\"PathCollection_70\">\n    <g clip-path=\"url(#pfa30cf2651)\">\n     <use style=\"fill:#0000ff;stroke:#0000ff;stroke-width:1.5;\" x=\"145.689773\" xlink:href=\"#m63f2c33be6\" y=\"147.262207\"/>\n    </g>\n   </g>\n   <g id=\"PathCollection_71\">\n    <g clip-path=\"url(#pfa30cf2651)\">\n     <use style=\"fill:#0000ff;stroke:#0000ff;stroke-width:1.5;\" x=\"171.053409\" xlink:href=\"#m63f2c33be6\" y=\"123.201533\"/>\n    </g>\n   </g>\n   <g id=\"PathCollection_72\">\n    <g clip-path=\"url(#pfa30cf2651)\">\n     <use style=\"fill:#0000ff;stroke:#0000ff;stroke-width:1.5;\" x=\"187.9625\" xlink:href=\"#m63f2c33be6\" y=\"136.95049\"/>\n    </g>\n   </g>\n   <g id=\"PathCollection_73\">\n    <g clip-path=\"url(#pfa30cf2651)\">\n     <use style=\"fill:#0000ff;stroke:#0000ff;stroke-width:1.5;\" x=\"204.871591\" xlink:href=\"#m63f2c33be6\" y=\"147.262207\"/>\n    </g>\n   </g>\n   <g id=\"PathCollection_74\">\n    <g clip-path=\"url(#pfa30cf2651)\">\n     <use style=\"fill:#0000ff;stroke:#0000ff;stroke-width:1.5;\" x=\"187.9625\" xlink:href=\"#m63f2c33be6\" y=\"136.95049\"/>\n    </g>\n   </g>\n   <g id=\"PathCollection_75\">\n    <g clip-path=\"url(#pfa30cf2651)\">\n     <use style=\"fill:#0000ff;stroke:#0000ff;stroke-width:1.5;\" x=\"213.326136\" xlink:href=\"#m63f2c33be6\" y=\"133.51325\"/>\n    </g>\n   </g>\n   <g id=\"PathCollection_76\">\n    <g clip-path=\"url(#pfa30cf2651)\">\n     <use style=\"fill:#0000ff;stroke:#0000ff;stroke-width:1.5;\" x=\"230.235227\" xlink:href=\"#m63f2c33be6\" y=\"130.076011\"/>\n    </g>\n   </g>\n   <g id=\"PathCollection_77\">\n    <g clip-path=\"url(#pfa30cf2651)\">\n     <use style=\"fill:#0000ff;stroke:#0000ff;stroke-width:1.5;\" x=\"247.144318\" xlink:href=\"#m63f2c33be6\" y=\"136.95049\"/>\n    </g>\n   </g>\n   <g id=\"PathCollection_78\">\n    <g clip-path=\"url(#pfa30cf2651)\">\n     <use style=\"fill:#0000ff;stroke:#0000ff;stroke-width:1.5;\" x=\"238.689773\" xlink:href=\"#m63f2c33be6\" y=\"130.076011\"/>\n    </g>\n   </g>\n   <g id=\"PathCollection_79\">\n    <g clip-path=\"url(#pfa30cf2651)\">\n     <use style=\"fill:#0000ff;stroke:#0000ff;stroke-width:1.5;\" x=\"179.507955\" xlink:href=\"#m63f2c33be6\" y=\"133.51325\"/>\n    </g>\n   </g>\n   <g id=\"PathCollection_80\">\n    <g clip-path=\"url(#pfa30cf2651)\">\n     <use style=\"fill:#0000ff;stroke:#0000ff;stroke-width:1.5;\" x=\"154.144318\" xlink:href=\"#m63f2c33be6\" y=\"143.824968\"/>\n    </g>\n   </g>\n   <g id=\"PathCollection_81\">\n    <g clip-path=\"url(#pfa30cf2651)\">\n     <use style=\"fill:#0000ff;stroke:#0000ff;stroke-width:1.5;\" x=\"137.235227\" xlink:href=\"#m63f2c33be6\" y=\"150.699446\"/>\n    </g>\n   </g>\n   <g id=\"PathCollection_82\">\n    <g clip-path=\"url(#pfa30cf2651)\">\n     <use style=\"fill:#0000ff;stroke:#0000ff;stroke-width:1.5;\" x=\"137.235227\" xlink:href=\"#m63f2c33be6\" y=\"150.699446\"/>\n    </g>\n   </g>\n   <g id=\"PathCollection_83\">\n    <g clip-path=\"url(#pfa30cf2651)\">\n     <use style=\"fill:#0000ff;stroke:#0000ff;stroke-width:1.5;\" x=\"162.598864\" xlink:href=\"#m63f2c33be6\" y=\"140.387729\"/>\n    </g>\n   </g>\n   <g id=\"PathCollection_84\">\n    <g clip-path=\"url(#pfa30cf2651)\">\n     <use style=\"fill:#0000ff;stroke:#0000ff;stroke-width:1.5;\" x=\"179.507955\" xlink:href=\"#m63f2c33be6\" y=\"140.387729\"/>\n    </g>\n   </g>\n   <g id=\"PathCollection_85\">\n    <g clip-path=\"url(#pfa30cf2651)\">\n     <use style=\"fill:#0000ff;stroke:#0000ff;stroke-width:1.5;\" x=\"128.780682\" xlink:href=\"#m63f2c33be6\" y=\"130.076011\"/>\n    </g>\n   </g>\n   <g id=\"PathCollection_86\">\n    <g clip-path=\"url(#pfa30cf2651)\">\n     <use style=\"fill:#0000ff;stroke:#0000ff;stroke-width:1.5;\" x=\"179.507955\" xlink:href=\"#m63f2c33be6\" y=\"116.327055\"/>\n    </g>\n   </g>\n   <g id=\"PathCollection_87\">\n    <g clip-path=\"url(#pfa30cf2651)\">\n     <use style=\"fill:#0000ff;stroke:#0000ff;stroke-width:1.5;\" x=\"238.689773\" xlink:href=\"#m63f2c33be6\" y=\"126.638772\"/>\n    </g>\n   </g>\n   <g id=\"PathCollection_88\">\n    <g clip-path=\"url(#pfa30cf2651)\">\n     <use style=\"fill:#0000ff;stroke:#0000ff;stroke-width:1.5;\" x=\"204.871591\" xlink:href=\"#m63f2c33be6\" y=\"154.136685\"/>\n    </g>\n   </g>\n   <g id=\"PathCollection_89\">\n    <g clip-path=\"url(#pfa30cf2651)\">\n     <use style=\"fill:#0000ff;stroke:#0000ff;stroke-width:1.5;\" x=\"145.689773\" xlink:href=\"#m63f2c33be6\" y=\"130.076011\"/>\n    </g>\n   </g>\n   <g id=\"PathCollection_90\">\n    <g clip-path=\"url(#pfa30cf2651)\">\n     <use style=\"fill:#0000ff;stroke:#0000ff;stroke-width:1.5;\" x=\"137.235227\" xlink:href=\"#m63f2c33be6\" y=\"147.262207\"/>\n    </g>\n   </g>\n   <g id=\"PathCollection_91\">\n    <g clip-path=\"url(#pfa30cf2651)\">\n     <use style=\"fill:#0000ff;stroke:#0000ff;stroke-width:1.5;\" x=\"137.235227\" xlink:href=\"#m63f2c33be6\" y=\"143.824968\"/>\n    </g>\n   </g>\n   <g id=\"PathCollection_92\">\n    <g clip-path=\"url(#pfa30cf2651)\">\n     <use style=\"fill:#0000ff;stroke:#0000ff;stroke-width:1.5;\" x=\"187.9625\" xlink:href=\"#m63f2c33be6\" y=\"130.076011\"/>\n    </g>\n   </g>\n   <g id=\"PathCollection_93\">\n    <g clip-path=\"url(#pfa30cf2651)\">\n     <use style=\"fill:#0000ff;stroke:#0000ff;stroke-width:1.5;\" x=\"162.598864\" xlink:href=\"#m63f2c33be6\" y=\"143.824968\"/>\n    </g>\n   </g>\n   <g id=\"PathCollection_94\">\n    <g clip-path=\"url(#pfa30cf2651)\">\n     <use style=\"fill:#0000ff;stroke:#0000ff;stroke-width:1.5;\" x=\"94.9625\" xlink:href=\"#m63f2c33be6\" y=\"154.136685\"/>\n    </g>\n   </g>\n   <g id=\"PathCollection_95\">\n    <g clip-path=\"url(#pfa30cf2651)\">\n     <use style=\"fill:#0000ff;stroke:#0000ff;stroke-width:1.5;\" x=\"145.689773\" xlink:href=\"#m63f2c33be6\" y=\"140.387729\"/>\n    </g>\n   </g>\n   <g id=\"PathCollection_96\">\n    <g clip-path=\"url(#pfa30cf2651)\">\n     <use style=\"fill:#0000ff;stroke:#0000ff;stroke-width:1.5;\" x=\"154.144318\" xlink:href=\"#m63f2c33be6\" y=\"130.076011\"/>\n    </g>\n   </g>\n   <g id=\"PathCollection_97\">\n    <g clip-path=\"url(#pfa30cf2651)\">\n     <use style=\"fill:#0000ff;stroke:#0000ff;stroke-width:1.5;\" x=\"154.144318\" xlink:href=\"#m63f2c33be6\" y=\"133.51325\"/>\n    </g>\n   </g>\n   <g id=\"PathCollection_98\">\n    <g clip-path=\"url(#pfa30cf2651)\">\n     <use style=\"fill:#0000ff;stroke:#0000ff;stroke-width:1.5;\" x=\"196.417045\" xlink:href=\"#m63f2c33be6\" y=\"133.51325\"/>\n    </g>\n   </g>\n   <g id=\"PathCollection_99\">\n    <g clip-path=\"url(#pfa30cf2651)\">\n     <use style=\"fill:#0000ff;stroke:#0000ff;stroke-width:1.5;\" x=\"103.417045\" xlink:href=\"#m63f2c33be6\" y=\"147.262207\"/>\n    </g>\n   </g>\n   <g id=\"PathCollection_100\">\n    <g clip-path=\"url(#pfa30cf2651)\">\n     <use style=\"fill:#0000ff;stroke:#0000ff;stroke-width:1.5;\" x=\"154.144318\" xlink:href=\"#m63f2c33be6\" y=\"136.95049\"/>\n    </g>\n   </g>\n   <g id=\"PathCollection_101\">\n    <g clip-path=\"url(#pfa30cf2651)\">\n     <use style=\"fill:#0000ff;stroke:#0000ff;stroke-width:1.5;\" x=\"204.871591\" xlink:href=\"#m63f2c33be6\" y=\"119.764294\"/>\n    </g>\n   </g>\n   <g id=\"PathCollection_102\">\n    <g clip-path=\"url(#pfa30cf2651)\">\n     <use style=\"fill:#0000ff;stroke:#0000ff;stroke-width:1.5;\" x=\"162.598864\" xlink:href=\"#m63f2c33be6\" y=\"140.387729\"/>\n    </g>\n   </g>\n   <g id=\"PathCollection_103\">\n    <g clip-path=\"url(#pfa30cf2651)\">\n     <use style=\"fill:#0000ff;stroke:#0000ff;stroke-width:1.5;\" x=\"272.507955\" xlink:href=\"#m63f2c33be6\" y=\"130.076011\"/>\n    </g>\n   </g>\n   <g id=\"PathCollection_104\">\n    <g clip-path=\"url(#pfa30cf2651)\">\n     <use style=\"fill:#0000ff;stroke:#0000ff;stroke-width:1.5;\" x=\"204.871591\" xlink:href=\"#m63f2c33be6\" y=\"133.51325\"/>\n    </g>\n   </g>\n   <g id=\"PathCollection_105\">\n    <g clip-path=\"url(#pfa30cf2651)\">\n     <use style=\"fill:#0000ff;stroke:#0000ff;stroke-width:1.5;\" x=\"221.780682\" xlink:href=\"#m63f2c33be6\" y=\"130.076011\"/>\n    </g>\n   </g>\n   <g id=\"PathCollection_106\">\n    <g clip-path=\"url(#pfa30cf2651)\">\n     <use style=\"fill:#0000ff;stroke:#0000ff;stroke-width:1.5;\" x=\"314.780682\" xlink:href=\"#m63f2c33be6\" y=\"130.076011\"/>\n    </g>\n   </g>\n   <g id=\"PathCollection_107\">\n    <g clip-path=\"url(#pfa30cf2651)\">\n     <use style=\"fill:#0000ff;stroke:#0000ff;stroke-width:1.5;\" x=\"86.507955\" xlink:href=\"#m63f2c33be6\" y=\"147.262207\"/>\n    </g>\n   </g>\n   <g id=\"PathCollection_108\">\n    <g clip-path=\"url(#pfa30cf2651)\">\n     <use style=\"fill:#0000ff;stroke:#0000ff;stroke-width:1.5;\" x=\"289.417045\" xlink:href=\"#m63f2c33be6\" y=\"133.51325\"/>\n    </g>\n   </g>\n   <g id=\"PathCollection_109\">\n    <g clip-path=\"url(#pfa30cf2651)\">\n     <use style=\"fill:#0000ff;stroke:#0000ff;stroke-width:1.5;\" x=\"238.689773\" xlink:href=\"#m63f2c33be6\" y=\"147.262207\"/>\n    </g>\n   </g>\n   <g id=\"PathCollection_110\">\n    <g clip-path=\"url(#pfa30cf2651)\">\n     <use style=\"fill:#0000ff;stroke:#0000ff;stroke-width:1.5;\" x=\"280.9625\" xlink:href=\"#m63f2c33be6\" y=\"109.452576\"/>\n    </g>\n   </g>\n   <g id=\"PathCollection_111\">\n    <g clip-path=\"url(#pfa30cf2651)\">\n     <use style=\"fill:#0000ff;stroke:#0000ff;stroke-width:1.5;\" x=\"221.780682\" xlink:href=\"#m63f2c33be6\" y=\"123.201533\"/>\n    </g>\n   </g>\n   <g id=\"PathCollection_112\">\n    <g clip-path=\"url(#pfa30cf2651)\">\n     <use style=\"fill:#0000ff;stroke:#0000ff;stroke-width:1.5;\" x=\"213.326136\" xlink:href=\"#m63f2c33be6\" y=\"140.387729\"/>\n    </g>\n   </g>\n   <g id=\"PathCollection_113\">\n    <g clip-path=\"url(#pfa30cf2651)\">\n     <use style=\"fill:#0000ff;stroke:#0000ff;stroke-width:1.5;\" x=\"247.144318\" xlink:href=\"#m63f2c33be6\" y=\"130.076011\"/>\n    </g>\n   </g>\n   <g id=\"PathCollection_114\">\n    <g clip-path=\"url(#pfa30cf2651)\">\n     <use style=\"fill:#0000ff;stroke:#0000ff;stroke-width:1.5;\" x=\"154.144318\" xlink:href=\"#m63f2c33be6\" y=\"147.262207\"/>\n    </g>\n   </g>\n   <g id=\"PathCollection_115\">\n    <g clip-path=\"url(#pfa30cf2651)\">\n     <use style=\"fill:#0000ff;stroke:#0000ff;stroke-width:1.5;\" x=\"162.598864\" xlink:href=\"#m63f2c33be6\" y=\"136.95049\"/>\n    </g>\n   </g>\n   <g id=\"PathCollection_116\">\n    <g clip-path=\"url(#pfa30cf2651)\">\n     <use style=\"fill:#0000ff;stroke:#0000ff;stroke-width:1.5;\" x=\"213.326136\" xlink:href=\"#m63f2c33be6\" y=\"123.201533\"/>\n    </g>\n   </g>\n   <g id=\"PathCollection_117\">\n    <g clip-path=\"url(#pfa30cf2651)\">\n     <use style=\"fill:#0000ff;stroke:#0000ff;stroke-width:1.5;\" x=\"221.780682\" xlink:href=\"#m63f2c33be6\" y=\"130.076011\"/>\n    </g>\n   </g>\n   <g id=\"PathCollection_118\">\n    <g clip-path=\"url(#pfa30cf2651)\">\n     <use style=\"fill:#0000ff;stroke:#0000ff;stroke-width:1.5;\" x=\"323.235227\" xlink:href=\"#m63f2c33be6\" y=\"102.578098\"/>\n    </g>\n   </g>\n   <g id=\"PathCollection_119\">\n    <g clip-path=\"url(#pfa30cf2651)\">\n     <use style=\"fill:#0000ff;stroke:#0000ff;stroke-width:1.5;\" x=\"323.235227\" xlink:href=\"#m63f2c33be6\" y=\"143.824968\"/>\n    </g>\n   </g>\n   <g id=\"PathCollection_120\">\n    <g clip-path=\"url(#pfa30cf2651)\">\n     <use style=\"fill:#0000ff;stroke:#0000ff;stroke-width:1.5;\" x=\"179.507955\" xlink:href=\"#m63f2c33be6\" y=\"157.573924\"/>\n    </g>\n   </g>\n   <g id=\"PathCollection_121\">\n    <g clip-path=\"url(#pfa30cf2651)\">\n     <use style=\"fill:#0000ff;stroke:#0000ff;stroke-width:1.5;\" x=\"255.598864\" xlink:href=\"#m63f2c33be6\" y=\"123.201533\"/>\n    </g>\n   </g>\n   <g id=\"PathCollection_122\">\n    <g clip-path=\"url(#pfa30cf2651)\">\n     <use style=\"fill:#0000ff;stroke:#0000ff;stroke-width:1.5;\" x=\"145.689773\" xlink:href=\"#m63f2c33be6\" y=\"136.95049\"/>\n    </g>\n   </g>\n   <g id=\"PathCollection_123\">\n    <g clip-path=\"url(#pfa30cf2651)\">\n     <use style=\"fill:#0000ff;stroke:#0000ff;stroke-width:1.5;\" x=\"323.235227\" xlink:href=\"#m63f2c33be6\" y=\"136.95049\"/>\n    </g>\n   </g>\n   <g id=\"PathCollection_124\">\n    <g clip-path=\"url(#pfa30cf2651)\">\n     <use style=\"fill:#0000ff;stroke:#0000ff;stroke-width:1.5;\" x=\"204.871591\" xlink:href=\"#m63f2c33be6\" y=\"140.387729\"/>\n    </g>\n   </g>\n   <g id=\"PathCollection_125\">\n    <g clip-path=\"url(#pfa30cf2651)\">\n     <use style=\"fill:#0000ff;stroke:#0000ff;stroke-width:1.5;\" x=\"238.689773\" xlink:href=\"#m63f2c33be6\" y=\"119.764294\"/>\n    </g>\n   </g>\n   <g id=\"PathCollection_126\">\n    <g clip-path=\"url(#pfa30cf2651)\">\n     <use style=\"fill:#0000ff;stroke:#0000ff;stroke-width:1.5;\" x=\"280.9625\" xlink:href=\"#m63f2c33be6\" y=\"123.201533\"/>\n    </g>\n   </g>\n   <g id=\"PathCollection_127\">\n    <g clip-path=\"url(#pfa30cf2651)\">\n     <use style=\"fill:#0000ff;stroke:#0000ff;stroke-width:1.5;\" x=\"196.417045\" xlink:href=\"#m63f2c33be6\" y=\"136.95049\"/>\n    </g>\n   </g>\n   <g id=\"PathCollection_128\">\n    <g clip-path=\"url(#pfa30cf2651)\">\n     <use style=\"fill:#0000ff;stroke:#0000ff;stroke-width:1.5;\" x=\"187.9625\" xlink:href=\"#m63f2c33be6\" y=\"130.076011\"/>\n    </g>\n   </g>\n   <g id=\"PathCollection_129\">\n    <g clip-path=\"url(#pfa30cf2651)\">\n     <use style=\"fill:#0000ff;stroke:#0000ff;stroke-width:1.5;\" x=\"213.326136\" xlink:href=\"#m63f2c33be6\" y=\"136.95049\"/>\n    </g>\n   </g>\n   <g id=\"PathCollection_130\">\n    <g clip-path=\"url(#pfa30cf2651)\">\n     <use style=\"fill:#0000ff;stroke:#0000ff;stroke-width:1.5;\" x=\"280.9625\" xlink:href=\"#m63f2c33be6\" y=\"130.076011\"/>\n    </g>\n   </g>\n   <g id=\"PathCollection_131\">\n    <g clip-path=\"url(#pfa30cf2651)\">\n     <use style=\"fill:#0000ff;stroke:#0000ff;stroke-width:1.5;\" x=\"297.871591\" xlink:href=\"#m63f2c33be6\" y=\"136.95049\"/>\n    </g>\n   </g>\n   <g id=\"PathCollection_132\">\n    <g clip-path=\"url(#pfa30cf2651)\">\n     <use style=\"fill:#0000ff;stroke:#0000ff;stroke-width:1.5;\" x=\"340.144318\" xlink:href=\"#m63f2c33be6\" y=\"102.578098\"/>\n    </g>\n   </g>\n   <g id=\"PathCollection_133\">\n    <g clip-path=\"url(#pfa30cf2651)\">\n     <use style=\"fill:#0000ff;stroke:#0000ff;stroke-width:1.5;\" x=\"213.326136\" xlink:href=\"#m63f2c33be6\" y=\"136.95049\"/>\n    </g>\n   </g>\n   <g id=\"PathCollection_134\">\n    <g clip-path=\"url(#pfa30cf2651)\">\n     <use style=\"fill:#0000ff;stroke:#0000ff;stroke-width:1.5;\" x=\"204.871591\" xlink:href=\"#m63f2c33be6\" y=\"136.95049\"/>\n    </g>\n   </g>\n   <g id=\"PathCollection_135\">\n    <g clip-path=\"url(#pfa30cf2651)\">\n     <use style=\"fill:#0000ff;stroke:#0000ff;stroke-width:1.5;\" x=\"187.9625\" xlink:href=\"#m63f2c33be6\" y=\"143.824968\"/>\n    </g>\n   </g>\n   <g id=\"PathCollection_136\">\n    <g clip-path=\"url(#pfa30cf2651)\">\n     <use style=\"fill:#0000ff;stroke:#0000ff;stroke-width:1.5;\" x=\"323.235227\" xlink:href=\"#m63f2c33be6\" y=\"130.076011\"/>\n    </g>\n   </g>\n   <g id=\"PathCollection_137\">\n    <g clip-path=\"url(#pfa30cf2651)\">\n     <use style=\"fill:#0000ff;stroke:#0000ff;stroke-width:1.5;\" x=\"204.871591\" xlink:href=\"#m63f2c33be6\" y=\"116.327055\"/>\n    </g>\n   </g>\n   <g id=\"PathCollection_138\">\n    <g clip-path=\"url(#pfa30cf2651)\">\n     <use style=\"fill:#0000ff;stroke:#0000ff;stroke-width:1.5;\" x=\"213.326136\" xlink:href=\"#m63f2c33be6\" y=\"126.638772\"/>\n    </g>\n   </g>\n   <g id=\"PathCollection_139\">\n    <g clip-path=\"url(#pfa30cf2651)\">\n     <use style=\"fill:#0000ff;stroke:#0000ff;stroke-width:1.5;\" x=\"179.507955\" xlink:href=\"#m63f2c33be6\" y=\"130.076011\"/>\n    </g>\n   </g>\n   <g id=\"PathCollection_140\">\n    <g clip-path=\"url(#pfa30cf2651)\">\n     <use style=\"fill:#0000ff;stroke:#0000ff;stroke-width:1.5;\" x=\"255.598864\" xlink:href=\"#m63f2c33be6\" y=\"126.638772\"/>\n    </g>\n   </g>\n   <g id=\"PathCollection_141\">\n    <g clip-path=\"url(#pfa30cf2651)\">\n     <use style=\"fill:#0000ff;stroke:#0000ff;stroke-width:1.5;\" x=\"238.689773\" xlink:href=\"#m63f2c33be6\" y=\"126.638772\"/>\n    </g>\n   </g>\n   <g id=\"PathCollection_142\">\n    <g clip-path=\"url(#pfa30cf2651)\">\n     <use style=\"fill:#0000ff;stroke:#0000ff;stroke-width:1.5;\" x=\"255.598864\" xlink:href=\"#m63f2c33be6\" y=\"126.638772\"/>\n    </g>\n   </g>\n   <g id=\"PathCollection_143\">\n    <g clip-path=\"url(#pfa30cf2651)\">\n     <use style=\"fill:#0000ff;stroke:#0000ff;stroke-width:1.5;\" x=\"162.598864\" xlink:href=\"#m63f2c33be6\" y=\"140.387729\"/>\n    </g>\n   </g>\n   <g id=\"PathCollection_144\">\n    <g clip-path=\"url(#pfa30cf2651)\">\n     <use style=\"fill:#0000ff;stroke:#0000ff;stroke-width:1.5;\" x=\"247.144318\" xlink:href=\"#m63f2c33be6\" y=\"123.201533\"/>\n    </g>\n   </g>\n   <g id=\"PathCollection_145\">\n    <g clip-path=\"url(#pfa30cf2651)\">\n     <use style=\"fill:#0000ff;stroke:#0000ff;stroke-width:1.5;\" x=\"238.689773\" xlink:href=\"#m63f2c33be6\" y=\"119.764294\"/>\n    </g>\n   </g>\n   <g id=\"PathCollection_146\">\n    <g clip-path=\"url(#pfa30cf2651)\">\n     <use style=\"fill:#0000ff;stroke:#0000ff;stroke-width:1.5;\" x=\"238.689773\" xlink:href=\"#m63f2c33be6\" y=\"130.076011\"/>\n    </g>\n   </g>\n   <g id=\"PathCollection_147\">\n    <g clip-path=\"url(#pfa30cf2651)\">\n     <use style=\"fill:#0000ff;stroke:#0000ff;stroke-width:1.5;\" x=\"204.871591\" xlink:href=\"#m63f2c33be6\" y=\"147.262207\"/>\n    </g>\n   </g>\n   <g id=\"PathCollection_148\">\n    <g clip-path=\"url(#pfa30cf2651)\">\n     <use style=\"fill:#0000ff;stroke:#0000ff;stroke-width:1.5;\" x=\"221.780682\" xlink:href=\"#m63f2c33be6\" y=\"130.076011\"/>\n    </g>\n   </g>\n   <g id=\"PathCollection_149\">\n    <g clip-path=\"url(#pfa30cf2651)\">\n     <use style=\"fill:#0000ff;stroke:#0000ff;stroke-width:1.5;\" x=\"196.417045\" xlink:href=\"#m63f2c33be6\" y=\"116.327055\"/>\n    </g>\n   </g>\n   <g id=\"PathCollection_150\">\n    <g clip-path=\"url(#pfa30cf2651)\">\n     <use style=\"fill:#0000ff;stroke:#0000ff;stroke-width:1.5;\" x=\"171.053409\" xlink:href=\"#m63f2c33be6\" y=\"130.076011\"/>\n    </g>\n   </g>\n   <g id=\"matplotlib.axis_1\">\n    <g id=\"xtick_1\">\n     <g id=\"line2d_1\">\n      <defs>\n       <path d=\"M 0 0 \nL 0 3.5 \n\" id=\"m3e2fb0b90d\" style=\"stroke:#000000;stroke-width:0.8;\"/>\n      </defs>\n      <g>\n       <use style=\"stroke:#000000;stroke-width:0.8;\" x=\"52.689773\" xlink:href=\"#m3e2fb0b90d\" y=\"224.64\"/>\n      </g>\n     </g>\n     <g id=\"text_1\">\n      <!-- 4.5 -->\n      <g transform=\"translate(44.73821 239.238437)scale(0.1 -0.1)\">\n       <defs>\n        <path d=\"M 2419 4116 \nL 825 1625 \nL 2419 1625 \nL 2419 4116 \nz\nM 2253 4666 \nL 3047 4666 \nL 3047 1625 \nL 3713 1625 \nL 3713 1100 \nL 3047 1100 \nL 3047 0 \nL 2419 0 \nL 2419 1100 \nL 313 1100 \nL 313 1709 \nL 2253 4666 \nz\n\" id=\"DejaVuSans-34\" transform=\"scale(0.015625)\"/>\n        <path d=\"M 684 794 \nL 1344 794 \nL 1344 0 \nL 684 0 \nL 684 794 \nz\n\" id=\"DejaVuSans-2e\" transform=\"scale(0.015625)\"/>\n        <path d=\"M 691 4666 \nL 3169 4666 \nL 3169 4134 \nL 1269 4134 \nL 1269 2991 \nQ 1406 3038 1543 3061 \nQ 1681 3084 1819 3084 \nQ 2600 3084 3056 2656 \nQ 3513 2228 3513 1497 \nQ 3513 744 3044 326 \nQ 2575 -91 1722 -91 \nQ 1428 -91 1123 -41 \nQ 819 9 494 109 \nL 494 744 \nQ 775 591 1075 516 \nQ 1375 441 1709 441 \nQ 2250 441 2565 725 \nQ 2881 1009 2881 1497 \nQ 2881 1984 2565 2268 \nQ 2250 2553 1709 2553 \nQ 1456 2553 1204 2497 \nQ 953 2441 691 2322 \nL 691 4666 \nz\n\" id=\"DejaVuSans-35\" transform=\"scale(0.015625)\"/>\n       </defs>\n       <use xlink:href=\"#DejaVuSans-34\"/>\n       <use x=\"63.623047\" xlink:href=\"#DejaVuSans-2e\"/>\n       <use x=\"95.410156\" xlink:href=\"#DejaVuSans-35\"/>\n      </g>\n     </g>\n    </g>\n    <g id=\"xtick_2\">\n     <g id=\"line2d_2\">\n      <g>\n       <use style=\"stroke:#000000;stroke-width:0.8;\" x=\"94.9625\" xlink:href=\"#m3e2fb0b90d\" y=\"224.64\"/>\n      </g>\n     </g>\n     <g id=\"text_2\">\n      <!-- 5.0 -->\n      <g transform=\"translate(87.010937 239.238437)scale(0.1 -0.1)\">\n       <defs>\n        <path d=\"M 2034 4250 \nQ 1547 4250 1301 3770 \nQ 1056 3291 1056 2328 \nQ 1056 1369 1301 889 \nQ 1547 409 2034 409 \nQ 2525 409 2770 889 \nQ 3016 1369 3016 2328 \nQ 3016 3291 2770 3770 \nQ 2525 4250 2034 4250 \nz\nM 2034 4750 \nQ 2819 4750 3233 4129 \nQ 3647 3509 3647 2328 \nQ 3647 1150 3233 529 \nQ 2819 -91 2034 -91 \nQ 1250 -91 836 529 \nQ 422 1150 422 2328 \nQ 422 3509 836 4129 \nQ 1250 4750 2034 4750 \nz\n\" id=\"DejaVuSans-30\" transform=\"scale(0.015625)\"/>\n       </defs>\n       <use xlink:href=\"#DejaVuSans-35\"/>\n       <use x=\"63.623047\" xlink:href=\"#DejaVuSans-2e\"/>\n       <use x=\"95.410156\" xlink:href=\"#DejaVuSans-30\"/>\n      </g>\n     </g>\n    </g>\n    <g id=\"xtick_3\">\n     <g id=\"line2d_3\">\n      <g>\n       <use style=\"stroke:#000000;stroke-width:0.8;\" x=\"137.235227\" xlink:href=\"#m3e2fb0b90d\" y=\"224.64\"/>\n      </g>\n     </g>\n     <g id=\"text_3\">\n      <!-- 5.5 -->\n      <g transform=\"translate(129.283665 239.238437)scale(0.1 -0.1)\">\n       <use xlink:href=\"#DejaVuSans-35\"/>\n       <use x=\"63.623047\" xlink:href=\"#DejaVuSans-2e\"/>\n       <use x=\"95.410156\" xlink:href=\"#DejaVuSans-35\"/>\n      </g>\n     </g>\n    </g>\n    <g id=\"xtick_4\">\n     <g id=\"line2d_4\">\n      <g>\n       <use style=\"stroke:#000000;stroke-width:0.8;\" x=\"179.507955\" xlink:href=\"#m3e2fb0b90d\" y=\"224.64\"/>\n      </g>\n     </g>\n     <g id=\"text_4\">\n      <!-- 6.0 -->\n      <g transform=\"translate(171.556392 239.238437)scale(0.1 -0.1)\">\n       <defs>\n        <path d=\"M 2113 2584 \nQ 1688 2584 1439 2293 \nQ 1191 2003 1191 1497 \nQ 1191 994 1439 701 \nQ 1688 409 2113 409 \nQ 2538 409 2786 701 \nQ 3034 994 3034 1497 \nQ 3034 2003 2786 2293 \nQ 2538 2584 2113 2584 \nz\nM 3366 4563 \nL 3366 3988 \nQ 3128 4100 2886 4159 \nQ 2644 4219 2406 4219 \nQ 1781 4219 1451 3797 \nQ 1122 3375 1075 2522 \nQ 1259 2794 1537 2939 \nQ 1816 3084 2150 3084 \nQ 2853 3084 3261 2657 \nQ 3669 2231 3669 1497 \nQ 3669 778 3244 343 \nQ 2819 -91 2113 -91 \nQ 1303 -91 875 529 \nQ 447 1150 447 2328 \nQ 447 3434 972 4092 \nQ 1497 4750 2381 4750 \nQ 2619 4750 2861 4703 \nQ 3103 4656 3366 4563 \nz\n\" id=\"DejaVuSans-36\" transform=\"scale(0.015625)\"/>\n       </defs>\n       <use xlink:href=\"#DejaVuSans-36\"/>\n       <use x=\"63.623047\" xlink:href=\"#DejaVuSans-2e\"/>\n       <use x=\"95.410156\" xlink:href=\"#DejaVuSans-30\"/>\n      </g>\n     </g>\n    </g>\n    <g id=\"xtick_5\">\n     <g id=\"line2d_5\">\n      <g>\n       <use style=\"stroke:#000000;stroke-width:0.8;\" x=\"221.780682\" xlink:href=\"#m3e2fb0b90d\" y=\"224.64\"/>\n      </g>\n     </g>\n     <g id=\"text_5\">\n      <!-- 6.5 -->\n      <g transform=\"translate(213.829119 239.238437)scale(0.1 -0.1)\">\n       <use xlink:href=\"#DejaVuSans-36\"/>\n       <use x=\"63.623047\" xlink:href=\"#DejaVuSans-2e\"/>\n       <use x=\"95.410156\" xlink:href=\"#DejaVuSans-35\"/>\n      </g>\n     </g>\n    </g>\n    <g id=\"xtick_6\">\n     <g id=\"line2d_6\">\n      <g>\n       <use style=\"stroke:#000000;stroke-width:0.8;\" x=\"264.053409\" xlink:href=\"#m3e2fb0b90d\" y=\"224.64\"/>\n      </g>\n     </g>\n     <g id=\"text_6\">\n      <!-- 7.0 -->\n      <g transform=\"translate(256.101847 239.238437)scale(0.1 -0.1)\">\n       <defs>\n        <path d=\"M 525 4666 \nL 3525 4666 \nL 3525 4397 \nL 1831 0 \nL 1172 0 \nL 2766 4134 \nL 525 4134 \nL 525 4666 \nz\n\" id=\"DejaVuSans-37\" transform=\"scale(0.015625)\"/>\n       </defs>\n       <use xlink:href=\"#DejaVuSans-37\"/>\n       <use x=\"63.623047\" xlink:href=\"#DejaVuSans-2e\"/>\n       <use x=\"95.410156\" xlink:href=\"#DejaVuSans-30\"/>\n      </g>\n     </g>\n    </g>\n    <g id=\"xtick_7\">\n     <g id=\"line2d_7\">\n      <g>\n       <use style=\"stroke:#000000;stroke-width:0.8;\" x=\"306.326136\" xlink:href=\"#m3e2fb0b90d\" y=\"224.64\"/>\n      </g>\n     </g>\n     <g id=\"text_7\">\n      <!-- 7.5 -->\n      <g transform=\"translate(298.374574 239.238437)scale(0.1 -0.1)\">\n       <use xlink:href=\"#DejaVuSans-37\"/>\n       <use x=\"63.623047\" xlink:href=\"#DejaVuSans-2e\"/>\n       <use x=\"95.410156\" xlink:href=\"#DejaVuSans-35\"/>\n      </g>\n     </g>\n    </g>\n    <g id=\"xtick_8\">\n     <g id=\"line2d_8\">\n      <g>\n       <use style=\"stroke:#000000;stroke-width:0.8;\" x=\"348.598864\" xlink:href=\"#m3e2fb0b90d\" y=\"224.64\"/>\n      </g>\n     </g>\n     <g id=\"text_8\">\n      <!-- 8.0 -->\n      <g transform=\"translate(340.647301 239.238437)scale(0.1 -0.1)\">\n       <defs>\n        <path d=\"M 2034 2216 \nQ 1584 2216 1326 1975 \nQ 1069 1734 1069 1313 \nQ 1069 891 1326 650 \nQ 1584 409 2034 409 \nQ 2484 409 2743 651 \nQ 3003 894 3003 1313 \nQ 3003 1734 2745 1975 \nQ 2488 2216 2034 2216 \nz\nM 1403 2484 \nQ 997 2584 770 2862 \nQ 544 3141 544 3541 \nQ 544 4100 942 4425 \nQ 1341 4750 2034 4750 \nQ 2731 4750 3128 4425 \nQ 3525 4100 3525 3541 \nQ 3525 3141 3298 2862 \nQ 3072 2584 2669 2484 \nQ 3125 2378 3379 2068 \nQ 3634 1759 3634 1313 \nQ 3634 634 3220 271 \nQ 2806 -91 2034 -91 \nQ 1263 -91 848 271 \nQ 434 634 434 1313 \nQ 434 1759 690 2068 \nQ 947 2378 1403 2484 \nz\nM 1172 3481 \nQ 1172 3119 1398 2916 \nQ 1625 2713 2034 2713 \nQ 2441 2713 2670 2916 \nQ 2900 3119 2900 3481 \nQ 2900 3844 2670 4047 \nQ 2441 4250 2034 4250 \nQ 1625 4250 1398 4047 \nQ 1172 3844 1172 3481 \nz\n\" id=\"DejaVuSans-38\" transform=\"scale(0.015625)\"/>\n       </defs>\n       <use xlink:href=\"#DejaVuSans-38\"/>\n       <use x=\"63.623047\" xlink:href=\"#DejaVuSans-2e\"/>\n       <use x=\"95.410156\" xlink:href=\"#DejaVuSans-30\"/>\n      </g>\n     </g>\n    </g>\n   </g>\n   <g id=\"matplotlib.axis_2\">\n    <g id=\"ytick_1\">\n     <g id=\"line2d_9\">\n      <defs>\n       <path d=\"M 0 0 \nL -3.5 0 \n\" id=\"m428bb427ce\" style=\"stroke:#000000;stroke-width:0.8;\"/>\n      </defs>\n      <g>\n       <use style=\"stroke:#000000;stroke-width:0.8;\" x=\"20.5625\" xlink:href=\"#m428bb427ce\" y=\"198.820794\"/>\n      </g>\n     </g>\n     <g id=\"text_9\">\n      <!-- 1 -->\n      <g transform=\"translate(7.2 202.620013)scale(0.1 -0.1)\">\n       <defs>\n        <path d=\"M 794 531 \nL 1825 531 \nL 1825 4091 \nL 703 3866 \nL 703 4441 \nL 1819 4666 \nL 2450 4666 \nL 2450 531 \nL 3481 531 \nL 3481 0 \nL 794 0 \nL 794 531 \nz\n\" id=\"DejaVuSans-31\" transform=\"scale(0.015625)\"/>\n       </defs>\n       <use xlink:href=\"#DejaVuSans-31\"/>\n      </g>\n     </g>\n    </g>\n    <g id=\"ytick_2\">\n     <g id=\"line2d_10\">\n      <g>\n       <use style=\"stroke:#000000;stroke-width:0.8;\" x=\"20.5625\" xlink:href=\"#m428bb427ce\" y=\"164.448403\"/>\n      </g>\n     </g>\n     <g id=\"text_10\">\n      <!-- 2 -->\n      <g transform=\"translate(7.2 168.247621)scale(0.1 -0.1)\">\n       <defs>\n        <path d=\"M 1228 531 \nL 3431 531 \nL 3431 0 \nL 469 0 \nL 469 531 \nQ 828 903 1448 1529 \nQ 2069 2156 2228 2338 \nQ 2531 2678 2651 2914 \nQ 2772 3150 2772 3378 \nQ 2772 3750 2511 3984 \nQ 2250 4219 1831 4219 \nQ 1534 4219 1204 4116 \nQ 875 4013 500 3803 \nL 500 4441 \nQ 881 4594 1212 4672 \nQ 1544 4750 1819 4750 \nQ 2544 4750 2975 4387 \nQ 3406 4025 3406 3419 \nQ 3406 3131 3298 2873 \nQ 3191 2616 2906 2266 \nQ 2828 2175 2409 1742 \nQ 1991 1309 1228 531 \nz\n\" id=\"DejaVuSans-32\" transform=\"scale(0.015625)\"/>\n       </defs>\n       <use xlink:href=\"#DejaVuSans-32\"/>\n      </g>\n     </g>\n    </g>\n    <g id=\"ytick_3\">\n     <g id=\"line2d_11\">\n      <g>\n       <use style=\"stroke:#000000;stroke-width:0.8;\" x=\"20.5625\" xlink:href=\"#m428bb427ce\" y=\"130.076011\"/>\n      </g>\n     </g>\n     <g id=\"text_11\">\n      <!-- 3 -->\n      <g transform=\"translate(7.2 133.87523)scale(0.1 -0.1)\">\n       <defs>\n        <path d=\"M 2597 2516 \nQ 3050 2419 3304 2112 \nQ 3559 1806 3559 1356 \nQ 3559 666 3084 287 \nQ 2609 -91 1734 -91 \nQ 1441 -91 1130 -33 \nQ 819 25 488 141 \nL 488 750 \nQ 750 597 1062 519 \nQ 1375 441 1716 441 \nQ 2309 441 2620 675 \nQ 2931 909 2931 1356 \nQ 2931 1769 2642 2001 \nQ 2353 2234 1838 2234 \nL 1294 2234 \nL 1294 2753 \nL 1863 2753 \nQ 2328 2753 2575 2939 \nQ 2822 3125 2822 3475 \nQ 2822 3834 2567 4026 \nQ 2313 4219 1838 4219 \nQ 1578 4219 1281 4162 \nQ 984 4106 628 3988 \nL 628 4550 \nQ 988 4650 1302 4700 \nQ 1616 4750 1894 4750 \nQ 2613 4750 3031 4423 \nQ 3450 4097 3450 3541 \nQ 3450 3153 3228 2886 \nQ 3006 2619 2597 2516 \nz\n\" id=\"DejaVuSans-33\" transform=\"scale(0.015625)\"/>\n       </defs>\n       <use xlink:href=\"#DejaVuSans-33\"/>\n      </g>\n     </g>\n    </g>\n    <g id=\"ytick_4\">\n     <g id=\"line2d_12\">\n      <g>\n       <use style=\"stroke:#000000;stroke-width:0.8;\" x=\"20.5625\" xlink:href=\"#m428bb427ce\" y=\"95.70362\"/>\n      </g>\n     </g>\n     <g id=\"text_12\">\n      <!-- 4 -->\n      <g transform=\"translate(7.2 99.502839)scale(0.1 -0.1)\">\n       <use xlink:href=\"#DejaVuSans-34\"/>\n      </g>\n     </g>\n    </g>\n    <g id=\"ytick_5\">\n     <g id=\"line2d_13\">\n      <g>\n       <use style=\"stroke:#000000;stroke-width:0.8;\" x=\"20.5625\" xlink:href=\"#m428bb427ce\" y=\"61.331228\"/>\n      </g>\n     </g>\n     <g id=\"text_13\">\n      <!-- 5 -->\n      <g transform=\"translate(7.2 65.130447)scale(0.1 -0.1)\">\n       <use xlink:href=\"#DejaVuSans-35\"/>\n      </g>\n     </g>\n    </g>\n    <g id=\"ytick_6\">\n     <g id=\"line2d_14\">\n      <g>\n       <use style=\"stroke:#000000;stroke-width:0.8;\" x=\"20.5625\" xlink:href=\"#m428bb427ce\" y=\"26.958837\"/>\n      </g>\n     </g>\n     <g id=\"text_14\">\n      <!-- 6 -->\n      <g transform=\"translate(7.2 30.758056)scale(0.1 -0.1)\">\n       <use xlink:href=\"#DejaVuSans-36\"/>\n      </g>\n     </g>\n    </g>\n   </g>\n   <g id=\"line2d_15\">\n    <path clip-path=\"url(#pfa30cf2651)\" d=\"M 52.689773 214.756364 \nL 57.003316 210.722226 \nL 61.31686 206.688089 \nL 65.630404 202.653952 \nL 69.943947 198.619814 \nL 74.257491 194.585677 \nL 78.571034 190.55154 \nL 82.884578 186.517403 \nL 87.198122 182.483265 \nL 91.511665 178.449128 \nL 95.825209 174.414991 \nL 100.138752 170.380853 \nL 104.452296 166.346716 \nL 108.76584 162.312579 \nL 113.079383 158.278442 \nL 117.392927 154.244304 \nL 121.70647 150.210167 \nL 126.020014 146.17603 \nL 130.333558 142.141892 \nL 134.647101 138.107755 \nL 138.960645 134.073618 \nL 143.274188 130.039481 \nL 147.587732 126.005343 \nL 151.901276 121.971206 \nL 156.214819 117.937069 \nL 160.528363 113.902931 \nL 164.841906 109.868794 \nL 169.15545 105.834657 \nL 173.468994 101.800519 \nL 177.782537 97.766382 \nL 182.096081 93.732245 \nL 186.409624 89.698108 \nL 190.723168 85.66397 \nL 195.036712 81.629833 \nL 199.350255 77.595696 \nL 203.663799 73.561558 \nL 207.977342 69.527421 \nL 212.290886 65.493284 \nL 216.604429 61.459147 \nL 220.917973 57.425009 \nL 225.231517 53.390872 \nL 229.54506 49.356735 \nL 233.858604 45.322597 \nL 238.172147 41.28846 \nL 242.485691 37.254323 \nL 246.799235 33.220186 \nL 251.112778 29.186048 \nL 255.426322 25.151911 \nL 259.739865 21.117774 \nL 264.053409 17.083636 \n\" style=\"fill:none;stroke:#ff0000;stroke-linecap:square;stroke-width:1.5;\"/>\n   </g>\n   <g id=\"patch_3\">\n    <path d=\"M 20.5625 224.64 \nL 20.5625 7.2 \n\" style=\"fill:none;stroke:#000000;stroke-linecap:square;stroke-linejoin:miter;stroke-width:0.8;\"/>\n   </g>\n   <g id=\"patch_4\">\n    <path d=\"M 355.3625 224.64 \nL 355.3625 7.2 \n\" style=\"fill:none;stroke:#000000;stroke-linecap:square;stroke-linejoin:miter;stroke-width:0.8;\"/>\n   </g>\n   <g id=\"patch_5\">\n    <path d=\"M 20.5625 224.64 \nL 355.3625 224.64 \n\" style=\"fill:none;stroke:#000000;stroke-linecap:square;stroke-linejoin:miter;stroke-width:0.8;\"/>\n   </g>\n   <g id=\"patch_6\">\n    <path d=\"M 20.5625 7.2 \nL 355.3625 7.2 \n\" style=\"fill:none;stroke:#000000;stroke-linecap:square;stroke-linejoin:miter;stroke-width:0.8;\"/>\n   </g>\n  </g>\n </g>\n <defs>\n  <clipPath id=\"pfa30cf2651\">\n   <rect height=\"217.44\" width=\"334.8\" x=\"20.5625\" y=\"7.2\"/>\n  </clipPath>\n </defs>\n</svg>\n",
      "image/png": "[encoded data removed]"
     },
     "metadata": {
      "needs_background": "light"
     }
    }
   ],
   "metadata": {}
  },
  {
   "cell_type": "code",
   "execution_count": null,
   "source": [
    "import numpy as np\n",
    "\n",
    "def gradient_descent(start, gradient, learn_rate, max_iter, tol=0.00001):\n",
    "  x = start\n",
    "  for _ in range(max_iter):\n",
    "    diff = learn_rate*gradient(x)\n",
    "    if np.abs(diff)<tol:\n",
    "      break    \n",
    "    x = x - diff\n",
    "  return  x\n",
    "\n",
    "def gradient_func1(x):\n",
    "  return 2*x\n",
    "\n",
    "result = gradient_descent(9, gradient_func1, 0.1, 10000)\n",
    "print(result)"
   ],
   "outputs": [
    {
     "output_type": "stream",
     "name": "stdout",
     "text": [
      "4.209124715512999e-05\n"
     ]
    }
   ],
   "metadata": {}
  },
  {
   "cell_type": "markdown",
   "source": [
    "# Exercise 3\n",
    "Run the script in the template to obtain plots for all SVM models\n",
    "obtained for attribute pairs of the Iris dataset (binarized by merging versicolor and virginica).\n",
    "Is your SVM able to find a perfect separation?"
   ],
   "metadata": {}
  }
 ],
 "metadata": {
  "interpreter": {
   "hash": "916dbcbb3f70747c44a77c7bcd40155683ae19c65e1c03b4aa3499c5328201f1"
  },
  "kernelspec": {
   "name": "python3",
   "display_name": "Python 3.8.10 64-bit"
  },
  "language_info": {
   "codemirror_mode": {
    "name": "ipython",
    "version": 3
   },
   "file_extension": ".py",
   "mimetype": "text/x-python",
   "name": "python",
   "nbconvert_exporter": "python",
   "pygments_lexer": "ipython3",
   "version": "3.8.10"
  }
 },
 "nbformat": 4,
 "nbformat_minor": 5
}