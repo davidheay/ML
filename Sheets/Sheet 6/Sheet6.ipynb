{
 "cells": [
  {
   "cell_type": "markdown",
   "source": [
    "# Integrantes\n",
    "* ### David Herrera\n",
    "* ### Estid Lozano"
   ],
   "metadata": {}
  },
  {
   "cell_type": "code",
   "execution_count": null,
   "source": [
    "# Imports\n",
    "from collections import Counter\n",
    "import matplotlib.pyplot as plt\n",
    "import numpy as np\n",
    "import pandas as pd\n",
    "import numpy as np"
   ],
   "outputs": [],
   "metadata": {}
  },
  {
   "cell_type": "markdown",
   "source": [
    "# Exercise 1\n"
   ],
   "metadata": {}
  },
  {
   "cell_type": "markdown",
   "source": [
    "## 1) Suppose that we have a linearly separable dataset with instances for both positive and negative classes, and we have an optimal hyperplane h computed by the SVM (for linearly separable problems). Show that there is at least one support vector for either of the two classes for h."
   ],
   "metadata": {}
  },
  {
   "cell_type": "markdown",
   "source": [
    "\n",
    "\n",
    "If **h** is optimal, its weight is calculated using:\n",
    "\n",
    "$ \\LARGE h^* = \\argmax_h({{\\delta^*}_h}) = \\argmax_{w,b}(\\frac{1}{\\lvert w \\rvert})$\n",
    "\n",
    "and using lagrange we get:\n",
    "\n",
    "$\\LARGE \\min \\boldsymbol{L} =\\frac{1}{2} {\\lvert w \\rvert}^2- \\sum_{i=1}^{n} \\alpha_{i}(y_i(w^t x_i+b)-1) $\n",
    "\n",
    "and we find:\n",
    "\n",
    "$ \\LARGE \\frac{\\delta}{\\delta b}L=\\sum_{i=1}^{n} \\alpha_i y_i = 0$ and $\\LARGE W = \\sum_{i=1}^{n} \\alpha_i y_i x_i  $\n",
    "\n",
    "* the points with $\\alpha_i= 0$ are not support vectors and thus do not play a role in determining w\n",
    "* making at least two points with different classes are in D\n"
   ],
   "metadata": {}
  },
  {
   "cell_type": "markdown",
   "source": [
    "## 2) Show that \n",
    "$$  \\frac{\\delta (w^2 / 2)}{\\delta w_{k}}= w_{k} $$"
   ],
   "metadata": {}
  },
  {
   "cell_type": "markdown",
   "source": [
    "$$\n",
    "\\LARGE\n",
    "w= \n",
    "\\begin{pmatrix}\n",
    "   w_{1} \\\\\n",
    "   w_{2} \\\\\n",
    "   w_{3} \\\\\n",
    "   . \\\\\n",
    "   . \\\\\n",
    "   w_{n} \\\\\n",
    "\\end{pmatrix}\n",
    "\\rarr\n",
    "{w^2 \\over 2 }= \n",
    "\\begin{pmatrix}\n",
    "   w_{1}^2 \\over 2 \\\\\n",
    "   w_{2}^2 \\over 2 \\\\\n",
    "   w_{3}^2 \\over 2 \\\\\n",
    "   . \\\\\n",
    "   . \\\\\n",
    "   w_{n}^2 \\over 2 \\\\\n",
    "\\end{pmatrix}\n",
    "\\rarr\n",
    "\n",
    "{ \\delta (w^2 / 2) \\over \\delta w_{k}}= \n",
    "\\begin{pmatrix}\n",
    "   \\delta (w_{1}^2 / 2 ) \\over \\delta w_{k} \\\\\n",
    "   \\delta (w_{2}^2 / 2 ) \\over \\delta w_{k} \\\\\n",
    "   \\delta (w_{3}^2 / 2 ) \\over \\delta w_{k} \\\\\n",
    "   . \\\\\n",
    "   \\delta (w_{k}^2 / 2 ) \\over \\delta w_{k} \\\\\n",
    "   . \\\\\n",
    "   \\delta (w_{n}^2 / 2 ) \\over \\delta w_{k}\\\\\n",
    "\\end{pmatrix}\n",
    "\n",
    "\\rarr\n",
    "\n",
    "{ \\delta (w^2 / 2) \\over \\delta w_{k}}= \n",
    "\\begin{pmatrix}\n",
    "   0 \\\\\n",
    "   0 \\\\\n",
    "   0 \\\\\n",
    "   . \\\\\n",
    "   w_{k}\\\\\n",
    "   . \\\\\n",
    "   0\\\\\n",
    "\\end{pmatrix}\n",
    "=\n",
    "w_{k}\n",
    " \n",
    "$$"
   ],
   "metadata": {}
  },
  {
   "cell_type": "markdown",
   "source": [
    "## 3) When solving the optimization problem in Eq. (21.9) directly with a gradient descent algorithm, we need to fix two problems. Describe how you would do this:\n",
    "### a) it seems that there is no obvious initial solution. Provide an algorithm that will generate a feasible solution for w, b.\n",
    "1) set 1 in the first position the w vector  and the remainder in 0\n",
    "\n",
    "2) set b as the average of the first attribute of all points\n"
   ],
   "metadata": {}
  },
  {
   "cell_type": "code",
   "execution_count": 238,
   "source": [
    "X = np.array([[1.12, 2.13], [0.56, 1.42], [2.87, 0.99], [2.17, 0.43]])\n",
    "Y = np.array([-1, -1, 1, 1])\n",
    "def get_b_w(_X, _Y):\n",
    "    # find mid point of each class\n",
    "    mid1 = np.average([x for x, y in zip(_X, _Y) if y == 1], axis=0)\n",
    "    mid2 = np.average([x for x, y in zip(_X, _Y) if y == -1], axis=0)\n",
    "    # find mid point\n",
    "    mid = np.add(mid1, mid2)/2\n",
    "    # vector between mid points\n",
    "    u = mid2-mid1\n",
    "    # perpendicular vector\n",
    "    v = np.array([-u[1], u[0]])\n",
    "    # weigths\n",
    "    w1 = v[1]  # w1=1\n",
    "    w2 = -v[0]  # w2=-1\n",
    "    b = (-w1*mid[0])-(w2*mid[1])\n",
    "    w = np.array([w1, w2])\n",
    "    return b, w\n",
    "b, w = get_b_w(X, Y)\n",
    "print(b, w)\n"
   ],
   "outputs": [
    {
     "output_type": "stream",
     "name": "stdout",
     "text": [
      "1.4991375000000002 [-1.68   1.065]\n"
     ]
    }
   ],
   "metadata": {}
  },
  {
   "cell_type": "markdown",
   "source": [
    "### b) On one hand, the gradient of the objective function for b is 0, so we would never adjust it with gradient descent. On the other hand, very small entries in w might violate the linear contraints for any b. Describe an algorithm that determines whether, for a given w, there is a b so that the constraints are satisfied, and that returns such a b"
   ],
   "metadata": {}
  },
  {
   "cell_type": "code",
   "execution_count": 234,
   "source": [
    "def checkW(_w,_X,_Y):\n",
    "    return sum([y1-np.dot(_w,x1) for x1,y1 in zip(_X,_Y)])/len(_X)\n",
    "print(checkW(w,X,Y))"
   ],
   "outputs": [
    {
     "output_type": "stream",
     "name": "stdout",
     "text": [
      "1.4991375000000002\n"
     ]
    }
   ],
   "metadata": {}
  },
  {
   "cell_type": "markdown",
   "source": [
    "# Exercise 2\n",
    "Implement a learner SVM (no need for probabilities) that can perform binary classification by determining a maximum margin hyperplane.\n",
    "\n",
    "Train the SVM using a gradient descent algorithm solving the optimization problem in Eq.\n",
    "(21.9). Use your algorithms from exercise 1 (3) to use an initial solution, which you then\n",
    "update using the update rule\n",
    "wt+1 ← wt − ηwt\n",
    "\n",
    "Here, η is a step size, which is a parameter of the algorithm. Make sure to update b so that\n",
    "you maintain a valid solution.\n",
    "\n",
    "You can use a step size η = 0.1 and ε = 0.01 by default; you can also make your SVM\n",
    "configurable in these parameters.\n",
    "\n",
    "Make sure that the weight vector (including the bias weight in the first place) is stored in the\n",
    "variable w, so that it can be accessed after training.\n",
    "\n",
    "Implement the predict method in order to obtain predictions from your model."
   ],
   "metadata": {}
  },
  {
   "cell_type": "code",
   "execution_count": 293,
   "source": [
    "class SVM():\n",
    "    def __init__(self, _n=0.1, _e=0.001):\n",
    "        self._e = _e\n",
    "\n",
    "    def train(self, _X, _Y):\n",
    "        b, w = get_b_w(_X, _Y)\n",
    "        # w = np.array([b, w[0], w[1]])\n",
    "        # w = np.array([1, 0,0])\n",
    "        W = [w]\n",
    "        t = 0\n",
    "        while(True):\n",
    "            wCopy = W[-1]\n",
    "            for x, y in zip(_X, _Y):\n",
    "                # x = np.array([1, x[0], x[1]])\n",
    "                gradient = None\n",
    "                if 1 - y * (np.dot(wCopy, x)) <= 0:\n",
    "                    gradient = wCopy\n",
    "                else:\n",
    "                    gradient = wCopy - y * x\n",
    "                wCopy = wCopy - ((1/(t+1000)) * gradient)\n",
    "            t += 1\n",
    "            W.append(wCopy)\n",
    "            if np.linalg.norm(W[t]-W[t-1]) <= self._e:\n",
    "                break\n",
    "        w = W[-1]\n",
    "        print(w)\n",
    "        # b = w[0]\n",
    "        # w = [w[1], w[2]]\n",
    "        b = checkW(w, _X, _Y)\n",
    "        print(b)\n",
    "\n",
    "        x1 = np.linspace(4.5, 7, 50)\n",
    "        y1 = (-w[0]/w[1])*x1 - (b/w[1])\n",
    "        plt.plot(x1, y1, '-r')\n",
    "\n",
    "\n",
    "df = pd.read_csv('iris.csv')\n",
    "df['species'] = df['species'].apply(lambda s: 1 if s == 'setosa' else -1)\n",
    "X = df.iloc[:, :2].to_numpy()\n",
    "Y = df.iloc[:, -1].to_numpy()\n",
    "\n",
    "model = SVM()\n",
    "model.train(X, Y)\n",
    "\n",
    "for x, y in zip(X, Y):\n",
    "    plt.scatter(x[0], x[1], color='r' if y == 1 else 'b', marker='+')\n"
   ],
   "outputs": [
    {
     "output_type": "stream",
     "name": "stdout",
     "text": [
      "[-0.28688316  0.19773233]\n",
      "0.7391460503175806\n"
     ]
    },
    {
     "output_type": "display_data",
     "data": {
      "image/png": "[encoded data removed]",
      "text/plain": [
       "<Figure size 432x288 with 1 Axes>"
      ]
     },
     "metadata": {
      "needs_background": "light"
     }
    }
   ],
   "metadata": {}
  },
  {
   "cell_type": "code",
   "execution_count": null,
   "source": [
    "import numpy as np\n",
    "\n",
    "def gradient_descent(start, gradient, learn_rate, max_iter, tol=0.00001):\n",
    "  x = start\n",
    "  for _ in range(max_iter):\n",
    "    diff = learn_rate*gradient(x)\n",
    "    if np.abs(diff)<tol:\n",
    "      break    \n",
    "    x = x - diff\n",
    "  return  x\n",
    "\n",
    "def gradient_func1(x):\n",
    "  return 2*x\n",
    "\n",
    "result = gradient_descent(9, gradient_func1, 0.1, 10000)\n",
    "print(result)"
   ],
   "outputs": [],
   "metadata": {}
  },
  {
   "cell_type": "markdown",
   "source": [
    "# Exercise 3\n",
    "Run the script in the template to obtain plots for all SVM models\n",
    "obtained for attribute pairs of the Iris dataset (binarized by merging versicolor and virginica).\n",
    "Is your SVM able to find a perfect separation?"
   ],
   "metadata": {}
  }
 ],
 "metadata": {
  "interpreter": {
   "hash": "916dbcbb3f70747c44a77c7bcd40155683ae19c65e1c03b4aa3499c5328201f1"
  },
  "kernelspec": {
   "name": "python3",
   "display_name": "Python 3.8.10 64-bit"
  },
  "language_info": {
   "codemirror_mode": {
    "name": "ipython",
    "version": 3
   },
   "file_extension": ".py",
   "mimetype": "text/x-python",
   "name": "python",
   "nbconvert_exporter": "python",
   "pygments_lexer": "ipython3",
   "version": "3.8.10"
  }
 },
 "nbformat": 4,
 "nbformat_minor": 5
}