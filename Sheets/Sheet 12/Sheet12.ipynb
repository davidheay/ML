{
 "cells": [
  {
   "cell_type": "markdown",
   "id": "ad7d5a50-e580-4374-b1bb-a935cfec1cde",
   "metadata": {},
   "source": [
    "### David Herrera\n",
    "### Estid Lozano"
   ]
  },
  {
   "cell_type": "code",
   "execution_count": 4,
   "id": "799eaf90-2b87-4c16-b6da-1f963938be89",
   "metadata": {},
   "outputs": [],
   "source": [
    "import numpy as np\n",
    "import openml as oml\n",
    "from tqdm.keras import TqdmCallback\n",
    "\n",
    "from sklearn import linear_model, svm\n",
    "from sklearn.linear_model import LogisticRegression\n",
    "from sklearn.naive_bayes import GaussianNB\n",
    "from sklearn.tree import DecisionTreeClassifier"
   ]
  },
  {
   "cell_type": "markdown",
   "id": "47c685bf-96ca-4e72-b98c-059e9e8d7e38",
   "metadata": {},
   "source": [
    "# Exercise 1"
   ]
  },
  {
   "cell_type": "markdown",
   "id": "f3b1bcb8-371d-4dd5-b8b7-23c44bac9fb7",
   "metadata": {},
   "source": [
    "Show the following:"
   ]
  },
  {
   "cell_type": "markdown",
   "id": "234dc6da-d152-43fa-974b-b801a6064940",
   "metadata": {},
   "source": [
    "**1.1.** The weighted error rate $\\varepsilon_t$ compute in line 7 of AdaBoost is always between 0 and 1."
   ]
  },
  {
   "cell_type": "markdown",
   "id": "a01d6d95-e674-4a09-9aa4-f7ee51036b15",
   "metadata": {},
   "source": []
  },
  {
   "cell_type": "markdown",
   "id": "eee849c1-0d04-4875-b788-bfdcf66aaf48",
   "metadata": {},
   "source": [
    "**1.2.** The weight $\\alpha_t$ of the classifier in round $t$ is always strictly positive"
   ]
  },
  {
   "cell_type": "markdown",
   "id": "9385b20f-81b5-4bdc-9596-3b701ea83998",
   "metadata": {},
   "source": []
  },
  {
   "cell_type": "markdown",
   "id": "e4d032ac-82f2-44ab-b962-46ba47d7d907",
   "metadata": {},
   "source": [
    "**1.3.** Suppose that the model $M_t$ miss-classified instance $x_i$ in iteration $t$."
   ]
  },
  {
   "cell_type": "markdown",
   "id": "2a885bee-cc41-4d1a-b59f-5d39b95b7640",
   "metadata": {},
   "source": [
    "**a)** The weight for the instance cannot decrease, i.e. $w^{t+1}_i \\geq w^t_i$. That is, the weight vector computed in line 14 has for every misclassified instance a value that is not smaller as the value the vector $w^t$ had before. And show that it will strictly increase unless all instances were misclassified.\n",
    "\n",
    "*Hint: Note that $w^{t−1}$ has a total sum of 1 when visiting the lines 10-14.*"
   ]
  },
  {
   "cell_type": "markdown",
   "id": "a660d1b2-3f8d-4ae9-920c-7ec8967941fd",
   "metadata": {},
   "source": []
  },
  {
   "cell_type": "markdown",
   "id": "101fa075-0f21-4ada-b778-c3e43fb2da2d",
   "metadata": {},
   "source": [
    "**b)** The lower the weighted error rate over all the instances, the stronger the weight for instance $i$ will increase.\n",
    "\n",
    "*Hint: Consider two error rates $\\epsilon^a$ and $\\epsilon^b$ with $\\epsilon^a > \\epsilon^b$ and observe the effect on $w^t_{i,a}<w^t_{i,b}$, where $w^t_{i,q}$ is the weight obtained when the overall error rate is $q$.*"
   ]
  },
  {
   "cell_type": "markdown",
   "id": "f2c4269b-52f4-4bb2-9e65-3facc3b33fdf",
   "metadata": {},
   "source": []
  },
  {
   "cell_type": "markdown",
   "id": "6e459f5e-b2e4-4da4-b83d-2519a888b841",
   "metadata": {},
   "source": [
    "# Exercise 2"
   ]
  },
  {
   "cell_type": "markdown",
   "id": "ac319edc-f671-471b-8091-61e5cea8422e",
   "metadata": {},
   "source": [
    "**2.1.** Implement the AdaBoost algorithm and the Stacking algorithm"
   ]
  },
  {
   "cell_type": "code",
   "execution_count": 40,
   "id": "e22fa52b-b324-4fb6-9639-939ca6f7bd98",
   "metadata": {},
   "outputs": [],
   "source": [
    "def AdaBoost(M, X, y):\n",
    "    n = len(X)\n",
    "    range_n = range(n)\n",
    "    ones = np.repeat(1, n)\n",
    "    W = np.array([np.repeat(1 / n, n)])\n",
    "    for t, M_t in enumerate(M):\n",
    "        i_t = np.random.randint(0, n, n) # random.choices(np.arange(n), weights=W[t], k=n)\n",
    "        X_t, y_t = X[i_t], y[i_t]\n",
    "        M_t.fit(X_t, y_t, verbose=0, callbacks=[TqdmCallback(verbose=1)]) # On D_t\n",
    "        I = np.array([M_t.predict(X[i]) != y[i] for i in range_n]) # M_t(x_i) != y_i on D\n",
    "        E_t = sum(W[t][I]) # Sum W_t[i] where I[i] is True\n",
    "        if E_t == 0:\n",
    "            break\n",
    "        elif E_t < 0.5:\n",
    "            a = (1 - E_t) / E_t\n",
    "            alpha_t = np.log(a) # WHERE IS USED?\n",
    "            W = W.vstack([W, (a * I) * W[t]]) # Multiplies W_t[i] by a\n",
    "            W[-1] = W[-1] / (np.dot(ones, W[-1]))\n",
    "    return M"
   ]
  },
  {
   "cell_type": "code",
   "execution_count": null,
   "id": "6082588a-5ce1-459c-a783-a3b0c864deda",
   "metadata": {},
   "outputs": [],
   "source": [
    "def Stacking(M, C, X, y):\n",
    "    # Train base classifiers\n",
    "    for M_t in M:\n",
    "        M_t.fit(X, y, verbose=0, callbacks=[TqdmCallback(verbose=1)])\n",
    "    # Train combiner model C on Z\n",
    "    Z = np.array([[M_t.predict(x_i) for M_t in M] for x_i in X])\n",
    "    C.fit(Z, y, verbose=0, callbacks=[TqdmCallback(verbose=1)])\n",
    "    return [C] + M"
   ]
  },
  {
   "cell_type": "markdown",
   "id": "c77cacf1-a301-425d-a6b5-d38fc922eabb",
   "metadata": {},
   "source": [
    "**2.2.** Explore the openml.org platform and search for two datasets with two classes and at least 1000 instances."
   ]
  },
  {
   "cell_type": "code",
   "execution_count": null,
   "id": "3870eca9-26a9-4ec5-8392-ccddfaef154f",
   "metadata": {},
   "outputs": [],
   "source": []
  },
  {
   "cell_type": "markdown",
   "id": "f85741e6-477e-4469-ac24-5ceed501269b",
   "metadata": {},
   "source": [
    "Apply AdaBoost and Stacking to these two datasets and report performances and runtimes. Use AdaBoost with at least 5 different learners from the scikit-learn library.\n",
    "For Stacking, use these learners in layer 1 and try each of them once as the learner to aggregate the predictions."
   ]
  },
  {
   "cell_type": "code",
   "execution_count": null,
   "id": "047c8dfa-6192-4a55-b789-c11c6e0424e6",
   "metadata": {},
   "outputs": [],
   "source": []
  },
  {
   "cell_type": "markdown",
   "id": "2cb4c1ab-e787-41c2-848c-03bce967ff79",
   "metadata": {},
   "source": [
    "**2.3.** Interpret your results."
   ]
  },
  {
   "cell_type": "markdown",
   "id": "1a60dd43-11dc-429d-962d-9d18f814a247",
   "metadata": {},
   "source": []
  }
 ],
 "metadata": {
  "kernelspec": {
   "display_name": "Python 3",
   "language": "python",
   "name": "python3"
  },
  "language_info": {
   "codemirror_mode": {
    "name": "ipython",
    "version": 3
   },
   "file_extension": ".py",
   "mimetype": "text/x-python",
   "name": "python",
   "nbconvert_exporter": "python",
   "pygments_lexer": "ipython3",
   "version": "3.9.4"
  }
 },
 "nbformat": 4,
 "nbformat_minor": 5
}
