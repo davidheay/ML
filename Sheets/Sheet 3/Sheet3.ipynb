{
 "cells": [
  {
   "cell_type": "markdown",
   "source": [
    "# Integrantes\r\n",
    "* ### David Herrera\r\n",
    "* ### Estid Lozano\r\n",
    "* ### Nicolás González"
   ],
   "metadata": {}
  },
  {
   "cell_type": "code",
   "execution_count": 1,
   "source": [
    "# Imports\r\n",
    "from numbers import Number\r\n",
    "import math\r\n",
    "import numpy as np\r\n",
    "import pandas as pd\r\n",
    "import matplotlib.pyplot as plt\r\n",
    "import matplotlib.cm as cm\r\n",
    "from smlutil import *\r\n",
    "import itertools\r\n",
    "from collections import Counter"
   ],
   "outputs": [],
   "metadata": {}
  },
  {
   "cell_type": "markdown",
   "source": [
    "# Exercise 1"
   ],
   "metadata": {}
  },
  {
   "cell_type": "markdown",
   "source": [
    "**1.1** Consider a binary classification problem. Prove that the entropy of the data is 0 if there\r\n",
    "are only samples of one class and that it is maximal if there is exactly the same number\r\n",
    "of instances for both classes in the data. What is the valued of the entropy in that case?\r\n",
    "Hint: Compute the derivative of the entropy and show that it is 0 for a class probability\r\n",
    "of 0.5."
   ],
   "metadata": {}
  },
  {
   "cell_type": "markdown",
   "source": [
    "Consider the two extreme situations (region is pure, and both classes has a $ \\frac{1}{k} $ probability)\r\n",
    "\r\n",
    "If there's only samples of one class:\r\n",
    "\r\n",
    "$ H(D) = -\\sum_{i=1}^{k} P(c_i|D) \\cdot log_2 P(c_i|D) $\r\n",
    "\r\n",
    "$ H(D) = -\\sum_{i=1}^{1} (1) log_2(1) $\r\n",
    "\r\n",
    "$ H(D) = -(1)(0) = 0 $\r\n",
    "\r\n",
    "If there's same number of instances:\r\n",
    "\r\n",
    "$ H(D) = -\\sum_{i=1}^{k} P(c_i|D) \\cdot log_2 P(c_i|D) $\r\n",
    "\r\n",
    "$ H(D) = -k \\cdot (\\frac{1}{k} \\cdot log_2 (\\frac{1}{k})) $\r\n",
    "\r\n",
    "$ H(D) = -1 \\cdot (-log_2(k)) = log_2(k) $\r\n",
    "\r\n",
    "Where 0 and $ log_2(k) are the minimum and maximum values that entropy can take, respectively."
   ],
   "metadata": {}
  },
  {
   "cell_type": "markdown",
   "source": [
    "**1.2.** Consider a k-class classification problem. Determine analytically the exact range of\r\n",
    "values the Gini-Index can take.\r\n"
   ],
   "metadata": {}
  },
  {
   "cell_type": "markdown",
   "source": [
    "Starting from the Gini's formula:\r\n",
    "\r\n",
    "$ G(D) = 1 - \\sum_{i=1}^{k} P(c_i|D)^2 $\r\n",
    "\r\n",
    "If the region is pure, then:\r\n",
    "\r\n",
    "$ G(D) = 1 - \\sum_{i=1}^{1} 1^2 = 0 $\r\n",
    "\r\n",
    "If both classes have the same number of instances:\r\n",
    "\r\n",
    "$ G(D) = 1 - \\sum_{i=1}^{k} (\\frac{1}{k})^2 = 0 $\r\n",
    "\r\n",
    "$ G(D) = 1 - \\frac{k}{k^2} $\r\n",
    "\r\n",
    "$ G(D) = 1 - \\frac{1}{k} = \\frac{k - 1}{k} $\r\n",
    "\r\n",
    "Where 0 and $ \\frac{k - 1}{k} $ are the minimum and maximum values that Gini can take, respectively."
   ],
   "metadata": {}
  },
  {
   "cell_type": "markdown",
   "source": [
    "**1.3** Consider a binary classification problem. Now for values of P(c1|D) E [0; 1], create plots\r\n",
    "for the entropy, the Gini-Index, and the CART-index."
   ],
   "metadata": {}
  },
  {
   "cell_type": "code",
   "execution_count": 45,
   "source": [
    "X = np.linspace(0.01, 0.99)\r\n",
    "plt.plot(X, [-(x * math.log2(x) + (1 - x) * math.log2(1 - x)) for x in X], label = \"Entropy\")\r\n",
    "plt.plot(X, [1 - (math.pow(x, 2) + math.pow(1 - x, 2)) for x in X], label = \"Gini\")\r\n",
    "plt.plot(X, [abs(2 * x - 1) for x in X], label = \"Cart\")\r\n",
    "plt.xlabel('x')\r\n",
    "plt.ylabel('measure')\r\n",
    "plt.legend()"
   ],
   "outputs": [
    {
     "output_type": "execute_result",
     "data": {
      "text/plain": [
       "<matplotlib.legend.Legend at 0x219d6307190>"
      ]
     },
     "metadata": {},
     "execution_count": 45
    },
    {
     "output_type": "display_data",
     "data": {
      "text/plain": [
       "<Figure size 432x288 with 1 Axes>"
      ],
      "image/png": "[encoded data removed]"
     },
     "metadata": {
      "needs_background": "light"
     }
    }
   ],
   "metadata": {}
  },
  {
   "cell_type": "markdown",
   "source": [
    "Now suppose that a dataset exhibits the maximum entropy. Further suppose that we\r\n",
    "have a split point that will split the dataset into exactly two equally large parts, i.e.,\r\n",
    "|DY| = |DN| = |D|=2. Now create a 3D surface plot in which you show the information\r\n",
    "gain for different combinations of values of H(DY) and H(DN)."
   ],
   "metadata": {}
  },
  {
   "cell_type": "markdown",
   "source": [
    "**1.4.** A very simple rule-based learner is the so called Majority classifier, which always, without\r\n",
    "looking at the instance values, predicts the class that was most frequent in the training\r\n",
    "data.\r\n",
    "Show that the decision tree algorithm can be configured so that it behaves exactly like\r\n",
    "the majority classifier."
   ],
   "metadata": {}
  },
  {
   "cell_type": "markdown",
   "source": [
    "The decision tree algorithm can be configured to behaves like the majority classifier by setting π (purity threshold) to zero or setting η (the minimum instances count per region) to n (|D|); that's because the decision tree algorithm does not any partition, and always predicts the most common class."
   ],
   "metadata": {}
  },
  {
   "cell_type": "markdown",
   "source": [
    "# Exercise 2"
   ],
   "metadata": {}
  },
  {
   "cell_type": "markdown",
   "source": [
    "**1.1.** Implement the decision tree algorithm for both numerical and categorical attributes. For\r\n",
    "categorical attribute, you can assume that jV j = 1. As in the pseudo-code, treat the\r\n",
    "function Gain as a (functional) parameter of your algorithm."
   ],
   "metadata": {}
  },
  {
   "cell_type": "code",
   "execution_count": null,
   "source": [
    "class DecisionTree:\r\n",
    "    def __init__(self, gain, _n=5, _pi=0.95):\r\n",
    "        self.gain = gain\r\n",
    "        self._n = _n\r\n",
    "        self._pi = _pi\r\n",
    "        self.tree = {}\r\n",
    "        self.data = {}\r\n",
    "        \r\n",
    "    def getName(self):\r\n",
    "        return \"DecisionTree\"\r\n",
    "  \r\n",
    "    def train(self, X, Y, parent=None):\r\n",
    "        if not self.data:\r\n",
    "            self.data={\"X\":X,\"Y\":Y}\r\n",
    "        if(parent is None):\r\n",
    "            parent = self.tree\r\n",
    "        n = len(X)\r\n",
    "        ni = dict(Counter(Y))\r\n",
    "        ni_n = {k: v/n for k, v in ni.items()}\r\n",
    "        purity = max(ni_n.values())\r\n",
    "        if n < self._n or purity >= self._pi:\r\n",
    "            c_ = max(ni_n, key=ni_n.get)\r\n",
    "            parent[\"max\"] = c_\r\n",
    "            parent[\"table\"] = ni\r\n",
    "            return\r\n",
    "        splitPoint, bestScore = None, 0\r\n",
    "        for attrX in range(len(X[0])):\r\n",
    "            if isinstance(X[0][attrX], Number):\r\n",
    "                v, score = self.evaluateNumericAttribute(X, Y, attrX)\r\n",
    "                if score > bestScore:\r\n",
    "                    splitPoint, bestScore = (attrX, v), score\r\n",
    "            else:\r\n",
    "                v, score = self.evaluateCategoricalAttribute(X, Y, attrX)\r\n",
    "                if score > bestScore:\r\n",
    "                    splitPoint, bestScore = (attrX, v), score\r\n",
    "        if splitPoint is not None:\r\n",
    "            if isinstance(X[0][splitPoint[0]], Number):\r\n",
    "                Dy = [indx for indx, x in enumerate(X) if x[splitPoint[0]] <= splitPoint[1]]\r\n",
    "                Dn = [indx for indx, x in enumerate(X) if not x[splitPoint[0]] <= splitPoint[1]]\r\n",
    "            else:\r\n",
    "                Dy = [indx for indx, x in enumerate(X) if x[splitPoint[0]] in splitPoint[1]]\r\n",
    "                Dn = [indx for indx, x in enumerate(X) if  x[splitPoint[0]] not in splitPoint[1]]\r\n",
    "\r\n",
    "            parent[str(splitPoint)] = {\"Dy\": {}, \"Dn\": {}}\r\n",
    "            # if(len(Dy)>0):\r\n",
    "            self.train(X[Dy], Y[Dy], parent[str(splitPoint)][\"Dy\"])\r\n",
    "            # if(len(Dn)>0):\r\n",
    "            self.train(X[Dn], Y[Dn], parent[str(splitPoint)][\"Dn\"])\r\n",
    "        else:\r\n",
    "            c_ = max(ni_n, key=ni_n.get)\r\n",
    "            parent[\"max\"] = c_\r\n",
    "            parent[\"table\"] = ni\r\n",
    "            return\r\n",
    "    \r\n",
    "    def evaluateNumericAttribute(self, X, Y, attrX):\r\n",
    "        X = X[:, attrX]\r\n",
    "        argS = np.argsort(X)\r\n",
    "        X = X[argS]\r\n",
    "        Y = Y[argS]\r\n",
    "        M = set()\r\n",
    "        classes = np.unique(Y)\r\n",
    "        ni = {k: 0 for k in classes}\r\n",
    "        Nvi = {}\r\n",
    "        for j in range(len(X)-1):\r\n",
    "            ni[Y[j]] += 1\r\n",
    "            if (X[j+1] != X[j]).any():\r\n",
    "                v = (X[j+1]+X[j])/2\r\n",
    "                M.add(v)\r\n",
    "                for i in classes:\r\n",
    "                    if not str(v) in Nvi:\r\n",
    "                        Nvi[str(v)] = {}\r\n",
    "                    Nvi[str(v)][i] = len([x for x, y in zip(X, Y) if x <= v and y == i])\r\n",
    "        ni[Y[-1]] += 1\r\n",
    "        _v, bestScore = None, 0\r\n",
    "        PciD = {k:v/len(X) for k,v in ni.items()}\r\n",
    "        PciDy = {}\r\n",
    "        ny = 0\r\n",
    "        PciDn = {}\r\n",
    "        nn = 0\r\n",
    "        for v in M:\r\n",
    "            ny = 0\r\n",
    "            for i in classes:\r\n",
    "                ny += Nvi[str(v)][i]\r\n",
    "                PciDy[i] = Nvi[str(v)][i] / sum(Nvi[str(v)].values())\r\n",
    "                PciDn[i] = (ni[i]-Nvi[str(v)][i])/sum([ni[j]-Nvi[str(v)][j]for j in Nvi[str(v)].keys()])\r\n",
    "            nn = len(X)-ny\r\n",
    "            score = self.gain.evaluate(PciD,len(X),ny,nn,PciDy,PciDn,classes)\r\n",
    "            if score > bestScore:\r\n",
    "                _v = v\r\n",
    "                bestScore = score\r\n",
    "        return _v, bestScore\r\n",
    "    def evaluateCategoricalAttribute(self, X, Y, attrX):\r\n",
    "        X = X[:, attrX]\r\n",
    "        classes = np.unique(Y)\r\n",
    "        domX = np.unique(X)\r\n",
    "        nvi = {}\r\n",
    "        ni = {}\r\n",
    "        for cla in classes:\r\n",
    "            ni[cla]=0\r\n",
    "            nvi[cla] = {}\r\n",
    "            for v in domX:\r\n",
    "                nvi[cla][v]=0\r\n",
    "        for x,y in zip(X,Y):\r\n",
    "            ni[y]+=1\r\n",
    "            nvi[y][x]+=1\r\n",
    "\r\n",
    "        PciD = {k:v/len(X) for k,v in ni.items()}\r\n",
    "        PciDy = {}\r\n",
    "        PciDn = {}\r\n",
    "        ny = 0\r\n",
    "        nn = 0\r\n",
    "        _v,bestScore=None,0\r\n",
    "        for V in list(itertools.combinations(domX, 1)):\r\n",
    "            for i in classes:\r\n",
    "                ny = sum([1 for v in X if v in V])\r\n",
    "                nn = sum([1 for v in X if v not in V])\r\n",
    "                try:\r\n",
    "                    PciDy[i] = sum([nvi[i][v] for v in domX if v in V ])/ sum([sum([nvi[j][v]\r\n",
    "                        for v in domX if v in V]) for j in classes])\r\n",
    "                except:\r\n",
    "                    PciDy[i] = 0\r\n",
    "                try:\r\n",
    "                    PciDn[i] = sum([nvi[i][v] for v in domX if v not in V ])/ sum([sum([nvi[j][v]\r\n",
    "                        for v in domX if v not in V]) for j in classes])\r\n",
    "                except:\r\n",
    "                    PciDn[i] = 0\r\n",
    "            score = self.gain.evaluate(PciD,len(X),ny,nn,PciDy,PciDn,classes)\r\n",
    "            if score>bestScore:\r\n",
    "                _v = V\r\n",
    "                bestScore=score\r\n",
    "        return _v,bestScore\r\n",
    "\r\n",
    "    def printTree(self):\r\n",
    "        self.formatData(self.tree)\r\n",
    "    def formatData(self, t, s=0):\r\n",
    "        if not isinstance(t, dict) and not isinstance(t, list):\r\n",
    "            print(\"| \"*s+str(t))\r\n",
    "        else:\r\n",
    "            for key in t:\r\n",
    "                print(\"| \"*s+str(key))\r\n",
    "                if not isinstance(t, list):\r\n",
    "                    self.formatData(t[key], s+1)\r\n",
    "    \r\n",
    "    def predict(self, X):\r\n",
    "        res= []\r\n",
    "        for x in X:\r\n",
    "            res.append(self.recursivePredict(self.tree,x))\r\n",
    "        return res\r\n",
    "    def recursivePredict(self, t,x):\r\n",
    "        for key in t:\r\n",
    "            if not isinstance(t, list):\r\n",
    "                if(key==\"max\"):\r\n",
    "                    return t[key]\r\n",
    "                condition = eval(key)\r\n",
    "                attr=condition[0]\r\n",
    "                val=condition[1]\r\n",
    "                if isinstance(x[attr], Number):\r\n",
    "                    if(x[attr]<=val):\r\n",
    "                        return self.recursivePredict(t[key][\"Dy\"],x)\r\n",
    "                    else:\r\n",
    "                        return  self.recursivePredict(t[key][\"Dn\"],x)\r\n",
    "                else:\r\n",
    "                    if(x[attr] in val):\r\n",
    "                        return self.recursivePredict(t[key][\"Dy\"],x)\r\n",
    "                    else:\r\n",
    "                        return  self.recursivePredict(t[key][\"Dn\"],x)\r\n",
    "    \r\n",
    "    def plotTree(self,fig=None,ax=None):\r\n",
    "        classes =list(np.unique(self.data[\"Y\"]))\r\n",
    "        cm = plt.get_cmap('gist_rainbow')\r\n",
    "        colors = [cm(1.*i/len(classes)) for i in range(len(classes))]\r\n",
    "        if fig == None:\r\n",
    "            fig, ax = plt.subplots(1,1,figsize=(10,7))\r\n",
    "        for x,y in zip(self.data[\"X\"],self.data[\"Y\"]):\r\n",
    "            ax.scatter(x[0], x[1],color=colors[classes.index(y)])\r\n",
    "        y_min, y_max = ax.get_ylim()\r\n",
    "        x_min, x_max = ax.get_xlim()\r\n",
    "        self.getLinesRecursive(self.tree,ax,y_min, y_max,x_min, x_max)\r\n",
    "    def getLinesRecursive(self, t,ax,y_min, y_max,x_min, x_max):\r\n",
    "        for key in t:\r\n",
    "            if not isinstance(t, list):\r\n",
    "                if(key==\"max\"):\r\n",
    "                    return \r\n",
    "                condition = eval(key)\r\n",
    "                attr=condition[0]\r\n",
    "                val=condition[1]\r\n",
    "                saveX_max=x_max\r\n",
    "                savey_max=y_max\r\n",
    "                if(attr==0):\r\n",
    "                    ax.plot((val,val), (y_min, y_max), 'k-')\r\n",
    "                    x_max=val\r\n",
    "                else:\r\n",
    "                    ax.plot((x_min, x_max), (val,val), 'k-')\r\n",
    "                    y_max=val\r\n",
    "\r\n",
    "                self.getLinesRecursive(t[key][\"Dy\"],ax,y_min, y_max,x_min, x_max)\r\n",
    "                x_max=saveX_max\r\n",
    "                y_max=savey_max\r\n",
    "                if(attr==0):\r\n",
    "                    x_min=val\r\n",
    "                else:\r\n",
    "                    y_min=val\r\n",
    "                self.getLinesRecursive(t[key][\"Dn\"],ax,y_min, y_max,x_min, x_max)\r\n",
    "\r\n",
    "\r\n",
    "class informationGain:\r\n",
    "    def evaluate(self,PciD,n, ny,nn,PciDy,PciDn,classes):\r\n",
    "        return (-sum([PciD[i]*math.log(0.00000001 if PciD[i] == 0 else PciD[i], 2) for i in classes])) -((ny/(n))*(-sum([PciDy[i]*math.log(0.00000001 if PciDy[i] == 0 else PciDy[i], 2) for i in classes]))+(nn/(n))*(-sum([PciDn[i]*math.log(0.00000001 if PciDn[i] == 0 else PciDn[i], 2) for i in classes])))\r\n",
    "class giniIndex:\r\n",
    "    def evaluate(self,PciD,n, ny,nn,PciDy,PciDn,classes):\r\n",
    "        return (1-sum([PciD[i]**2 for i in classes]))-((ny/(n))*(1-sum([PciDy[i]**2 for i in classes]))+(nn/(n))*(1-sum([PciDn[i]**2 for i in classes])))\r\n",
    "class cart:\r\n",
    "    def evaluate(self,PciD,n, ny,nn,PciDy,PciDn,classes):\r\n",
    "        return (2*(ny/(n))*(nn/(n))* sum([abs(PciDy[i]-PciDn[i]) for i in classes]))\r\n"
   ],
   "outputs": [],
   "metadata": {}
  },
  {
   "cell_type": "markdown",
   "source": [
    "**1.2.** Create a function that can visualize the segmentation produced by a decision tree. Plot\r\n",
    "this segmentation for the iris dataset for the three different split point criteria (information\r\n",
    "gain, gini-index, and CART)."
   ],
   "metadata": {}
  },
  {
   "cell_type": "code",
   "execution_count": null,
   "source": [
    "# Read dataset\r\n",
    "df = pd.read_csv('iris.csv')\r\n",
    "# get first 2 rows\r\n",
    "X = df.iloc[:, :2].to_numpy()\r\n",
    "# get labels\r\n",
    "Y = df.iloc[:, -1].to_numpy()\r\n",
    "\r\n",
    "\r\n",
    "model = DecisionTree(informationGain())\r\n",
    "model.train(X, Y)\r\n",
    "model.plotTree()\r\n",
    "\r\n",
    "model = DecisionTree(giniIndex())\r\n",
    "model.train(X, Y)\r\n",
    "model.plotTree()\r\n",
    "\r\n",
    "model = DecisionTree(cart())\r\n",
    "model.train(X, Y)\r\n",
    "model.plotTree()\r\n",
    "\r\n",
    "# book example\r\n",
    "Y = np.where(Y != \"setosa\", \"others\", Y)\r\n",
    "model = DecisionTree(informationGain())\r\n",
    "model.train(X, Y)\r\n",
    "model.plotTree()\r\n",
    "print(model.tree)\r\n",
    "\r\n",
    "model = DecisionTree(giniIndex())\r\n",
    "model.train(X, Y)\r\n",
    "model.plotTree()\r\n",
    "print(model.tree)\r\n",
    "\r\n",
    "model = DecisionTree(cart())\r\n",
    "model.train(X, Y)\r\n",
    "model.plotTree()\r\n",
    "print(model.tree)\r\n"
   ],
   "outputs": [],
   "metadata": {}
  },
  {
   "cell_type": "markdown",
   "source": [
    "**1.3.** Consider values of _n E {1, 2, 5, 10} and _pi E {1.0, 0.9, 0.8, 0.5}. Create three 4 x 4 plot grids, one for each split criterion (information gain, gini-index, and CART) and each grid representing the parameter combinations of _n and _pi.\r\n",
    "In each cell, show the learning curves of the decision tree classifier on the breast cancer data using the respective values for _n and _pi. Do you observa any effect? For which case do you obtain the best results."
   ],
   "metadata": {}
  },
  {
   "cell_type": "code",
   "execution_count": null,
   "source": [
    "df = pd.read_csv('breast-cancer.csv').to_numpy()\r\n",
    "X = df[:, :2]\r\n",
    "Y = df[:, -1]\r\n",
    "_n= [1, 2, 5, 10]\r\n",
    "_p= [1.0, 0.9, 0.8, 0.5]\r\n",
    "axInd=[[0,0],[0,1],[1,0],[1,1]]\r\n",
    "splits= [informationGain(),giniIndex(),cart()]\r\n",
    "for sp in splits:\r\n",
    "    fig, ax = plt.subplots(2,2,figsize=(20,14))\r\n",
    "    fig.suptitle(type(sp).__name__, fontsize=16)\r\n",
    "    for n,pi,ind in zip(_n,_p,axInd):\r\n",
    "        ax[ind[0]][ind[1]].set_title('n: '+str(n)+\" pi: \"+str(pi))\r\n",
    "        model = DecisionTree(sp,n,pi)\r\n",
    "        model.train(X, Y)\r\n",
    "        plot_learning_curves(DecisionTree(informationGain()),X,Y,ax[ind[0]][ind[1]])\r\n",
    "    \r\n"
   ],
   "outputs": [],
   "metadata": {}
  }
 ],
 "metadata": {
  "interpreter": {
   "hash": "39615471a12bbabdc24952a6b2334f200eb09c18349abce2bd8427685dd9b8c6"
  },
  "kernelspec": {
   "name": "python3",
   "display_name": "Python 3.9.4 64-bit (system)"
  },
  "language_info": {
   "codemirror_mode": {
    "name": "ipython",
    "version": 3
   },
   "file_extension": ".py",
   "mimetype": "text/x-python",
   "name": "python",
   "nbconvert_exporter": "python",
   "pygments_lexer": "ipython3",
   "version": "3.9.4"
  }
 },
 "nbformat": 4,
 "nbformat_minor": 5
}