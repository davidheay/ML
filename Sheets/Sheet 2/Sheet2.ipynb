{
 "cells": [
  {
   "cell_type": "markdown",
   "metadata": {},
   "source": [
    "## Integrantes\n",
    "* ### David Herrera\n",
    "* ### Estid Lozano\n",
    "* ### Nicolás González"
   ]
  },
  {
   "cell_type": "markdown",
   "metadata": {},
   "source": [
    "## Exercise 1"
   ]
  },
  {
   "cell_type": "markdown",
   "metadata": {},
   "source": [
    "**1.1.** Do you think that the MLE classifier works well for the Iris dataset? Explain!"
   ]
  },
  {
   "cell_type": "markdown",
   "metadata": {},
   "source": [
    "Yes, because MLE is thought for small (finite) X and Y; furthermore, we have to take into account that Y is categorical, with only 3 classes; and the size of X is enoughly small (could be bigger). Summarizing, it's a good approach for the amount of data we have."
   ]
  },
  {
   "cell_type": "markdown",
   "metadata": {},
   "source": [
    "**1.2.** Let X and Y be finite (all attributes are categorical). Show that then the MLE-based\n",
    "approach estimates the same posterior probabilities P(yjx) as the Bayesian approach."
   ]
  },
  {
   "cell_type": "markdown",
   "metadata": {},
   "source": [
    "$ P(c_i|X) = \\frac{f_i(X)P(c_i)}{P(X)} $\n",
    "\n",
    "$ P(c_i|X) = \\frac{f_i(X)P(c_i)}{\\sum_{j=1}^{k}f_j(X)P(c_j)}; k = |C| $\n",
    "\n",
    "Knowing that C = Y and , we have:\n",
    "\n",
    "$ P(y|X) = \\frac{f_i(X)P(y)}{\\sum_{j=1}^{k}f_j(X)P(y)}; k = |C| $\n",
    "\n",
    "$ \\frac{\\alpha_{xy}}{\\sum_{z \\in Y} \\alpha_{xz}} = \\theta_{xy} $"
   ]
  },
  {
   "cell_type": "markdown",
   "metadata": {},
   "source": [
    "## Exercise 2\n",
    "**2.1.** Implement a class MLEClassifier that works on categorical problems (X and Y discrete)\n",
    "and predicts classes based on the estimated posterior probabilities."
   ]
  },
  {
   "cell_type": "code",
   "execution_count": 1,
   "metadata": {},
   "outputs": [],
   "source": [
    "# imports\n",
    "import matplotlib.pyplot as plt\n",
    "import pandas as pd\n",
    "import numpy as np\n",
    "import math\n",
    "import random\n",
    "from tqdm import tqdm\n",
    "from smlutil import *\n",
    "from scipy.stats import multivariate_normal"
   ]
  },
  {
   "cell_type": "code",
   "execution_count": 2,
   "metadata": {},
   "outputs": [
    {
     "data": {
      "text/plain": [
       "[\"'recurrence-events'\"]"
      ]
     },
     "execution_count": 2,
     "metadata": {},
     "output_type": "execute_result"
    }
   ],
   "source": [
    "class MLEClassifier:\n",
    "    def getName(self):\n",
    "        return \" MLEClassifier\"\n",
    "    def train(self, X, Y):\n",
    "        self.X = X\n",
    "        self.Y = Y\n",
    "        self.dict = {}\n",
    "        for x, y in zip(self.X, self.Y):\n",
    "            temp = \",\".join(x)\n",
    "            if temp not in self.dict.keys():\n",
    "                self.dict[temp] = {}\n",
    "            newDict = self.dict[temp]\n",
    "            if y not in newDict.keys():\n",
    "                newDict[y] = 0\n",
    "            newDict[y] += 1\n",
    "        for key in self.dict.keys():\n",
    "            sum = 0\n",
    "            for newKey in self.dict[key]:\n",
    "                sum += self.dict[key][newKey]\n",
    "            for newKey in self.dict[key]:\n",
    "                self.dict[key][newKey] /= sum\n",
    "\n",
    "    def predict(self, X):\n",
    "        res = []\n",
    "        # print(self.dict)\n",
    "        for x in X:\n",
    "            predict = \",\".join(x)\n",
    "            try:\n",
    "                res.append(max(self.dict[predict], key=self.dict[predict].get))\n",
    "            except KeyError:\n",
    "                res.append('none')\n",
    "        return res\n",
    "\n",
    "\n",
    "# Read dataset\n",
    "df = pd.read_csv('breast-cancer.csv').to_numpy()\n",
    "model = MLEClassifier()\n",
    "X = df[:, :9]\n",
    "Y = df[:, -1]\n",
    "model.train(X, Y)\n",
    "model.predict([[\"'40-49'\",\"'premeno'\",\"'15-19'\",\"'0-2'\",\"'yes'\",\"'3'\",\"'right'\",\"'left_up'\",\"'no'\"]])"
   ]
  },
  {
   "cell_type": "markdown",
   "metadata": {},
   "source": [
    "**2.2.** Implement a class BayesianCategoricalClassifier. It should receive a parameter\n",
    "is_naive at initialization time to specify whether it should behave in a naive way.\n",
    "Models may be learned without the adjusted frequencies."
   ]
  },
  {
   "cell_type": "code",
   "execution_count": 3,
   "metadata": {},
   "outputs": [
    {
     "data": {
      "text/plain": [
       "[\"'no-recurrence-events'\"]"
      ]
     },
     "execution_count": 3,
     "metadata": {},
     "output_type": "execute_result"
    }
   ],
   "source": [
    "class BayesianCategoricalClassifier:\n",
    "    def __init__(self,is_naive):\n",
    "        self.is_naive=is_naive\n",
    "    def getName(self):\n",
    "        return \" Bayesian \" +(' naive' if self.is_naive else '')\n",
    "    def train(self,X,Y):\n",
    "        classes = np.unique(Y)\n",
    "        self.m=set()\n",
    "        self.n=set()\n",
    "        self.Di={}\n",
    "        self.table = {}\n",
    "        self.pi={}\n",
    "        self.ni={}\n",
    "        if not (self.is_naive):\n",
    "            for k in classes:\n",
    "                self.Di[k]=[]\n",
    "                for x,y in zip(X,Y):\n",
    "                    if(y==k):\n",
    "                        self.Di[k].append(x)\n",
    "                for di in self.Di:\n",
    "                    self.ni[di]=len(self.Di[di])\n",
    "                    self.pi[di]=len(self.Di[di])/len(X)\n",
    "                    self.table[k] ={}\n",
    "                    for x in self.Di[di]:\n",
    "                        self.m.add(x[0])\n",
    "                        self.n.add(x[1])\n",
    "                        if not x[0] in self.table[k]:\n",
    "                            self.table[k][x[0]]={}\n",
    "                        if not x[1] in self.table[k][x[0]]:\n",
    "                            self.table[k][x[0]][x[1]]=0\n",
    "                        self.table[k][x[0]][x[1]]+=1/self.ni[di]\n",
    "        else:\n",
    "            for k in classes:\n",
    "                self.Di[k]=[]\n",
    "                for x,y in zip(X,Y):\n",
    "                    if(y==k):\n",
    "                        self.Di[k].append(x)\n",
    "                for di in self.Di:\n",
    "                    self.ni[di]=len(self.Di[di])\n",
    "                    self.pi[di]=len(self.Di[di])/len(df)\n",
    "                    self.table[k] ={}\n",
    "                    for x in self.Di[di]:\n",
    "                        self.m.add(x[0])\n",
    "                        if not \"x1\"+x[0] in self.table[k]:\n",
    "                            self.table[k][\"x1\"+x[0]]=0\n",
    "                        if not \"x2\"+x[1] in self.table[k]:\n",
    "                            self.table[k][\"x2\"+x[1]]=0\n",
    "                        self.table[k][\"x1\"+x[0]]+=1/self.ni[di]\n",
    "                        self.table[k][\"x2\"+x[1]]+=1/self.ni[di]\n",
    "\n",
    "    def predict(self,X):\n",
    "        resTotal=[]\n",
    "        for x in X:\n",
    "            res = {}\n",
    "            if not self.is_naive:\n",
    "                for k in self.Di.keys():\n",
    "                    try:\n",
    "                        res[k]=self.pi[k]*self.table[k][x[0]][x[1]]\n",
    "                    except KeyError:\n",
    "                        res[k]=self.pi[k]*(1/(self.ni[k]+len(self.n)*len(self.m)))\n",
    "            else:\n",
    "                for k in self.Di.keys():\n",
    "                    try:\n",
    "                        res[k]=self.pi[k]*self.table[k][\"x1\"+x[0]]*self.table[k][\"x2\"+x[1]]\n",
    "                    except KeyError:\n",
    "                        try:\n",
    "                            res[k]=self.pi[k]*1/(self.ni[k]+len(self.m)) * self.table[k][\"x2\"+x[1]]\n",
    "                        except KeyError:\n",
    "                            res[k]=0\n",
    "            resTotal.append(max(res, key=res.get))\n",
    "        return resTotal\n",
    "\n",
    "df = pd.read_csv('breast-cancer.csv').to_numpy()\n",
    "X = df[:, :9]\n",
    "Y = df[:, -1]\n",
    "model = BayesianCategoricalClassifier(False)\n",
    "model.train(X,Y)\n",
    "model.predict([[\"'40-49'\",\"'premeno'\",\"'15-19'\",\"'0-2'\",\"'yes'\",\"'3'\",\"'right'\",\"'left_up'\",\"'yes'\"]])\n"
   ]
  },
  {
   "cell_type": "markdown",
   "metadata": {},
   "source": [
    "**2.3.** Create a 3-plot series and depict the learning curves of the MLEClassifier and the BayesianCategorialClassifier (full and naive) on the cancer dataset."
   ]
  },
  {
   "cell_type": "code",
   "execution_count": 5,
   "metadata": {},
   "outputs": [
    {
     "data": {
      "image/png": "[encoded data removed]",
      "text/plain": [
       "<Figure size 432x288 with 1 Axes>"
      ]
     },
     "metadata": {
      "needs_background": "light"
     },
     "output_type": "display_data"
    }
   ],
   "source": [
    "df = pd.read_csv('breast-cancer.csv').to_numpy()\n",
    "X = df[:, :2]\n",
    "Y = df[:, -1]\n",
    "\n",
    "ax = plot_learning_curves(BayesianCategoricalClassifier(False),X,Y)\n",
    "ax = plot_learning_curves(BayesianCategoricalClassifier(True),X,Y,ax)\n",
    "ax = plot_learning_curves(MLEClassifier(),X,Y,ax)"
   ]
  },
  {
   "cell_type": "markdown",
   "metadata": {},
   "source": [
    "- Which learner works best here?"
   ]
  },
  {
   "cell_type": "markdown",
   "metadata": {},
   "source": [
    "The learner works best (by little) here, taking into account the learning curves, its the **Bayesian classifier** because of its in-sample error is closer to its out-of-sample, and its out-of-sample is less than the others (this last one is specially important) is less than the other learners."
   ]
  },
  {
   "cell_type": "markdown",
   "metadata": {},
   "source": [
    "- Look at the class distribution on the breast-cancer dataset. Do you think that the\n",
    "performance of the learners is good? Explain!"
   ]
  },
  {
   "cell_type": "markdown",
   "metadata": {},
   "source": [
    "In terms of results **Not much**, the obtained error is about 30%, which means that the predictions still failing a lot of times. In terms of time and space, for this case, yes. But the small time consumed is due more to the amount of data than the learners itself."
   ]
  },
  {
   "cell_type": "markdown",
   "metadata": {},
   "source": [
    "- Is there an important gap between the in-sample and validation learning curve? How do\n",
    "you interpret this gap?"
   ]
  },
  {
   "cell_type": "markdown",
   "metadata": {},
   "source": [
    "There is a gap, but **it's not big**. This gap exists because the in-sample error usually is less than the validation one, due to the hypothesis fits better the data we used to train the learner"
   ]
  },
  {
   "cell_type": "markdown",
   "metadata": {},
   "source": [
    "**2.4.** Create the same 3-plot series for the symptoms dataset. Conduct the same kind of\n",
    "analysis."
   ]
  },
  {
   "cell_type": "code",
   "execution_count": 7,
   "metadata": {},
   "outputs": [
    {
     "data": {
      "image/png": "[encoded data removed]",
      "text/plain": [
       "<Figure size 432x288 with 1 Axes>"
      ]
     },
     "metadata": {
      "needs_background": "light"
     },
     "output_type": "display_data"
    }
   ],
   "source": [
    "df = pd.read_csv('symptoms.csv').to_numpy()\n",
    "X = df[:, :4]\n",
    "Y = df[:, -1]\n",
    "ax = plot_learning_curves(BayesianCategoricalClassifier(False),X,Y)\n",
    "ax = plot_learning_curves(BayesianCategoricalClassifier(True),X,Y,ax)\n",
    "ax = plot_learning_curves(MLEClassifier(),X,Y,ax)"
   ]
  },
  {
   "cell_type": "markdown",
   "metadata": {},
   "source": [
    "- What do you find different to the performance on the breast-cancer dataset?\n",
    "Do you think that other learners could do better on the data? Why or why not?"
   ]
  },
  {
   "cell_type": "markdown",
   "metadata": {},
   "source": [
    "The biggest difference is that this time the best (by far) learner is the MLE classifier. It's evident that the other learners got a lot worse, while the MLE still having an error about 30%. We think that it's likely other learners that converge a little lower but better works do better on this data."
   ]
  },
  {
   "cell_type": "markdown",
   "metadata": {},
   "source": [
    "**2.5.**\n",
    "Implement a class BayesianNumericalClassifier. It should receive a parameter is_naive\n",
    "at initialization time to specify whether it should behave in a naive way. Models should\n",
    "be learned assuming a joint normal distribution (you might want to look at np.cov and\n",
    "scipy.stats.multivariate_normal.pdf).\n",
    "Plot the learning curves of the full and naive Bayesian classifier on Iris."
   ]
  },
  {
   "cell_type": "code",
   "execution_count": 8,
   "metadata": {},
   "outputs": [
    {
     "data": {
      "image/png": "[encoded data removed]",
      "text/plain": [
       "<Figure size 432x288 with 1 Axes>"
      ]
     },
     "metadata": {
      "needs_background": "light"
     },
     "output_type": "display_data"
    }
   ],
   "source": [
    "from scipy.stats import multivariate_normal\n",
    "\n",
    "class BayesianNumericalClassifier:\n",
    "    def __init__(self, is_naive):\n",
    "        self.is_naive = is_naive\n",
    "    def getName(self):\n",
    "        return \" Bayesian \" +(' naive' if self.is_naive else '')\n",
    "    def train(self, X, Y):\n",
    "        self.D = {}\n",
    "        for x, y in zip(X, Y):\n",
    "            if y not in self.D.keys():\n",
    "                self.D[y] = []\n",
    "            self.D[y].append(x)\n",
    "        self.n = {}\n",
    "        self.Pc = {}\n",
    "        self.miu = {}\n",
    "        self.Z = {}\n",
    "        self.cov = {}\n",
    "        self.cov2 = {}\n",
    "        for key in self.D:\n",
    "            self.n[key] = len(self.D[key])\n",
    "            self.Pc[key] = self.n[key]/len(X)\n",
    "            self.miu[key] = (1/self.n[key]) * np.sum(self.D[key], axis=0)\n",
    "            self.Z[key] = self.D[key]-self.miu[key].transpose()\n",
    "            if not self.is_naive:\n",
    "                self.cov[key] = 1/self.n[key] * np.dot(self.Z[key].transpose(), self.Z[key])\n",
    "                self.cov[key] = self.cov[key].astype(\"float\")\n",
    "            else:\n",
    "                self.cov[key] = {}\n",
    "                d=len(self.Z[key][0])\n",
    "                covMat = np.zeros((d,d))\n",
    "                for i in range(d):\n",
    "                    # cov for manual equation\n",
    "                    self.cov[key][i] =  (1/self.n[key]) * np.dot(self.Z[key][:, i], self.Z[key][:, i].transpose())\n",
    "                    # cov for ultivariate_normal.pdf\n",
    "                    covMat[i][i]= (1/self.n[key]) * np.dot(self.Z[key][:, i], self.Z[key][:, i].transpose())\n",
    "                self.cov2[key]=covMat\n",
    "\n",
    "    def predict(self, X):\n",
    "        resTotal = []\n",
    "        for x in X:\n",
    "            res = {}\n",
    "            d = len(x)\n",
    "            if not self.is_naive:\n",
    "                for key in self.D:\n",
    "                    # Error with singular matrix\n",
    "                    # Fi = ((1/((math.sqrt(2*math.pi)**d) * np.sqrt(np.linalg.det(self.cov[key])))) * np.exp(-((x-self.miu[key]).transpose().dot(np.linalg.inv(self.cov[key])).dot((x-self.miu[key])))/2))\n",
    "                    Fi = multivariate_normal.pdf(x, mean=self.miu[key], cov=self.cov[key],allow_singular=True)\n",
    "                    Total = Fi * self.Pc[key]\n",
    "                    res[key] = Total\n",
    "            else:\n",
    "                for key in self.D:\n",
    "                    # Error with 0 in division\n",
    "                    # Fi = 1\n",
    "                    # for d in range(len(x)):\n",
    "                    #         Fi *=((1/(math.sqrt(2*math.pi) * math.sqrt(self.cov[key][d]))) * np.exp(-((x[d]-self.miu[key][d])**2)/(2*self.cov[key][d])))\n",
    "                    Fi = multivariate_normal.pdf(x, mean=self.miu[key], cov=self.cov2[key],allow_singular=True)\n",
    "                    Total = Fi * self.Pc[key]\n",
    "                    res[key] = Total\n",
    "            resTotal.append(max(res, key=res.get))\n",
    "        return resTotal\n",
    "\n",
    "data = pd.read_csv('iris.csv').to_numpy()\n",
    "X = data[:, :4]\n",
    "Y = data[:, -1]\n",
    "model.train(X,Y)\n",
    "\n",
    "ax = plot_learning_curves(BayesianNumericalClassifier(True),X,Y)\n",
    "ax = plot_learning_curves(BayesianNumericalClassifier(False),X,Y,ax)"
   ]
  },
  {
   "cell_type": "markdown",
   "metadata": {},
   "source": [
    "- Which one is better? Explain!"
   ]
  },
  {
   "cell_type": "markdown",
   "metadata": {},
   "source": [
    "The full version is better. It occurs because though the naive converge faster (with few data), the full version converge better after certain amount of data is used."
   ]
  }
 ],
 "metadata": {
  "interpreter": {
   "hash": "916dbcbb3f70747c44a77c7bcd40155683ae19c65e1c03b4aa3499c5328201f1"
  },
  "kernelspec": {
   "display_name": "Python 3",
   "language": "python",
   "name": "python3"
  },
  "language_info": {
   "codemirror_mode": {
    "name": "ipython",
    "version": 3
   },
   "file_extension": ".py",
   "mimetype": "text/x-python",
   "name": "python",
   "nbconvert_exporter": "python",
   "pygments_lexer": "ipython3",
   "version": "3.9.4"
  }
 },
 "nbformat": 4,
 "nbformat_minor": 4
}
