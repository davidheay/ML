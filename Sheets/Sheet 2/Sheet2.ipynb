{
    "cells": [
        {
            "cell_type": "markdown",
            "source": [
                "## Exercise 2\n",
                "**3.** Implement a class MLEClassifier that works on categorical problems (X and Y discrete)\n",
                "and predicts classes based on the estimated posterior probabilities."
            ],
            "metadata": {}
        },
        {
            "cell_type": "code",
            "execution_count": 1,
            "source": [
                "# imports\n",
                "import matplotlib.pyplot as plt\n",
                "import pandas as pd\n",
                "import numpy as np\n",
                "import math\n",
                "import random\n",
                "from tqdm import tqdm"
            ],
            "outputs": [],
            "metadata": {}
        },
        {
            "cell_type": "code",
            "execution_count": 4,
            "source": [
                "class MLEClassifier:\n",
                "    def train(self, X, Y):\n",
                "        self.X = X\n",
                "        self.Y = Y\n",
                "        self.dict = {}\n",
                "        for x, y in zip(self.X, self.Y):\n",
                "            temp = \",\".join(x)\n",
                "            if temp not in self.dict.keys():\n",
                "                self.dict[temp] = {}\n",
                "            newDict = self.dict[temp]\n",
                "            if y not in newDict.keys():\n",
                "                newDict[y] = 0\n",
                "            newDict[y] = newDict[y]+1\n",
                "        for key in self.dict.keys():\n",
                "            sum = 0\n",
                "            for newKey in self.dict[key]:\n",
                "                sum = sum+self.dict[key][newKey]\n",
                "            for newKey in self.dict[key]:\n",
                "                self.dict[key][newKey] /= sum\n",
                "\n",
                "    def predict(self, X):\n",
                "        predict = \",\".join(X)\n",
                "        print(max(self.dict[predict], key=self.dict[predict].get))\n",
                "\n",
                "\n",
                "# Read dataset\n",
                "df = pd.read_csv('breast-cancer.csv').to_numpy()\n",
                "model = MLEClassifier()\n",
                "X = df[:, :2]\n",
                "Y = df[:, -1]\n",
                "model.train(X, Y)\n",
                "model.predict([\"'40-49'\", \"'premeno'\"])\n"
            ],
            "outputs": [
                {
                    "output_type": "stream",
                    "name": "stdout",
                    "text": [
                        "'no-recurrence-events'\n"
                    ]
                }
            ],
            "metadata": {}
        },
        {
            "cell_type": "markdown",
            "source": [
                "**4.** Implement a class BayesianCategoricalClassifier. It should receive a parameter\n",
                "is_naive at initialization time to specify whether it should behave in a naive way.\n",
                "Models may be learned without the adjusted frequencies."
            ],
            "metadata": {}
        },
        {
            "cell_type": "code",
            "execution_count": 5,
            "source": [
                "class BayesianCategoricalClassifier:\n",
                "    def __init__(self,is_naive):\n",
                "        self.is_naive=is_naive\n",
                "    def train(self,X,Y):\n",
                "        classes = np.unique(Y)\n",
                "        self.m=set()\n",
                "        self.n=set()\n",
                "        self.Di={}\n",
                "        self.table = {}\n",
                "        self.pi={}\n",
                "        self.ni={}\n",
                "        if not (self.is_naive):\n",
                "            for k in classes:\n",
                "                self.Di[k]=[]\n",
                "                for x,y in zip(X,Y):\n",
                "                    if(y==k):\n",
                "                        self.Di[k].append(x)\n",
                "                for di in self.Di:\n",
                "                    self.ni[di]=len(self.Di[di])\n",
                "                    self.pi[di]=len(self.Di[di])/len(X)\n",
                "                    self.table[k] ={}\n",
                "                    for x in self.Di[di]:\n",
                "                        self.m.add(x[0])\n",
                "                        self.n.add(x[1])\n",
                "                        if not x[0] in self.table[k]:\n",
                "                            self.table[k][x[0]]={}\n",
                "                        if not x[1] in self.table[k][x[0]]:\n",
                "                            self.table[k][x[0]][x[1]]=0\n",
                "                        self.table[k][x[0]][x[1]]+=1/self.ni[di]\n",
                "        else:\n",
                "            for k in classes:\n",
                "                self.Di[k]=[]\n",
                "                for x,y in zip(X,Y):\n",
                "                    if(y==k):\n",
                "                        self.Di[k].append(x)\n",
                "                for di in self.Di:\n",
                "                    self.ni[di]=len(self.Di[di])\n",
                "                    self.pi[di]=len(self.Di[di])/len(df)\n",
                "                    self.table[k] ={}\n",
                "                    for x in self.Di[di]:\n",
                "                        self.m.add(x[0])\n",
                "                        if not \"x1\"+x[0] in self.table[k]:\n",
                "                            self.table[k][\"x1\"+x[0]]=0\n",
                "                        if not \"x2\"+x[1] in self.table[k]:\n",
                "                            self.table[k][\"x2\"+x[1]]=0\n",
                "                        self.table[k][\"x1\"+x[0]]+=1/self.ni[di]\n",
                "                        self.table[k][\"x2\"+x[1]]+=1/self.ni[di]\n",
                "\n",
                "    def predict(self,X):\n",
                "        res = {}\n",
                "        if not self.is_naive:\n",
                "            for k in self.Di.keys():\n",
                "                try:\n",
                "                    res[k]=self.pi[k]*self.table[k][X[0]][X[1]]\n",
                "                except KeyError:\n",
                "                    res[k]=self.pi[k]*(1/(self.ni[k]+len(self.n)*len(self.m)))\n",
                "        else:\n",
                "            for k in self.Di.keys():\n",
                "                try:\n",
                "                    res[k]=self.pi[k]*self.table[k][\"x1\"+X[0]]*self.table[k][\"x2\"+X[1]]\n",
                "                except KeyError:\n",
                "                    res[k]=self.pi[k]*1/(self.ni[k]+len(self.m)) * self.table[k][\"x2\"+X[1]]\n",
                "        return max(res, key=res.get)\n",
                "\n",
                "\n",
                "df = pd.read_csv('iris.csv')\n",
                "df = df[[\"sepal_length\", 'sepal_width', 'species']]\n",
                "conditions = [\n",
                "    (df['sepal_length'] >= 4.3 )&( df['sepal_length'] <= 5.2),\n",
                "    (df['sepal_length'] > 5.2 )&( df['sepal_length'] <= 6.1),\n",
                "    (df['sepal_length'] > 6.1 )&( df['sepal_length'] <= 7.0),\n",
                "    (df['sepal_length'] > 7.0 )&( df['sepal_length'] <= 7.9),\n",
                "    ]\n",
                "values = ['Very Short', 'Short', 'Long', 'Very Long']\n",
                "df['sepal_length_dis'] = np.select(conditions, values)\n",
                "conditions = [\n",
                "    (df['sepal_width'] >= 2.0 )&( df['sepal_width'] <= 2.8),\n",
                "    (df['sepal_width'] > 2.8 )&( df['sepal_width'] <= 3.6),\n",
                "    (df['sepal_width'] > 3.6 )&( df['sepal_width'] <= 4.4),\n",
                "    ]\n",
                "values = ['Short', 'Medium', 'Long',]\n",
                "df['sepal_width_dis'] = np.select(conditions, values)\n",
                "conditions = [\n",
                "    (df['species'] == 'setosa' ),\n",
                "    (df['species'] != 'setosa' ),\n",
                "]\n",
                "values = ['setosa', 'others',]\n",
                "df['species_dis'] = np.select(conditions, values)\n",
                "\n",
                "df = df[[\"sepal_length_dis\", 'sepal_width_dis', 'species_dis']].to_numpy()\n",
                "X=df[:,:2]\n",
                "Y=df[:,2]\n",
                "\n",
                "model = BayesianCategoricalClassifier(False)\n",
                "model.train(X,Y)\n",
                "\n",
                "test = [\"Long\",\"Long\"]\n",
                "\n",
                "model.predict(test)"
            ],
            "outputs": [
                {
                    "output_type": "execute_result",
                    "data": {
                        "text/plain": [
                            "'others'"
                        ]
                    },
                    "metadata": {},
                    "execution_count": 5
                }
            ],
            "metadata": {}
        }
    ],
    "metadata": {
        "orig_nbformat": 4,
        "language_info": {
            "name": "python",
            "version": "3.8.10",
            "mimetype": "text/x-python",
            "codemirror_mode": {
                "name": "ipython",
                "version": 3
            },
            "pygments_lexer": "ipython3",
            "nbconvert_exporter": "python",
            "file_extension": ".py"
        },
        "kernelspec": {
            "name": "python3",
            "display_name": "Python 3.8.10 64-bit"
        },
        "interpreter": {
            "hash": "916dbcbb3f70747c44a77c7bcd40155683ae19c65e1c03b4aa3499c5328201f1"
        }
    },
    "nbformat": 4,
    "nbformat_minor": 2
}