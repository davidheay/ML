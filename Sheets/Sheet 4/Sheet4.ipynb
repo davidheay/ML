{
 "cells": [
  {
   "cell_type": "markdown",
   "source": [
    "# Integrantes\r\n",
    "* ### David Herrera\r\n",
    "* ### Estid Lozano\r\n",
    "* ### Nicolás González"
   ],
   "metadata": {}
  },
  {
   "cell_type": "code",
   "execution_count": 2,
   "source": [
    "# Imports\r\n",
    "from smlutil import *\r\n",
    "from numbers import Number\r\n",
    "from mpl_toolkits.mplot3d import axes3d\r\n",
    "import math\r\n",
    "import numpy as np\r\n",
    "import pandas as pd\r\n",
    "import matplotlib.pyplot as plt\r\n",
    "from sklearn import decomposition\r\n",
    "import itertools"
   ],
   "outputs": [],
   "metadata": {}
  },
  {
   "cell_type": "markdown",
   "source": [
    "# Exercise 1"
   ],
   "metadata": {}
  },
  {
   "cell_type": "markdown",
   "source": [
    "Suppose that we model, for any instance x, the log-odds ratio between\r\n",
    "a class i and the distinguished class K as the dot product of a regression vector \fi and x, i.e.\r\n",
    "\r\n",
    "$ \\log{\\frac{P(Y=y_i|X=x)}{P(Y=y_k|X=x)}}=\\beta^T_iX $"
   ],
   "metadata": {}
  },
  {
   "cell_type": "markdown",
   "source": [
    "**a)** Show that this is equivalent to saying that\r\n",
    "\r\n",
    "$ P(Y=y_i|X=x)=\\frac{\\epsilon^{\\beta^T_iX}}{1+\\sum^{K-1}_{i=1}\\epsilon^{\\beta^T_iX}}; for \\; i=1,...,K-1 $\r\n",
    "\r\n",
    "$ P(Y=y_k|X=x)=\\frac{1}{1+\\sum^{K-1}_{i=1}\\epsilon^{\\beta^T_iX}} $"
   ],
   "metadata": {}
  },
  {
   "cell_type": "markdown",
   "source": [
    "To determine $ P(Y=y_i|X=x) $ we have:\r\n",
    "\r\n",
    "$ \\log{P(Y=y_i|X=x)}=\\log{P(Y=y_k|X=x)}+\\beta^T_iX $\r\n",
    "\r\n",
    "$ P(Y=y_i|X=x)=P(Y=y_k|X=x)\\cdot\\epsilon^{\\beta^T_iX} $\r\n",
    "\r\n",
    "$ P(Y=y_i|X=x)=\\frac{\\epsilon^{\\beta^T_iX}}{1+\\sum^{K-1}_{i=1}\\epsilon^{\\beta^T_iX}}; for \\; i=1,...,K-1 $\r\n",
    "\r\n",
    "To determine $ P(Y=y_k|X=x) $ we have:\r\n",
    "\r\n",
    "$ \\log{P(Y=y_k|X=x)}=\\log{P(Y=y_i|X=x)}-\\beta^T_iX $\r\n",
    "\r\n",
    "$ P(Y=y_k|X=x)=\\frac{P(Y=y_i|X=x)}{\\beta^T_iX} $\r\n",
    "\r\n",
    "$ P(Y=y_k|X=x)=\\frac{1}{1+\\sum^{K-1}_{i=1}\\epsilon^{\\beta^T_iX}} $"
   ],
   "metadata": {}
  },
  {
   "cell_type": "markdown",
   "source": [
    "**b)** Show that we can also define a vector for class K be setting \fK = 0 and that this is the\r\n",
    "only meaningful value so that Eq. (1) holds also for i = K.\r\n",
    "\r\n",
    "**c)** Show that because of this choice for \fK, wen can merge Eq. (2) and (3) to"
   ],
   "metadata": {}
  },
  {
   "cell_type": "markdown",
   "source": [
    "We have: $ \\beta^T_K = 0 $\r\n",
    "\r\n",
    "Then: $ \\beta^T_KX = 0 $\r\n",
    "\r\n",
    "Then: $ \\epsilon^{\\beta^T_KX} = 1 $\r\n",
    "\r\n",
    "\r\n",
    "Then: $ \\sum^K_{i=1}\\epsilon^{\\beta^T_iX} = 1+\\sum^{K-1}_{i=1}\\epsilon^{\\beta^T_iX}$"
   ],
   "metadata": {}
  },
  {
   "cell_type": "markdown",
   "source": [
    "# Exercise 2\n"
   ],
   "metadata": {}
  },
  {
   "cell_type": "markdown",
   "source": [
    "We will now explicitly expand our learner models to deliver probabilistic predictions. Besides the train(X,y) function, they should now implement a function\n",
    "getProbabilities(X), which should return a n × K numpy array, where an n is the number\n",
    "of instances in X and K is the number of labels in the considered problem. In this output\n",
    "array, the cell (i,j) is the probability the model assigned to instance i to belong to class j.\n",
    "\n",
    "Write a learner Logistic that builds models for multi-class classification problems according\n",
    "to the algorithm seen in the lecture. Use parameters step_size, eps (for the cancellation\n",
    "criterion ε, and max_iter for the maximum number of steps."
   ],
   "metadata": {}
  },
  {
   "cell_type": "code",
   "execution_count": 3,
   "source": [
    "%matplotlib inline\r\n",
    "# %matplotlib widget\r\n",
    "\"use strict\"\r\n",
    "class Logistic:\r\n",
    "    def __init__(self, _step_size=0.01, _eps=0.01, _max_iter=1000):\r\n",
    "        self._step_size = _step_size\r\n",
    "        self._eps = _eps\r\n",
    "        self._max_iter = _max_iter\r\n",
    "    def getName(self):\r\n",
    "        return \"logistic\"\r\n",
    "    def train(self, _X, _Y):\r\n",
    "        _Y = _Y.astype('object')\r\n",
    "        d = len(_X[0])\r\n",
    "        n = len(_X)\r\n",
    "        self.classes = np.unique(_Y)\r\n",
    "        dClasses = len(self.classes)\r\n",
    "        _X = np.insert(_X, 0, [1 for i in range(n)], axis=1)\r\n",
    "        for i in range(n):\r\n",
    "            index = np.where(self.classes == _Y[i])[0][0]\r\n",
    "            _Y[i] = np.zeros(dClasses)\r\n",
    "            _Y[i][index] = 1\r\n",
    "            _Y[i] = _Y[i]\r\n",
    "        t = 0\r\n",
    "        w = {}\r\n",
    "        for j in range(dClasses):\r\n",
    "            if j not in w:\r\n",
    "                w[j] = []\r\n",
    "            w[j].append(np.array([0 for i in range(d+1)]))\r\n",
    "        temp = np.arange(n)\r\n",
    "        np.random.shuffle(temp)\r\n",
    "        _X = _X[temp]\r\n",
    "        _Y = _Y[temp]\r\n",
    "        pi = {}\r\n",
    "        gradient = {}\r\n",
    "        while True:\r\n",
    "            wCopy = {}\r\n",
    "            for j in range(dClasses-1):\r\n",
    "                wCopy[j] = w[j][-1]\r\n",
    "            for x, y in zip(_X, _Y):\r\n",
    "                for j in range(dClasses-1):\r\n",
    "                    pi[j] = np.exp(np.dot(wCopy[j], x))/sum([np.exp(np.dot(w[a][-1], x)) for a in range(dClasses)])\r\n",
    "                    gradient[j] = (y[j]-pi[j])*x\r\n",
    "                    wCopy[j] = wCopy[j]+self._step_size*gradient[j]\r\n",
    "            for j in range(dClasses-1):\r\n",
    "                w[j].append(wCopy[j])\r\n",
    "            t += 1\r\n",
    "            if sum([np.linalg.norm(w[j][t]-w[j][t-1]) for j in range(dClasses-1)]) <= self._eps or t > self._max_iter:\r\n",
    "                break\r\n",
    "        for j in range(dClasses):\r\n",
    "            w[j] = w[j][-1]\r\n",
    "        self.w = w\r\n",
    "\r\n",
    "    def predict(self, _X):\r\n",
    "        res = []\r\n",
    "        for x in _X:\r\n",
    "            temp = {}\r\n",
    "            x = np.insert(x, 0, 1, axis=0)\r\n",
    "            for c in self.w:\r\n",
    "                temp[c] = math.exp(np.dot(\r\n",
    "                    self.w[c], x))/sum([math.exp(np.dot(self.w[a], x)) for a in range(len(self.w.keys()))])\r\n",
    "            res.append(self.classes[max(temp, key=temp.get)])\r\n",
    "        return res\r\n",
    "\r\n",
    "    def predictAttr(self, _X, attr):\r\n",
    "        res = []\r\n",
    "        for x in _X:\r\n",
    "            x = np.insert(x, 0, 1, axis=0)\r\n",
    "            res.append(math.exp(np.dot(self.w[attr], x))/sum([math.exp(np.dot(self.w[a], x)) for a in range(len(self.w.keys()))]))\r\n",
    "        return res\r\n",
    "\r\n",
    "    def getProbabilites(self, _X):\r\n",
    "        matrix = np.zeros((len(_X),len(self.w.keys())))\r\n",
    "        for i in range(len(_X)):\r\n",
    "            for j in self.w.keys():\r\n",
    "                matrix[i][j]=self.predictAttr([_X[i]],j)[0]\r\n",
    "        return matrix\r\n"
   ],
   "outputs": [],
   "metadata": {}
  },
  {
   "cell_type": "markdown",
   "source": [
    "# Exercise 3\n"
   ],
   "metadata": {}
  },
  {
   "cell_type": "markdown",
   "source": [
    "**3.1.** Write a function plotModel(h, X, y, xlabel=\"X1\", ylabel=\"X2\") that receives a\r\n",
    "probabilistic learner h and the training data (n × 2 numpy array X and n × 1 label\r\n",
    "vectory y). The function should train h and then create a series of K (one for each class)\r\n",
    "surface or mesh grid plots. In plot i, the surface should show the probabilities assigned\r\n",
    "by the model to class i. Also scatter the training points with different colors and shapes\r\n",
    "into the plot at height 0 for classes 6= i and height 1 for instances of class i.\r\n",
    "Use the minimum and maximum values per attribute to define the scope of the surface.\r\n",
    "Use the optional arguments xlabel and ylabel to assign labels to the x-axis and y-axis,\r\n",
    "respectively"
   ],
   "metadata": {}
  },
  {
   "cell_type": "code",
   "execution_count": null,
   "source": [
    "def plotModel(_h,_X,_Y,xLabel=\"X1\",yLabel=\"X2\"):\r\n",
    "    classes=np.unique(_Y)\r\n",
    "    dClassses= len(classes)\r\n",
    "    yCopy=_Y.copy()\r\n",
    "    _h.train(_X,_Y)\r\n",
    "    fig = plt.figure(figsize=(32, 8))\r\n",
    "    for ci in range(dClassses):\r\n",
    "        Yones = np.where(yCopy == classes[ci], 1, yCopy)\r\n",
    "        Yones = np.where(Yones != 1, 0, Yones)\r\n",
    "        ax = fig.add_subplot(1,dClassses,ci+1, projection='3d')\r\n",
    "        xs=_X[:, 0]\r\n",
    "        ys=_X[:, 1]\r\n",
    "        ax.scatter(xs=xs, ys=ys, zs=list(Yones), c=list(Yones))\r\n",
    "        x = np.linspace(min(xs), max(xs), 30)\r\n",
    "        y = np.linspace(min(ys), max(ys), 30)\r\n",
    "        xt = []\r\n",
    "        for i in range(len(x)):\r\n",
    "            xt.append(np.array([x[i], y[i]]))\r\n",
    "        Xgrid, Ygrid = np.meshgrid(x, y)\r\n",
    "        Zgrid = np.array(_h.predictAttr(xt, ci))/(Xgrid*0+1)\r\n",
    "        ax.plot_surface(Xgrid, Ygrid, Zgrid, alpha=0.54)\r\n",
    "        ax.set_xlabel(xLabel)\r\n",
    "        ax.set_ylabel(yLabel)\r\n",
    "        ax.view_init(29, 97)\r\n",
    "    plt.show()\r\n",
    "\r\n",
    "df = pd.read_csv('iris.csv')\r\n",
    "X = df.iloc[:, :-1].to_numpy()\r\n",
    "Y = df.iloc[:, -1].to_numpy()\r\n",
    "pca = decomposition.PCA(n_components=2)\r\n",
    "pca.fit(X)\r\n",
    "X = pca.transform(X)\r\n",
    "plotModel(Logistic(),X,Y)"
   ],
   "outputs": [],
   "metadata": {}
  },
  {
   "cell_type": "markdown",
   "source": [
    "**3.2.**  Write a function create_logistic_plots(step_size, eps, max_iter), which creates\r\n",
    "3 plot series, one for each of the datasets prnn_synth, iris, and window. In each series,\r\n",
    "create one plot for each pair of attributes and class (e.g. 18 plots in the case of iris)."
   ],
   "metadata": {}
  },
  {
   "cell_type": "code",
   "execution_count": null,
   "source": [
    "class create_logistic_plots:\r\n",
    "    def __init__(self,_step_size=0.01, _eps=0.01, _max_iter=1000):\r\n",
    "        self._step_size=_step_size\r\n",
    "        self._eps=_eps\r\n",
    "        self._max_iter=_max_iter\r\n",
    "    def plot(self,_name_file):\r\n",
    "        df= pd.read_csv(_name_file)\r\n",
    "        X = df.iloc[:, :-1].to_numpy()\r\n",
    "        Y = df.iloc[:, -1].to_numpy()\r\n",
    "        print(\"file\",_name_file)\r\n",
    "        for con in list(itertools.combinations(range(len(X[0])), 2)):\r\n",
    "            print(\"attrs\",con)\r\n",
    "            plotModel(Logistic(self._step_size,self._eps,self._max_iter),X[:, con],Y.copy(),xLabel=\"X\"+str(con[0]),yLabel=\"X\"+str(con[1]))\r\n",
    "m = create_logistic_plots()\r\n",
    "m.plot('iris.csv')\r\n",
    "m.plot('prnn_synth.csv')\r\n",
    "# error of nans becuase np.exp\r\n",
    "# m.plot('window.csv')"
   ],
   "outputs": [],
   "metadata": {}
  },
  {
   "cell_type": "markdown",
   "source": [
    "**3.3.** Now apply the function with different values for the parameters for the step size and\r\n",
    "epsilon and observe the time to convergence and the obtained results. For which configuration do you get best results?"
   ],
   "metadata": {}
  },
  {
   "cell_type": "code",
   "execution_count": null,
   "source": [
    "step_size=0.5\r\n",
    "eps=0.5\r\n",
    "m = create_logistic_plots(step_size, eps,100)\r\n",
    "print(\"_step_size= \",step_size,\" _eps= \",eps)\r\n",
    "m.plot('iris.csv')\r\n",
    "m.plot('prnn_synth.csv')\r\n",
    "\r\n",
    "step_size=0.01\r\n",
    "eps=0.1\r\n",
    "m = create_logistic_plots(step_size, eps,100)\r\n",
    "print(\"_step_size= \",step_size,\" _eps= \",eps)\r\n",
    "m.plot('iris.csv')\r\n",
    "m.plot('prnn_synth.csv')"
   ],
   "outputs": [],
   "metadata": {}
  },
  {
   "cell_type": "markdown",
   "source": [
    "**3.4.** . Compare learning curves of logistic regressions on the above (or also other) datasets with\r\n",
    "other learners we have seen (bayesian and decision trees). Interpret them\r\n",
    "\r\n"
   ],
   "metadata": {}
  },
  {
   "cell_type": "code",
   "execution_count": 4,
   "source": [
    "df = pd.read_csv('iris.csv').to_numpy()\r\n",
    "X = df[:, :4]\r\n",
    "Y = df[:, -1]\r\n",
    "pca = decomposition.PCA(n_components=2)\r\n",
    "pca.fit(X)\r\n",
    "X = pca.transform(X)\r\n",
    "fig, ax = plt.subplots(1,1,figsize=(10,7))\r\n",
    "plot_learning_curves(Logistic(),X,Y,ax)"
   ],
   "outputs": [
    {
     "output_type": "execute_result",
     "data": {
      "text/plain": [
       "<matplotlib.axes._subplots.AxesSubplot at 0x7f761d8c8220>"
      ]
     },
     "metadata": {},
     "execution_count": 4
    },
    {
     "output_type": "display_data",
     "data": {
      "text/plain": [
       "<Figure size 720x504 with 1 Axes>"
      ],
      "image/png": "[encoded data removed]",
      "image/svg+xml": "<?xml version=\"1.0\" encoding=\"utf-8\" standalone=\"no\"?>\n<!DOCTYPE svg PUBLIC \"-//W3C//DTD SVG 1.1//EN\"\n  \"http://www.w3.org/Graphics/SVG/1.1/DTD/svg11.dtd\">\n<!-- Created with matplotlib (https://matplotlib.org/) -->\n<svg height=\"415.397344pt\" version=\"1.1\" viewBox=\"0 0 595.303125 415.397344\" width=\"595.303125pt\" xmlns=\"http://www.w3.org/2000/svg\" xmlns:xlink=\"http://www.w3.org/1999/xlink\">\n <defs>\n  <style type=\"text/css\">\n*{stroke-linecap:butt;stroke-linejoin:round;}\n  </style>\n </defs>\n <g id=\"figure_1\">\n  <g id=\"patch_1\">\n   <path d=\"M -0 415.397344 \nL 595.303125 415.397344 \nL 595.303125 0 \nL -0 0 \nz\n\" style=\"fill:none;\"/>\n  </g>\n  <g id=\"axes_1\">\n   <g id=\"patch_2\">\n    <path d=\"M 30.103125 391.519219 \nL 588.103125 391.519219 \nL 588.103125 10.999219 \nL 30.103125 10.999219 \nz\n\" style=\"fill:#ffffff;\"/>\n   </g>\n   <g id=\"matplotlib.axis_1\">\n    <g id=\"xtick_1\">\n     <g id=\"line2d_1\">\n      <defs>\n       <path d=\"M 0 0 \nL 0 3.5 \n\" id=\"m931fad7310\" style=\"stroke:#000000;stroke-width:0.8;\"/>\n      </defs>\n      <g>\n       <use style=\"stroke:#000000;stroke-width:0.8;\" x=\"55.466761\" xlink:href=\"#m931fad7310\" y=\"391.519219\"/>\n      </g>\n     </g>\n     <g id=\"text_1\">\n      <!-- 105 -->\n      <defs>\n       <path d=\"M 12.40625 8.296875 \nL 28.515625 8.296875 \nL 28.515625 63.921875 \nL 10.984375 60.40625 \nL 10.984375 69.390625 \nL 28.421875 72.90625 \nL 38.28125 72.90625 \nL 38.28125 8.296875 \nL 54.390625 8.296875 \nL 54.390625 0 \nL 12.40625 0 \nz\n\" id=\"DejaVuSans-49\"/>\n       <path d=\"M 31.78125 66.40625 \nQ 24.171875 66.40625 20.328125 58.90625 \nQ 16.5 51.421875 16.5 36.375 \nQ 16.5 21.390625 20.328125 13.890625 \nQ 24.171875 6.390625 31.78125 6.390625 \nQ 39.453125 6.390625 43.28125 13.890625 \nQ 47.125 21.390625 47.125 36.375 \nQ 47.125 51.421875 43.28125 58.90625 \nQ 39.453125 66.40625 31.78125 66.40625 \nz\nM 31.78125 74.21875 \nQ 44.046875 74.21875 50.515625 64.515625 \nQ 56.984375 54.828125 56.984375 36.375 \nQ 56.984375 17.96875 50.515625 8.265625 \nQ 44.046875 -1.421875 31.78125 -1.421875 \nQ 19.53125 -1.421875 13.0625 8.265625 \nQ 6.59375 17.96875 6.59375 36.375 \nQ 6.59375 54.828125 13.0625 64.515625 \nQ 19.53125 74.21875 31.78125 74.21875 \nz\n\" id=\"DejaVuSans-48\"/>\n       <path d=\"M 10.796875 72.90625 \nL 49.515625 72.90625 \nL 49.515625 64.59375 \nL 19.828125 64.59375 \nL 19.828125 46.734375 \nQ 21.96875 47.46875 24.109375 47.828125 \nQ 26.265625 48.1875 28.421875 48.1875 \nQ 40.625 48.1875 47.75 41.5 \nQ 54.890625 34.8125 54.890625 23.390625 \nQ 54.890625 11.625 47.5625 5.09375 \nQ 40.234375 -1.421875 26.90625 -1.421875 \nQ 22.3125 -1.421875 17.546875 -0.640625 \nQ 12.796875 0.140625 7.71875 1.703125 \nL 7.71875 11.625 \nQ 12.109375 9.234375 16.796875 8.0625 \nQ 21.484375 6.890625 26.703125 6.890625 \nQ 35.15625 6.890625 40.078125 11.328125 \nQ 45.015625 15.765625 45.015625 23.390625 \nQ 45.015625 31 40.078125 35.4375 \nQ 35.15625 39.890625 26.703125 39.890625 \nQ 22.75 39.890625 18.8125 39.015625 \nQ 14.890625 38.140625 10.796875 36.28125 \nz\n\" id=\"DejaVuSans-53\"/>\n      </defs>\n      <g transform=\"translate(45.923011 406.117656)scale(0.1 -0.1)\">\n       <use xlink:href=\"#DejaVuSans-49\"/>\n       <use x=\"63.623047\" xlink:href=\"#DejaVuSans-48\"/>\n       <use x=\"127.246094\" xlink:href=\"#DejaVuSans-53\"/>\n      </g>\n     </g>\n    </g>\n    <g id=\"xtick_2\">\n     <g id=\"line2d_2\">\n      <g>\n       <use style=\"stroke:#000000;stroke-width:0.8;\" x=\"140.012216\" xlink:href=\"#m931fad7310\" y=\"391.519219\"/>\n      </g>\n     </g>\n     <g id=\"text_2\">\n      <!-- 110 -->\n      <g transform=\"translate(130.468466 406.117656)scale(0.1 -0.1)\">\n       <use xlink:href=\"#DejaVuSans-49\"/>\n       <use x=\"63.623047\" xlink:href=\"#DejaVuSans-49\"/>\n       <use x=\"127.246094\" xlink:href=\"#DejaVuSans-48\"/>\n      </g>\n     </g>\n    </g>\n    <g id=\"xtick_3\">\n     <g id=\"line2d_3\">\n      <g>\n       <use style=\"stroke:#000000;stroke-width:0.8;\" x=\"224.55767\" xlink:href=\"#m931fad7310\" y=\"391.519219\"/>\n      </g>\n     </g>\n     <g id=\"text_3\">\n      <!-- 115 -->\n      <g transform=\"translate(215.01392 406.117656)scale(0.1 -0.1)\">\n       <use xlink:href=\"#DejaVuSans-49\"/>\n       <use x=\"63.623047\" xlink:href=\"#DejaVuSans-49\"/>\n       <use x=\"127.246094\" xlink:href=\"#DejaVuSans-53\"/>\n      </g>\n     </g>\n    </g>\n    <g id=\"xtick_4\">\n     <g id=\"line2d_4\">\n      <g>\n       <use style=\"stroke:#000000;stroke-width:0.8;\" x=\"309.103125\" xlink:href=\"#m931fad7310\" y=\"391.519219\"/>\n      </g>\n     </g>\n     <g id=\"text_4\">\n      <!-- 120 -->\n      <defs>\n       <path d=\"M 19.1875 8.296875 \nL 53.609375 8.296875 \nL 53.609375 0 \nL 7.328125 0 \nL 7.328125 8.296875 \nQ 12.9375 14.109375 22.625 23.890625 \nQ 32.328125 33.6875 34.8125 36.53125 \nQ 39.546875 41.84375 41.421875 45.53125 \nQ 43.3125 49.21875 43.3125 52.78125 \nQ 43.3125 58.59375 39.234375 62.25 \nQ 35.15625 65.921875 28.609375 65.921875 \nQ 23.96875 65.921875 18.8125 64.3125 \nQ 13.671875 62.703125 7.8125 59.421875 \nL 7.8125 69.390625 \nQ 13.765625 71.78125 18.9375 73 \nQ 24.125 74.21875 28.421875 74.21875 \nQ 39.75 74.21875 46.484375 68.546875 \nQ 53.21875 62.890625 53.21875 53.421875 \nQ 53.21875 48.921875 51.53125 44.890625 \nQ 49.859375 40.875 45.40625 35.40625 \nQ 44.1875 33.984375 37.640625 27.21875 \nQ 31.109375 20.453125 19.1875 8.296875 \nz\n\" id=\"DejaVuSans-50\"/>\n      </defs>\n      <g transform=\"translate(299.559375 406.117656)scale(0.1 -0.1)\">\n       <use xlink:href=\"#DejaVuSans-49\"/>\n       <use x=\"63.623047\" xlink:href=\"#DejaVuSans-50\"/>\n       <use x=\"127.246094\" xlink:href=\"#DejaVuSans-48\"/>\n      </g>\n     </g>\n    </g>\n    <g id=\"xtick_5\">\n     <g id=\"line2d_5\">\n      <g>\n       <use style=\"stroke:#000000;stroke-width:0.8;\" x=\"393.64858\" xlink:href=\"#m931fad7310\" y=\"391.519219\"/>\n      </g>\n     </g>\n     <g id=\"text_5\">\n      <!-- 125 -->\n      <g transform=\"translate(384.10483 406.117656)scale(0.1 -0.1)\">\n       <use xlink:href=\"#DejaVuSans-49\"/>\n       <use x=\"63.623047\" xlink:href=\"#DejaVuSans-50\"/>\n       <use x=\"127.246094\" xlink:href=\"#DejaVuSans-53\"/>\n      </g>\n     </g>\n    </g>\n    <g id=\"xtick_6\">\n     <g id=\"line2d_6\">\n      <g>\n       <use style=\"stroke:#000000;stroke-width:0.8;\" x=\"478.194034\" xlink:href=\"#m931fad7310\" y=\"391.519219\"/>\n      </g>\n     </g>\n     <g id=\"text_6\">\n      <!-- 130 -->\n      <defs>\n       <path d=\"M 40.578125 39.3125 \nQ 47.65625 37.796875 51.625 33 \nQ 55.609375 28.21875 55.609375 21.1875 \nQ 55.609375 10.40625 48.1875 4.484375 \nQ 40.765625 -1.421875 27.09375 -1.421875 \nQ 22.515625 -1.421875 17.65625 -0.515625 \nQ 12.796875 0.390625 7.625 2.203125 \nL 7.625 11.71875 \nQ 11.71875 9.328125 16.59375 8.109375 \nQ 21.484375 6.890625 26.8125 6.890625 \nQ 36.078125 6.890625 40.9375 10.546875 \nQ 45.796875 14.203125 45.796875 21.1875 \nQ 45.796875 27.640625 41.28125 31.265625 \nQ 36.765625 34.90625 28.71875 34.90625 \nL 20.21875 34.90625 \nL 20.21875 43.015625 \nL 29.109375 43.015625 \nQ 36.375 43.015625 40.234375 45.921875 \nQ 44.09375 48.828125 44.09375 54.296875 \nQ 44.09375 59.90625 40.109375 62.90625 \nQ 36.140625 65.921875 28.71875 65.921875 \nQ 24.65625 65.921875 20.015625 65.03125 \nQ 15.375 64.15625 9.8125 62.3125 \nL 9.8125 71.09375 \nQ 15.4375 72.65625 20.34375 73.4375 \nQ 25.25 74.21875 29.59375 74.21875 \nQ 40.828125 74.21875 47.359375 69.109375 \nQ 53.90625 64.015625 53.90625 55.328125 \nQ 53.90625 49.265625 50.4375 45.09375 \nQ 46.96875 40.921875 40.578125 39.3125 \nz\n\" id=\"DejaVuSans-51\"/>\n      </defs>\n      <g transform=\"translate(468.650284 406.117656)scale(0.1 -0.1)\">\n       <use xlink:href=\"#DejaVuSans-49\"/>\n       <use x=\"63.623047\" xlink:href=\"#DejaVuSans-51\"/>\n       <use x=\"127.246094\" xlink:href=\"#DejaVuSans-48\"/>\n      </g>\n     </g>\n    </g>\n    <g id=\"xtick_7\">\n     <g id=\"line2d_7\">\n      <g>\n       <use style=\"stroke:#000000;stroke-width:0.8;\" x=\"562.739489\" xlink:href=\"#m931fad7310\" y=\"391.519219\"/>\n      </g>\n     </g>\n     <g id=\"text_7\">\n      <!-- 135 -->\n      <g transform=\"translate(553.195739 406.117656)scale(0.1 -0.1)\">\n       <use xlink:href=\"#DejaVuSans-49\"/>\n       <use x=\"63.623047\" xlink:href=\"#DejaVuSans-51\"/>\n       <use x=\"127.246094\" xlink:href=\"#DejaVuSans-53\"/>\n      </g>\n     </g>\n    </g>\n   </g>\n   <g id=\"matplotlib.axis_2\">\n    <g id=\"ytick_1\">\n     <g id=\"line2d_8\">\n      <defs>\n       <path d=\"M 0 0 \nL -3.5 0 \n\" id=\"mdc8add2fd0\" style=\"stroke:#000000;stroke-width:0.8;\"/>\n      </defs>\n      <g>\n       <use style=\"stroke:#000000;stroke-width:0.8;\" x=\"30.103125\" xlink:href=\"#mdc8add2fd0\" y=\"391.519219\"/>\n      </g>\n     </g>\n     <g id=\"text_8\">\n      <!-- 0.0 -->\n      <defs>\n       <path d=\"M 10.6875 12.40625 \nL 21 12.40625 \nL 21 0 \nL 10.6875 0 \nz\n\" id=\"DejaVuSans-46\"/>\n      </defs>\n      <g transform=\"translate(7.2 395.318438)scale(0.1 -0.1)\">\n       <use xlink:href=\"#DejaVuSans-48\"/>\n       <use x=\"63.623047\" xlink:href=\"#DejaVuSans-46\"/>\n       <use x=\"95.410156\" xlink:href=\"#DejaVuSans-48\"/>\n      </g>\n     </g>\n    </g>\n    <g id=\"ytick_2\">\n     <g id=\"line2d_9\">\n      <g>\n       <use style=\"stroke:#000000;stroke-width:0.8;\" x=\"30.103125\" xlink:href=\"#mdc8add2fd0\" y=\"315.415219\"/>\n      </g>\n     </g>\n     <g id=\"text_9\">\n      <!-- 0.2 -->\n      <g transform=\"translate(7.2 319.214438)scale(0.1 -0.1)\">\n       <use xlink:href=\"#DejaVuSans-48\"/>\n       <use x=\"63.623047\" xlink:href=\"#DejaVuSans-46\"/>\n       <use x=\"95.410156\" xlink:href=\"#DejaVuSans-50\"/>\n      </g>\n     </g>\n    </g>\n    <g id=\"ytick_3\">\n     <g id=\"line2d_10\">\n      <g>\n       <use style=\"stroke:#000000;stroke-width:0.8;\" x=\"30.103125\" xlink:href=\"#mdc8add2fd0\" y=\"239.311219\"/>\n      </g>\n     </g>\n     <g id=\"text_10\">\n      <!-- 0.4 -->\n      <defs>\n       <path d=\"M 37.796875 64.3125 \nL 12.890625 25.390625 \nL 37.796875 25.390625 \nz\nM 35.203125 72.90625 \nL 47.609375 72.90625 \nL 47.609375 25.390625 \nL 58.015625 25.390625 \nL 58.015625 17.1875 \nL 47.609375 17.1875 \nL 47.609375 0 \nL 37.796875 0 \nL 37.796875 17.1875 \nL 4.890625 17.1875 \nL 4.890625 26.703125 \nz\n\" id=\"DejaVuSans-52\"/>\n      </defs>\n      <g transform=\"translate(7.2 243.110437)scale(0.1 -0.1)\">\n       <use xlink:href=\"#DejaVuSans-48\"/>\n       <use x=\"63.623047\" xlink:href=\"#DejaVuSans-46\"/>\n       <use x=\"95.410156\" xlink:href=\"#DejaVuSans-52\"/>\n      </g>\n     </g>\n    </g>\n    <g id=\"ytick_4\">\n     <g id=\"line2d_11\">\n      <g>\n       <use style=\"stroke:#000000;stroke-width:0.8;\" x=\"30.103125\" xlink:href=\"#mdc8add2fd0\" y=\"163.207219\"/>\n      </g>\n     </g>\n     <g id=\"text_11\">\n      <!-- 0.6 -->\n      <defs>\n       <path d=\"M 33.015625 40.375 \nQ 26.375 40.375 22.484375 35.828125 \nQ 18.609375 31.296875 18.609375 23.390625 \nQ 18.609375 15.53125 22.484375 10.953125 \nQ 26.375 6.390625 33.015625 6.390625 \nQ 39.65625 6.390625 43.53125 10.953125 \nQ 47.40625 15.53125 47.40625 23.390625 \nQ 47.40625 31.296875 43.53125 35.828125 \nQ 39.65625 40.375 33.015625 40.375 \nz\nM 52.59375 71.296875 \nL 52.59375 62.3125 \nQ 48.875 64.0625 45.09375 64.984375 \nQ 41.3125 65.921875 37.59375 65.921875 \nQ 27.828125 65.921875 22.671875 59.328125 \nQ 17.53125 52.734375 16.796875 39.40625 \nQ 19.671875 43.65625 24.015625 45.921875 \nQ 28.375 48.1875 33.59375 48.1875 \nQ 44.578125 48.1875 50.953125 41.515625 \nQ 57.328125 34.859375 57.328125 23.390625 \nQ 57.328125 12.15625 50.6875 5.359375 \nQ 44.046875 -1.421875 33.015625 -1.421875 \nQ 20.359375 -1.421875 13.671875 8.265625 \nQ 6.984375 17.96875 6.984375 36.375 \nQ 6.984375 53.65625 15.1875 63.9375 \nQ 23.390625 74.21875 37.203125 74.21875 \nQ 40.921875 74.21875 44.703125 73.484375 \nQ 48.484375 72.75 52.59375 71.296875 \nz\n\" id=\"DejaVuSans-54\"/>\n      </defs>\n      <g transform=\"translate(7.2 167.006437)scale(0.1 -0.1)\">\n       <use xlink:href=\"#DejaVuSans-48\"/>\n       <use x=\"63.623047\" xlink:href=\"#DejaVuSans-46\"/>\n       <use x=\"95.410156\" xlink:href=\"#DejaVuSans-54\"/>\n      </g>\n     </g>\n    </g>\n    <g id=\"ytick_5\">\n     <g id=\"line2d_12\">\n      <g>\n       <use style=\"stroke:#000000;stroke-width:0.8;\" x=\"30.103125\" xlink:href=\"#mdc8add2fd0\" y=\"87.103219\"/>\n      </g>\n     </g>\n     <g id=\"text_12\">\n      <!-- 0.8 -->\n      <defs>\n       <path d=\"M 31.78125 34.625 \nQ 24.75 34.625 20.71875 30.859375 \nQ 16.703125 27.09375 16.703125 20.515625 \nQ 16.703125 13.921875 20.71875 10.15625 \nQ 24.75 6.390625 31.78125 6.390625 \nQ 38.8125 6.390625 42.859375 10.171875 \nQ 46.921875 13.96875 46.921875 20.515625 \nQ 46.921875 27.09375 42.890625 30.859375 \nQ 38.875 34.625 31.78125 34.625 \nz\nM 21.921875 38.8125 \nQ 15.578125 40.375 12.03125 44.71875 \nQ 8.5 49.078125 8.5 55.328125 \nQ 8.5 64.0625 14.71875 69.140625 \nQ 20.953125 74.21875 31.78125 74.21875 \nQ 42.671875 74.21875 48.875 69.140625 \nQ 55.078125 64.0625 55.078125 55.328125 \nQ 55.078125 49.078125 51.53125 44.71875 \nQ 48 40.375 41.703125 38.8125 \nQ 48.828125 37.15625 52.796875 32.3125 \nQ 56.78125 27.484375 56.78125 20.515625 \nQ 56.78125 9.90625 50.3125 4.234375 \nQ 43.84375 -1.421875 31.78125 -1.421875 \nQ 19.734375 -1.421875 13.25 4.234375 \nQ 6.78125 9.90625 6.78125 20.515625 \nQ 6.78125 27.484375 10.78125 32.3125 \nQ 14.796875 37.15625 21.921875 38.8125 \nz\nM 18.3125 54.390625 \nQ 18.3125 48.734375 21.84375 45.5625 \nQ 25.390625 42.390625 31.78125 42.390625 \nQ 38.140625 42.390625 41.71875 45.5625 \nQ 45.3125 48.734375 45.3125 54.390625 \nQ 45.3125 60.0625 41.71875 63.234375 \nQ 38.140625 66.40625 31.78125 66.40625 \nQ 25.390625 66.40625 21.84375 63.234375 \nQ 18.3125 60.0625 18.3125 54.390625 \nz\n\" id=\"DejaVuSans-56\"/>\n      </defs>\n      <g transform=\"translate(7.2 90.902438)scale(0.1 -0.1)\">\n       <use xlink:href=\"#DejaVuSans-48\"/>\n       <use x=\"63.623047\" xlink:href=\"#DejaVuSans-46\"/>\n       <use x=\"95.410156\" xlink:href=\"#DejaVuSans-56\"/>\n      </g>\n     </g>\n    </g>\n    <g id=\"ytick_6\">\n     <g id=\"line2d_13\">\n      <g>\n       <use style=\"stroke:#000000;stroke-width:0.8;\" x=\"30.103125\" xlink:href=\"#mdc8add2fd0\" y=\"10.999219\"/>\n      </g>\n     </g>\n     <g id=\"text_13\">\n      <!-- 1.0 -->\n      <g transform=\"translate(7.2 14.798438)scale(0.1 -0.1)\">\n       <use xlink:href=\"#DejaVuSans-49\"/>\n       <use x=\"63.623047\" xlink:href=\"#DejaVuSans-46\"/>\n       <use x=\"95.410156\" xlink:href=\"#DejaVuSans-48\"/>\n      </g>\n     </g>\n    </g>\n   </g>\n   <g id=\"line2d_14\">\n    <path clip-path=\"url(#p2d2c7d3580)\" d=\"M 55.466761 377.023219 \nL 562.739489 381.372019 \n\" style=\"fill:none;stroke:#1f77b4;stroke-linecap:square;stroke-width:1.5;\"/>\n   </g>\n   <g id=\"line2d_15\">\n    <path clip-path=\"url(#p2d2c7d3580)\" d=\"M 55.466761 371.224819 \nL 562.739489 361.077619 \n\" style=\"fill:none;stroke:#ff7f0e;stroke-linecap:square;stroke-width:1.5;\"/>\n   </g>\n   <g id=\"patch_3\">\n    <path d=\"M 30.103125 391.519219 \nL 30.103125 10.999219 \n\" style=\"fill:none;stroke:#000000;stroke-linecap:square;stroke-linejoin:miter;stroke-width:0.8;\"/>\n   </g>\n   <g id=\"patch_4\">\n    <path d=\"M 588.103125 391.519219 \nL 588.103125 10.999219 \n\" style=\"fill:none;stroke:#000000;stroke-linecap:square;stroke-linejoin:miter;stroke-width:0.8;\"/>\n   </g>\n   <g id=\"patch_5\">\n    <path d=\"M 30.103125 391.519219 \nL 588.103125 391.519219 \n\" style=\"fill:none;stroke:#000000;stroke-linecap:square;stroke-linejoin:miter;stroke-width:0.8;\"/>\n   </g>\n   <g id=\"patch_6\">\n    <path d=\"M 30.103125 10.999219 \nL 588.103125 10.999219 \n\" style=\"fill:none;stroke:#000000;stroke-linecap:square;stroke-linejoin:miter;stroke-width:0.8;\"/>\n   </g>\n   <g id=\"legend_1\">\n    <g id=\"patch_7\">\n     <path d=\"M 415.882812 48.355469 \nL 581.103125 48.355469 \nQ 583.103125 48.355469 583.103125 46.355469 \nL 583.103125 17.999219 \nQ 583.103125 15.999219 581.103125 15.999219 \nL 415.882812 15.999219 \nQ 413.882812 15.999219 413.882812 17.999219 \nL 413.882812 46.355469 \nQ 413.882812 48.355469 415.882812 48.355469 \nz\n\" style=\"fill:#ffffff;opacity:0.8;stroke:#cccccc;stroke-linejoin:miter;\"/>\n    </g>\n    <g id=\"line2d_16\">\n     <path d=\"M 417.882812 24.097656 \nL 437.882812 24.097656 \n\" style=\"fill:none;stroke:#1f77b4;stroke-linecap:square;stroke-width:1.5;\"/>\n    </g>\n    <g id=\"line2d_17\"/>\n    <g id=\"text_14\">\n     <!-- in-sample-errorlogistic -->\n     <defs>\n      <path d=\"M 9.421875 54.6875 \nL 18.40625 54.6875 \nL 18.40625 0 \nL 9.421875 0 \nz\nM 9.421875 75.984375 \nL 18.40625 75.984375 \nL 18.40625 64.59375 \nL 9.421875 64.59375 \nz\n\" id=\"DejaVuSans-105\"/>\n      <path d=\"M 54.890625 33.015625 \nL 54.890625 0 \nL 45.90625 0 \nL 45.90625 32.71875 \nQ 45.90625 40.484375 42.875 44.328125 \nQ 39.84375 48.1875 33.796875 48.1875 \nQ 26.515625 48.1875 22.3125 43.546875 \nQ 18.109375 38.921875 18.109375 30.90625 \nL 18.109375 0 \nL 9.078125 0 \nL 9.078125 54.6875 \nL 18.109375 54.6875 \nL 18.109375 46.1875 \nQ 21.34375 51.125 25.703125 53.5625 \nQ 30.078125 56 35.796875 56 \nQ 45.21875 56 50.046875 50.171875 \nQ 54.890625 44.34375 54.890625 33.015625 \nz\n\" id=\"DejaVuSans-110\"/>\n      <path d=\"M 4.890625 31.390625 \nL 31.203125 31.390625 \nL 31.203125 23.390625 \nL 4.890625 23.390625 \nz\n\" id=\"DejaVuSans-45\"/>\n      <path d=\"M 44.28125 53.078125 \nL 44.28125 44.578125 \nQ 40.484375 46.53125 36.375 47.5 \nQ 32.28125 48.484375 27.875 48.484375 \nQ 21.1875 48.484375 17.84375 46.4375 \nQ 14.5 44.390625 14.5 40.28125 \nQ 14.5 37.15625 16.890625 35.375 \nQ 19.28125 33.59375 26.515625 31.984375 \nL 29.59375 31.296875 \nQ 39.15625 29.25 43.1875 25.515625 \nQ 47.21875 21.78125 47.21875 15.09375 \nQ 47.21875 7.46875 41.1875 3.015625 \nQ 35.15625 -1.421875 24.609375 -1.421875 \nQ 20.21875 -1.421875 15.453125 -0.5625 \nQ 10.6875 0.296875 5.421875 2 \nL 5.421875 11.28125 \nQ 10.40625 8.6875 15.234375 7.390625 \nQ 20.0625 6.109375 24.8125 6.109375 \nQ 31.15625 6.109375 34.5625 8.28125 \nQ 37.984375 10.453125 37.984375 14.40625 \nQ 37.984375 18.0625 35.515625 20.015625 \nQ 33.0625 21.96875 24.703125 23.78125 \nL 21.578125 24.515625 \nQ 13.234375 26.265625 9.515625 29.90625 \nQ 5.8125 33.546875 5.8125 39.890625 \nQ 5.8125 47.609375 11.28125 51.796875 \nQ 16.75 56 26.8125 56 \nQ 31.78125 56 36.171875 55.265625 \nQ 40.578125 54.546875 44.28125 53.078125 \nz\n\" id=\"DejaVuSans-115\"/>\n      <path d=\"M 34.28125 27.484375 \nQ 23.390625 27.484375 19.1875 25 \nQ 14.984375 22.515625 14.984375 16.5 \nQ 14.984375 11.71875 18.140625 8.90625 \nQ 21.296875 6.109375 26.703125 6.109375 \nQ 34.1875 6.109375 38.703125 11.40625 \nQ 43.21875 16.703125 43.21875 25.484375 \nL 43.21875 27.484375 \nz\nM 52.203125 31.203125 \nL 52.203125 0 \nL 43.21875 0 \nL 43.21875 8.296875 \nQ 40.140625 3.328125 35.546875 0.953125 \nQ 30.953125 -1.421875 24.3125 -1.421875 \nQ 15.921875 -1.421875 10.953125 3.296875 \nQ 6 8.015625 6 15.921875 \nQ 6 25.140625 12.171875 29.828125 \nQ 18.359375 34.515625 30.609375 34.515625 \nL 43.21875 34.515625 \nL 43.21875 35.40625 \nQ 43.21875 41.609375 39.140625 45 \nQ 35.0625 48.390625 27.6875 48.390625 \nQ 23 48.390625 18.546875 47.265625 \nQ 14.109375 46.140625 10.015625 43.890625 \nL 10.015625 52.203125 \nQ 14.9375 54.109375 19.578125 55.046875 \nQ 24.21875 56 28.609375 56 \nQ 40.484375 56 46.34375 49.84375 \nQ 52.203125 43.703125 52.203125 31.203125 \nz\n\" id=\"DejaVuSans-97\"/>\n      <path d=\"M 52 44.1875 \nQ 55.375 50.25 60.0625 53.125 \nQ 64.75 56 71.09375 56 \nQ 79.640625 56 84.28125 50.015625 \nQ 88.921875 44.046875 88.921875 33.015625 \nL 88.921875 0 \nL 79.890625 0 \nL 79.890625 32.71875 \nQ 79.890625 40.578125 77.09375 44.375 \nQ 74.3125 48.1875 68.609375 48.1875 \nQ 61.625 48.1875 57.5625 43.546875 \nQ 53.515625 38.921875 53.515625 30.90625 \nL 53.515625 0 \nL 44.484375 0 \nL 44.484375 32.71875 \nQ 44.484375 40.625 41.703125 44.40625 \nQ 38.921875 48.1875 33.109375 48.1875 \nQ 26.21875 48.1875 22.15625 43.53125 \nQ 18.109375 38.875 18.109375 30.90625 \nL 18.109375 0 \nL 9.078125 0 \nL 9.078125 54.6875 \nL 18.109375 54.6875 \nL 18.109375 46.1875 \nQ 21.1875 51.21875 25.484375 53.609375 \nQ 29.78125 56 35.6875 56 \nQ 41.65625 56 45.828125 52.96875 \nQ 50 49.953125 52 44.1875 \nz\n\" id=\"DejaVuSans-109\"/>\n      <path d=\"M 18.109375 8.203125 \nL 18.109375 -20.796875 \nL 9.078125 -20.796875 \nL 9.078125 54.6875 \nL 18.109375 54.6875 \nL 18.109375 46.390625 \nQ 20.953125 51.265625 25.265625 53.625 \nQ 29.59375 56 35.59375 56 \nQ 45.5625 56 51.78125 48.09375 \nQ 58.015625 40.1875 58.015625 27.296875 \nQ 58.015625 14.40625 51.78125 6.484375 \nQ 45.5625 -1.421875 35.59375 -1.421875 \nQ 29.59375 -1.421875 25.265625 0.953125 \nQ 20.953125 3.328125 18.109375 8.203125 \nz\nM 48.6875 27.296875 \nQ 48.6875 37.203125 44.609375 42.84375 \nQ 40.53125 48.484375 33.40625 48.484375 \nQ 26.265625 48.484375 22.1875 42.84375 \nQ 18.109375 37.203125 18.109375 27.296875 \nQ 18.109375 17.390625 22.1875 11.75 \nQ 26.265625 6.109375 33.40625 6.109375 \nQ 40.53125 6.109375 44.609375 11.75 \nQ 48.6875 17.390625 48.6875 27.296875 \nz\n\" id=\"DejaVuSans-112\"/>\n      <path d=\"M 9.421875 75.984375 \nL 18.40625 75.984375 \nL 18.40625 0 \nL 9.421875 0 \nz\n\" id=\"DejaVuSans-108\"/>\n      <path d=\"M 56.203125 29.59375 \nL 56.203125 25.203125 \nL 14.890625 25.203125 \nQ 15.484375 15.921875 20.484375 11.0625 \nQ 25.484375 6.203125 34.421875 6.203125 \nQ 39.59375 6.203125 44.453125 7.46875 \nQ 49.3125 8.734375 54.109375 11.28125 \nL 54.109375 2.78125 \nQ 49.265625 0.734375 44.1875 -0.34375 \nQ 39.109375 -1.421875 33.890625 -1.421875 \nQ 20.796875 -1.421875 13.15625 6.1875 \nQ 5.515625 13.8125 5.515625 26.8125 \nQ 5.515625 40.234375 12.765625 48.109375 \nQ 20.015625 56 32.328125 56 \nQ 43.359375 56 49.78125 48.890625 \nQ 56.203125 41.796875 56.203125 29.59375 \nz\nM 47.21875 32.234375 \nQ 47.125 39.59375 43.09375 43.984375 \nQ 39.0625 48.390625 32.421875 48.390625 \nQ 24.90625 48.390625 20.390625 44.140625 \nQ 15.875 39.890625 15.1875 32.171875 \nz\n\" id=\"DejaVuSans-101\"/>\n      <path d=\"M 41.109375 46.296875 \nQ 39.59375 47.171875 37.8125 47.578125 \nQ 36.03125 48 33.890625 48 \nQ 26.265625 48 22.1875 43.046875 \nQ 18.109375 38.09375 18.109375 28.8125 \nL 18.109375 0 \nL 9.078125 0 \nL 9.078125 54.6875 \nL 18.109375 54.6875 \nL 18.109375 46.1875 \nQ 20.953125 51.171875 25.484375 53.578125 \nQ 30.03125 56 36.53125 56 \nQ 37.453125 56 38.578125 55.875 \nQ 39.703125 55.765625 41.0625 55.515625 \nz\n\" id=\"DejaVuSans-114\"/>\n      <path d=\"M 30.609375 48.390625 \nQ 23.390625 48.390625 19.1875 42.75 \nQ 14.984375 37.109375 14.984375 27.296875 \nQ 14.984375 17.484375 19.15625 11.84375 \nQ 23.34375 6.203125 30.609375 6.203125 \nQ 37.796875 6.203125 41.984375 11.859375 \nQ 46.1875 17.53125 46.1875 27.296875 \nQ 46.1875 37.015625 41.984375 42.703125 \nQ 37.796875 48.390625 30.609375 48.390625 \nz\nM 30.609375 56 \nQ 42.328125 56 49.015625 48.375 \nQ 55.71875 40.765625 55.71875 27.296875 \nQ 55.71875 13.875 49.015625 6.21875 \nQ 42.328125 -1.421875 30.609375 -1.421875 \nQ 18.84375 -1.421875 12.171875 6.21875 \nQ 5.515625 13.875 5.515625 27.296875 \nQ 5.515625 40.765625 12.171875 48.375 \nQ 18.84375 56 30.609375 56 \nz\n\" id=\"DejaVuSans-111\"/>\n      <path d=\"M 45.40625 27.984375 \nQ 45.40625 37.75 41.375 43.109375 \nQ 37.359375 48.484375 30.078125 48.484375 \nQ 22.859375 48.484375 18.828125 43.109375 \nQ 14.796875 37.75 14.796875 27.984375 \nQ 14.796875 18.265625 18.828125 12.890625 \nQ 22.859375 7.515625 30.078125 7.515625 \nQ 37.359375 7.515625 41.375 12.890625 \nQ 45.40625 18.265625 45.40625 27.984375 \nz\nM 54.390625 6.78125 \nQ 54.390625 -7.171875 48.1875 -13.984375 \nQ 42 -20.796875 29.203125 -20.796875 \nQ 24.46875 -20.796875 20.265625 -20.09375 \nQ 16.0625 -19.390625 12.109375 -17.921875 \nL 12.109375 -9.1875 \nQ 16.0625 -11.328125 19.921875 -12.34375 \nQ 23.78125 -13.375 27.78125 -13.375 \nQ 36.625 -13.375 41.015625 -8.765625 \nQ 45.40625 -4.15625 45.40625 5.171875 \nL 45.40625 9.625 \nQ 42.625 4.78125 38.28125 2.390625 \nQ 33.9375 0 27.875 0 \nQ 17.828125 0 11.671875 7.65625 \nQ 5.515625 15.328125 5.515625 27.984375 \nQ 5.515625 40.671875 11.671875 48.328125 \nQ 17.828125 56 27.875 56 \nQ 33.9375 56 38.28125 53.609375 \nQ 42.625 51.21875 45.40625 46.390625 \nL 45.40625 54.6875 \nL 54.390625 54.6875 \nz\n\" id=\"DejaVuSans-103\"/>\n      <path d=\"M 18.3125 70.21875 \nL 18.3125 54.6875 \nL 36.8125 54.6875 \nL 36.8125 47.703125 \nL 18.3125 47.703125 \nL 18.3125 18.015625 \nQ 18.3125 11.328125 20.140625 9.421875 \nQ 21.96875 7.515625 27.59375 7.515625 \nL 36.8125 7.515625 \nL 36.8125 0 \nL 27.59375 0 \nQ 17.1875 0 13.234375 3.875 \nQ 9.28125 7.765625 9.28125 18.015625 \nL 9.28125 47.703125 \nL 2.6875 47.703125 \nL 2.6875 54.6875 \nL 9.28125 54.6875 \nL 9.28125 70.21875 \nz\n\" id=\"DejaVuSans-116\"/>\n      <path d=\"M 48.78125 52.59375 \nL 48.78125 44.1875 \nQ 44.96875 46.296875 41.140625 47.34375 \nQ 37.3125 48.390625 33.40625 48.390625 \nQ 24.65625 48.390625 19.8125 42.84375 \nQ 14.984375 37.3125 14.984375 27.296875 \nQ 14.984375 17.28125 19.8125 11.734375 \nQ 24.65625 6.203125 33.40625 6.203125 \nQ 37.3125 6.203125 41.140625 7.25 \nQ 44.96875 8.296875 48.78125 10.40625 \nL 48.78125 2.09375 \nQ 45.015625 0.34375 40.984375 -0.53125 \nQ 36.96875 -1.421875 32.421875 -1.421875 \nQ 20.0625 -1.421875 12.78125 6.34375 \nQ 5.515625 14.109375 5.515625 27.296875 \nQ 5.515625 40.671875 12.859375 48.328125 \nQ 20.21875 56 33.015625 56 \nQ 37.15625 56 41.109375 55.140625 \nQ 45.0625 54.296875 48.78125 52.59375 \nz\n\" id=\"DejaVuSans-99\"/>\n     </defs>\n     <g transform=\"translate(445.882812 27.597656)scale(0.1 -0.1)\">\n      <use xlink:href=\"#DejaVuSans-105\"/>\n      <use x=\"27.783203\" xlink:href=\"#DejaVuSans-110\"/>\n      <use x=\"91.162109\" xlink:href=\"#DejaVuSans-45\"/>\n      <use x=\"127.246094\" xlink:href=\"#DejaVuSans-115\"/>\n      <use x=\"179.345703\" xlink:href=\"#DejaVuSans-97\"/>\n      <use x=\"240.625\" xlink:href=\"#DejaVuSans-109\"/>\n      <use x=\"338.037109\" xlink:href=\"#DejaVuSans-112\"/>\n      <use x=\"401.513672\" xlink:href=\"#DejaVuSans-108\"/>\n      <use x=\"429.296875\" xlink:href=\"#DejaVuSans-101\"/>\n      <use x=\"490.820312\" xlink:href=\"#DejaVuSans-45\"/>\n      <use x=\"526.904297\" xlink:href=\"#DejaVuSans-101\"/>\n      <use x=\"588.427734\" xlink:href=\"#DejaVuSans-114\"/>\n      <use x=\"629.525391\" xlink:href=\"#DejaVuSans-114\"/>\n      <use x=\"670.607422\" xlink:href=\"#DejaVuSans-111\"/>\n      <use x=\"731.789062\" xlink:href=\"#DejaVuSans-114\"/>\n      <use x=\"772.902344\" xlink:href=\"#DejaVuSans-108\"/>\n      <use x=\"800.685547\" xlink:href=\"#DejaVuSans-111\"/>\n      <use x=\"861.867188\" xlink:href=\"#DejaVuSans-103\"/>\n      <use x=\"925.34375\" xlink:href=\"#DejaVuSans-105\"/>\n      <use x=\"953.126953\" xlink:href=\"#DejaVuSans-115\"/>\n      <use x=\"1005.226562\" xlink:href=\"#DejaVuSans-116\"/>\n      <use x=\"1044.435547\" xlink:href=\"#DejaVuSans-105\"/>\n      <use x=\"1072.21875\" xlink:href=\"#DejaVuSans-99\"/>\n     </g>\n    </g>\n    <g id=\"line2d_18\">\n     <path d=\"M 417.882812 38.775781 \nL 437.882812 38.775781 \n\" style=\"fill:none;stroke:#ff7f0e;stroke-linecap:square;stroke-width:1.5;\"/>\n    </g>\n    <g id=\"line2d_19\"/>\n    <g id=\"text_15\">\n     <!-- out-of-sample-errorlogistic -->\n     <defs>\n      <path d=\"M 8.5 21.578125 \nL 8.5 54.6875 \nL 17.484375 54.6875 \nL 17.484375 21.921875 \nQ 17.484375 14.15625 20.5 10.265625 \nQ 23.53125 6.390625 29.59375 6.390625 \nQ 36.859375 6.390625 41.078125 11.03125 \nQ 45.3125 15.671875 45.3125 23.6875 \nL 45.3125 54.6875 \nL 54.296875 54.6875 \nL 54.296875 0 \nL 45.3125 0 \nL 45.3125 8.40625 \nQ 42.046875 3.421875 37.71875 1 \nQ 33.40625 -1.421875 27.6875 -1.421875 \nQ 18.265625 -1.421875 13.375 4.4375 \nQ 8.5 10.296875 8.5 21.578125 \nz\nM 31.109375 56 \nz\n\" id=\"DejaVuSans-117\"/>\n      <path d=\"M 37.109375 75.984375 \nL 37.109375 68.5 \nL 28.515625 68.5 \nQ 23.6875 68.5 21.796875 66.546875 \nQ 19.921875 64.59375 19.921875 59.515625 \nL 19.921875 54.6875 \nL 34.71875 54.6875 \nL 34.71875 47.703125 \nL 19.921875 47.703125 \nL 19.921875 0 \nL 10.890625 0 \nL 10.890625 47.703125 \nL 2.296875 47.703125 \nL 2.296875 54.6875 \nL 10.890625 54.6875 \nL 10.890625 58.5 \nQ 10.890625 67.625 15.140625 71.796875 \nQ 19.390625 75.984375 28.609375 75.984375 \nz\n\" id=\"DejaVuSans-102\"/>\n     </defs>\n     <g transform=\"translate(445.882812 42.275781)scale(0.1 -0.1)\">\n      <use xlink:href=\"#DejaVuSans-111\"/>\n      <use x=\"61.181641\" xlink:href=\"#DejaVuSans-117\"/>\n      <use x=\"124.560547\" xlink:href=\"#DejaVuSans-116\"/>\n      <use x=\"163.769531\" xlink:href=\"#DejaVuSans-45\"/>\n      <use x=\"199.869141\" xlink:href=\"#DejaVuSans-111\"/>\n      <use x=\"261.050781\" xlink:href=\"#DejaVuSans-102\"/>\n      <use x=\"296.177734\" xlink:href=\"#DejaVuSans-45\"/>\n      <use x=\"332.261719\" xlink:href=\"#DejaVuSans-115\"/>\n      <use x=\"384.361328\" xlink:href=\"#DejaVuSans-97\"/>\n      <use x=\"445.640625\" xlink:href=\"#DejaVuSans-109\"/>\n      <use x=\"543.052734\" xlink:href=\"#DejaVuSans-112\"/>\n      <use x=\"606.529297\" xlink:href=\"#DejaVuSans-108\"/>\n      <use x=\"634.3125\" xlink:href=\"#DejaVuSans-101\"/>\n      <use x=\"695.835938\" xlink:href=\"#DejaVuSans-45\"/>\n      <use x=\"731.919922\" xlink:href=\"#DejaVuSans-101\"/>\n      <use x=\"793.443359\" xlink:href=\"#DejaVuSans-114\"/>\n      <use x=\"834.541016\" xlink:href=\"#DejaVuSans-114\"/>\n      <use x=\"875.623047\" xlink:href=\"#DejaVuSans-111\"/>\n      <use x=\"936.804688\" xlink:href=\"#DejaVuSans-114\"/>\n      <use x=\"977.917969\" xlink:href=\"#DejaVuSans-108\"/>\n      <use x=\"1005.701172\" xlink:href=\"#DejaVuSans-111\"/>\n      <use x=\"1066.882812\" xlink:href=\"#DejaVuSans-103\"/>\n      <use x=\"1130.359375\" xlink:href=\"#DejaVuSans-105\"/>\n      <use x=\"1158.142578\" xlink:href=\"#DejaVuSans-115\"/>\n      <use x=\"1210.242188\" xlink:href=\"#DejaVuSans-116\"/>\n      <use x=\"1249.451172\" xlink:href=\"#DejaVuSans-105\"/>\n      <use x=\"1277.234375\" xlink:href=\"#DejaVuSans-99\"/>\n     </g>\n    </g>\n   </g>\n  </g>\n </g>\n <defs>\n  <clipPath id=\"p2d2c7d3580\">\n   <rect height=\"380.52\" width=\"558\" x=\"30.103125\" y=\"10.999219\"/>\n  </clipPath>\n </defs>\n</svg>\n"
     },
     "metadata": {
      "needs_background": "light"
     }
    }
   ],
   "metadata": {}
  }
 ],
 "metadata": {
  "interpreter": {
   "hash": "916dbcbb3f70747c44a77c7bcd40155683ae19c65e1c03b4aa3499c5328201f1"
  },
  "kernelspec": {
   "name": "python3",
   "display_name": "Python 3.8.10 64-bit"
  },
  "language_info": {
   "codemirror_mode": {
    "name": "ipython",
    "version": 3
   },
   "file_extension": ".py",
   "mimetype": "text/x-python",
   "name": "python",
   "nbconvert_exporter": "python",
   "pygments_lexer": "ipython3",
   "version": "3.8.10"
  }
 },
 "nbformat": 4,
 "nbformat_minor": 5
}